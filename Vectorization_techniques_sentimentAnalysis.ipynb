{
  "cells": [
    {
      "cell_type": "markdown",
      "metadata": {
        "id": "view-in-github",
        "colab_type": "text"
      },
      "source": [
        "<a href=\"https://colab.research.google.com/github/deviarati18/Vectorization-Techniques-sentimentAnalysis/blob/main/Vectorization_techniques_sentimentAnalysis.ipynb\" target=\"_parent\"><img src=\"https://colab.research.google.com/assets/colab-badge.svg\" alt=\"Open In Colab\"/></a>"
      ]
    },
    {
      "cell_type": "code",
      "execution_count": null,
      "id": "c5529433",
      "metadata": {
        "id": "c5529433"
      },
      "outputs": [],
      "source": [
        "import pandas as pd\n",
        "import string\n",
        "import re\n",
        "from sklearn.tree import DecisionTreeClassifier\n",
        "from sklearn.model_selection import train_test_split\n",
        "from sklearn.metrics import precision_score, recall_score, f1_score,accuracy_score,roc_auc_score,confusion_matrix\n",
        "from sklearn.linear_model import LogisticRegression"
      ]
    },
    {
      "cell_type": "code",
      "execution_count": null,
      "id": "c97168f0",
      "metadata": {
        "id": "c97168f0",
        "outputId": "ef345bd0-07c0-4e9e-b35f-3bb245355673",
        "colab": {
          "base_uri": "https://localhost:8080/",
          "height": 206
        }
      },
      "outputs": [
        {
          "output_type": "execute_result",
          "data": {
            "text/plain": [
              "                                                text sentiment\n",
              "0  RT @NancyLeeGrahn: How did everyone feel about...   Neutral\n",
              "1  RT @ScottWalker: Didn't catch the full #GOPdeb...  Positive\n",
              "2  RT @TJMShow: No mention of Tamir Rice and the ...   Neutral\n",
              "3  RT @RobGeorge: That Carly Fiorina is trending ...  Positive\n",
              "4  RT @DanScavino: #GOPDebate w/ @realDonaldTrump...  Positive"
            ],
            "text/html": [
              "\n",
              "  <div id=\"df-469db16f-50e7-4f1c-9a0b-3dfbef35757c\">\n",
              "    <div class=\"colab-df-container\">\n",
              "      <div>\n",
              "<style scoped>\n",
              "    .dataframe tbody tr th:only-of-type {\n",
              "        vertical-align: middle;\n",
              "    }\n",
              "\n",
              "    .dataframe tbody tr th {\n",
              "        vertical-align: top;\n",
              "    }\n",
              "\n",
              "    .dataframe thead th {\n",
              "        text-align: right;\n",
              "    }\n",
              "</style>\n",
              "<table border=\"1\" class=\"dataframe\">\n",
              "  <thead>\n",
              "    <tr style=\"text-align: right;\">\n",
              "      <th></th>\n",
              "      <th>text</th>\n",
              "      <th>sentiment</th>\n",
              "    </tr>\n",
              "  </thead>\n",
              "  <tbody>\n",
              "    <tr>\n",
              "      <th>0</th>\n",
              "      <td>RT @NancyLeeGrahn: How did everyone feel about...</td>\n",
              "      <td>Neutral</td>\n",
              "    </tr>\n",
              "    <tr>\n",
              "      <th>1</th>\n",
              "      <td>RT @ScottWalker: Didn't catch the full #GOPdeb...</td>\n",
              "      <td>Positive</td>\n",
              "    </tr>\n",
              "    <tr>\n",
              "      <th>2</th>\n",
              "      <td>RT @TJMShow: No mention of Tamir Rice and the ...</td>\n",
              "      <td>Neutral</td>\n",
              "    </tr>\n",
              "    <tr>\n",
              "      <th>3</th>\n",
              "      <td>RT @RobGeorge: That Carly Fiorina is trending ...</td>\n",
              "      <td>Positive</td>\n",
              "    </tr>\n",
              "    <tr>\n",
              "      <th>4</th>\n",
              "      <td>RT @DanScavino: #GOPDebate w/ @realDonaldTrump...</td>\n",
              "      <td>Positive</td>\n",
              "    </tr>\n",
              "  </tbody>\n",
              "</table>\n",
              "</div>\n",
              "      <button class=\"colab-df-convert\" onclick=\"convertToInteractive('df-469db16f-50e7-4f1c-9a0b-3dfbef35757c')\"\n",
              "              title=\"Convert this dataframe to an interactive table.\"\n",
              "              style=\"display:none;\">\n",
              "        \n",
              "  <svg xmlns=\"http://www.w3.org/2000/svg\" height=\"24px\"viewBox=\"0 0 24 24\"\n",
              "       width=\"24px\">\n",
              "    <path d=\"M0 0h24v24H0V0z\" fill=\"none\"/>\n",
              "    <path d=\"M18.56 5.44l.94 2.06.94-2.06 2.06-.94-2.06-.94-.94-2.06-.94 2.06-2.06.94zm-11 1L8.5 8.5l.94-2.06 2.06-.94-2.06-.94L8.5 2.5l-.94 2.06-2.06.94zm10 10l.94 2.06.94-2.06 2.06-.94-2.06-.94-.94-2.06-.94 2.06-2.06.94z\"/><path d=\"M17.41 7.96l-1.37-1.37c-.4-.4-.92-.59-1.43-.59-.52 0-1.04.2-1.43.59L10.3 9.45l-7.72 7.72c-.78.78-.78 2.05 0 2.83L4 21.41c.39.39.9.59 1.41.59.51 0 1.02-.2 1.41-.59l7.78-7.78 2.81-2.81c.8-.78.8-2.07 0-2.86zM5.41 20L4 18.59l7.72-7.72 1.47 1.35L5.41 20z\"/>\n",
              "  </svg>\n",
              "      </button>\n",
              "      \n",
              "  <style>\n",
              "    .colab-df-container {\n",
              "      display:flex;\n",
              "      flex-wrap:wrap;\n",
              "      gap: 12px;\n",
              "    }\n",
              "\n",
              "    .colab-df-convert {\n",
              "      background-color: #E8F0FE;\n",
              "      border: none;\n",
              "      border-radius: 50%;\n",
              "      cursor: pointer;\n",
              "      display: none;\n",
              "      fill: #1967D2;\n",
              "      height: 32px;\n",
              "      padding: 0 0 0 0;\n",
              "      width: 32px;\n",
              "    }\n",
              "\n",
              "    .colab-df-convert:hover {\n",
              "      background-color: #E2EBFA;\n",
              "      box-shadow: 0px 1px 2px rgba(60, 64, 67, 0.3), 0px 1px 3px 1px rgba(60, 64, 67, 0.15);\n",
              "      fill: #174EA6;\n",
              "    }\n",
              "\n",
              "    [theme=dark] .colab-df-convert {\n",
              "      background-color: #3B4455;\n",
              "      fill: #D2E3FC;\n",
              "    }\n",
              "\n",
              "    [theme=dark] .colab-df-convert:hover {\n",
              "      background-color: #434B5C;\n",
              "      box-shadow: 0px 1px 3px 1px rgba(0, 0, 0, 0.15);\n",
              "      filter: drop-shadow(0px 1px 2px rgba(0, 0, 0, 0.3));\n",
              "      fill: #FFFFFF;\n",
              "    }\n",
              "  </style>\n",
              "\n",
              "      <script>\n",
              "        const buttonEl =\n",
              "          document.querySelector('#df-469db16f-50e7-4f1c-9a0b-3dfbef35757c button.colab-df-convert');\n",
              "        buttonEl.style.display =\n",
              "          google.colab.kernel.accessAllowed ? 'block' : 'none';\n",
              "\n",
              "        async function convertToInteractive(key) {\n",
              "          const element = document.querySelector('#df-469db16f-50e7-4f1c-9a0b-3dfbef35757c');\n",
              "          const dataTable =\n",
              "            await google.colab.kernel.invokeFunction('convertToInteractive',\n",
              "                                                     [key], {});\n",
              "          if (!dataTable) return;\n",
              "\n",
              "          const docLinkHtml = 'Like what you see? Visit the ' +\n",
              "            '<a target=\"_blank\" href=https://colab.research.google.com/notebooks/data_table.ipynb>data table notebook</a>'\n",
              "            + ' to learn more about interactive tables.';\n",
              "          element.innerHTML = '';\n",
              "          dataTable['output_type'] = 'display_data';\n",
              "          await google.colab.output.renderOutput(dataTable, element);\n",
              "          const docLink = document.createElement('div');\n",
              "          docLink.innerHTML = docLinkHtml;\n",
              "          element.appendChild(docLink);\n",
              "        }\n",
              "      </script>\n",
              "    </div>\n",
              "  </div>\n",
              "  "
            ]
          },
          "metadata": {},
          "execution_count": 3
        }
      ],
      "source": [
        "data = pd.read_csv(\"sa_data.csv\")\n",
        "data.head()"
      ]
    },
    {
      "cell_type": "code",
      "execution_count": null,
      "id": "79f843ef",
      "metadata": {
        "id": "79f843ef"
      },
      "outputs": [],
      "source": [
        "corpus=data['text'].tolist()"
      ]
    },
    {
      "cell_type": "code",
      "execution_count": null,
      "id": "f5620d3b",
      "metadata": {
        "id": "f5620d3b",
        "outputId": "890b298f-b2b2-49d9-8b3b-6d1c17fe203e",
        "colab": {
          "base_uri": "https://localhost:8080/"
        }
      },
      "outputs": [
        {
          "output_type": "execute_result",
          "data": {
            "text/plain": [
              "['RT @NancyLeeGrahn: How did everyone feel about the Climate Change question last night? Exactly. #GOPDebate',\n",
              " \"RT @ScottWalker: Didn't catch the full #GOPdebate last night. Here are some of Scott's best lines in 90 seconds. #Walker16 http://t.co/ZSfF…\",\n",
              " 'RT @TJMShow: No mention of Tamir Rice and the #GOPDebate was held in Cleveland? Wow.',\n",
              " \"RT @RobGeorge: That Carly Fiorina is trending -- hours after HER debate -- above any of the men in just-completed #GOPdebate says she's on …\",\n",
              " 'RT @DanScavino: #GOPDebate w/ @realDonaldTrump delivered the highest ratings in the history of presidential debates. #Trump2016 http://t.co…',\n",
              " 'RT @GregAbbott_TX: @TedCruz: \"On my first day I will rescind every illegal executive action taken by Barack Obama.\" #GOPDebate @FoxNews',\n",
              " 'RT @warriorwoman91: I liked her and was happy when I heard she was going to be the moderator. Not anymore. #GOPDebate @megynkelly  https://…',\n",
              " 'Going on #MSNBC Live with @ThomasARoberts around 2 PM ET.  #GOPDebate',\n",
              " 'Deer in the headlights RT @lizzwinstead: Ben Carson, may be the only brain surgeon who has performed a lobotomy on himself. #GOPDebate',\n",
              " \"RT @NancyOsborne180: Last night's debate proved it! #GOPDebate #BATsAsk @BadassTeachersA #TBATs  https://t.co/G2gGjY1bJD\",\n",
              " '@JGreenDC @realDonaldTrump In all fairness #BillClinton owns that phrase.#GOPDebate',\n",
              " 'RT @WayneDupreeShow: Just woke up to tweet this out #GOPDebate \\n\\nBest line of the night via @GovMikeHuckabee http://t.co/6OV5hxHIcV',\n",
              " \"Me reading my family's comments about how great the #GOPDebate was http://t.co/gIaGjPygXZ\",\n",
              " 'RT @ArcticFox2016: RT @AllenWestRepub \"Dear @JebBush #GOPDebate #NotAMistake http://t.co/TtFG7KYcd9\"',\n",
              " \"RT @pattonoswalt: I loved Scott Walker as Mark Harmon's romantic rival in SUMMER SCHOOL. Look it up. #GOPDebate\",\n",
              " \"Hey @ChrisChristie exploiting the tragedy of 9/11 for your own political gain is @rudygiulianiGOP's thing #GOPDebate\",\n",
              " 'RT @CarolCNN: #DonaldTrump under fire for comments about women @PeterBeinart @SL_Schaeffer @IWF @@MyRkiger weigh in on #GOPdebate http://t.…',\n",
              " 'RT @johncardillo: Guess who had most speaking time at the #GOPDebate. @FoxNews moderators with 31.7% of time. http://t.co/2WSUT0c0Lx',\n",
              " \"reason comment is funny 'in case you're ignorant' is the #gop #tcot are the reason the government isn't working for the people #gopdebate\",\n",
              " 'RT @PamelaGeller: Huckabee: Paying for transgender surgery for soldiers, sailors and airmen does not make our country safer #Ha #GOPDebate',\n",
              " 'RT @ChuckNellis: Cruz has class &amp; truth, that gets my vote! #GOPDebate',\n",
              " \"RT @mchamric: RT “@TeaTraitors: #GOPDebate was still Clown Show! I'm glad Head Clown Trump helping destroy GOP. http://t.co/nwGx8G8JWr”\",\n",
              " 'RT @erinmallorylong: No *I* hate Planned Parenthood and women more! NO I HATE PLANNED PARENTHOOD AND WOMEN MORE!!!!! #GOPDebate',\n",
              " 'RT @thekevinryder: #GOPDebate (Vine by @dabulldawg88) https://t.co/XKxVDrADce',\n",
              " 'RT @MrPooni: Fox News trying to convince us young Black Americans are more worried about ISIS than police terrorism #GOPDebate http://t.co/…',\n",
              " '#GOPDebate rankings: worst to be performance - Rubio, Kasich, Christie, Bush, Trump, Cruz, Walker, Paul, Huckabee, Carson.',\n",
              " \"RT @TheBaxterBean: Scott Walker's Abortion Ban Allows Rapist Father To Sue For Emotional Distress http://t.co/rHMvgumuir #GOPDebate @Badger…\",\n",
              " \"RT @feministabulous: It's not a competition, but how have we moved so far on gay rights but women's rights is worse than it's ever been? #G…\",\n",
              " \"RT @mch7576: RT “@TeaTraitors: #GOPDebate was still Clown Show! I'm glad Head Clown Trump helping destroy GOP. http://t.co/pRy2QPCWfu””\",\n",
              " 'RT @HillaryClinton: Watch the #GOPdebate? Bet you feel like donating to a Democrat right about now. http://t.co/pGlQCqQgOP http://t.co/QP1e…',\n",
              " \"@fbhw they're going to need to borrow the train horn for the next #GOPDebate ! The little bell was wimpy! #hornmeansyouredone\",\n",
              " 'RT @LisaVikingstad: Ted Cruz at the #GOPDebate will be like Ted Cruz in bed. He will keep a confusingly sad look on his face and refuse to …',\n",
              " 'The First #GOPDebate: Social Media Reaction and More http://t.co/X6KUVSkltF',\n",
              " '#SocialMedia: The First #GOPDebate: Social Media Reaction and More http://t.co/ogoYfNyiKj',\n",
              " 'RT WinesdayPodcast : An update on FoxNews tech failures for the #GOPDebate http://t.co/FGGlf2J5HU http://t.co/Zw35DkUozi',\n",
              " 'RT @AmyMek: The Torched has been passed -&gt;.@CandyCrowley is no longer the most Famous Political Assassin! Congratulations @megynkelly, U Wi…',\n",
              " 'RT @stockwizards3: Trump/Carson ticket would win in a landslide...\\n@realDonaldTrump @seanhannity @AnnCoulter #Republican #potus #Trump2016 …',\n",
              " 'RT @kvxrdashian: Jeb Bush: \"Obama is at fault, not my brother, because Obama didn\\'t clean up the mess my brother made.\" #GOPDebate http://t…',\n",
              " 'RT @ali: After the Fox News #GOPDebate, we primary voters are none the wiser on the policy plans these folks are putting forth. Journalism …',\n",
              " \"RT @itsashlyperez: listening to fetty wap while packing because i'm a true american #GOPDebate #doesthishashtagexpire?\",\n",
              " 'RT @mgell: Trump is a cross between the shrug emoji and President Business from the Lego movie. #GOPDebate',\n",
              " 'RT @JamelleMyBelle: Meanwhile, in the White House...  #GOPDebate http://t.co/nouUUt5hKq',\n",
              " 'RT @RowdyGentleman: If you’re planning out a #GOPDebate drinking game right now, you’re a Rowdy Gentleman.',\n",
              " 'RT @brownblaze: PLEASE RT. #KKKorGOP #GOPDebate http://t.co/YaqYAC3uV3',\n",
              " 'Trump thinks criticism of his misogynistic remarks is a \"political correctness\" problem. Nope, it\\'s a pervasive #sexism problem. #GOPDebate',\n",
              " 'RT @LeKarmaSucre: How the #GOPDebate handled #BlackLivesMatter \\n\\nhttp://t.co/8ZGdY6lPCT',\n",
              " 'RT @palmaceiahome1: The goal of #FoxNews last night was to take out Trump and pave the way for a RINO like Bush or Kasich. #GOPDebate',\n",
              " 'RT @philstockworld: From our Live Chat Room: #GOPDebate #Trump #Futures $SPY #NonFarmPayrolls #Jobs #Netflix -- http://t.co/0K06Sf81rq http…',\n",
              " '“@DanScavino: #GOPDebate w/ @realDonaldTrump delivered the highest ratings in the history of presidential debates. #Trump2016 Fox say thanks',\n",
              " 'RT @gov: Most-Tweeted @GovMikeHuckabee #GOPDebate moment: saying purpose of military \"to kill people/break things\" re trans servicemembers',\n",
              " 'RT @ariannahuff: The best and worst from the #GOPDebate http://t.co/YkI30j7hhO',\n",
              " 'RT @megynkelly: .@ChrisStirewalt: Big moments were @RandPaul vs. @ChrisChristie, and @realDonaldTrump reaction to women question. #KellyFil…',\n",
              " \"RT @STYLEMOM: Here's a question, WHY in the hell are WOMEN &amp; our body parts even in this debate? Foh, stop it, it's not 1965 wtf #GOPDebate…\",\n",
              " \"@rushlimbaugh Americans getting beheaded overseas and @megynkelly is worried whether @realDonaldTrump calls Rosie O'Donnell fat? #GOPDebate\",\n",
              " \"RT @ChuckNellis: I won't defend @FoxNews, they were FAR from fair OR balanced last night, but name calling is juvenile. #GOPDebate\",\n",
              " 'RT @theskysgoneout: To non-Christians, #GOPDebate \"God\" questions underline how little anyone really cares about religious minorities. Chri…',\n",
              " 'RT @Bipartisanism: The #GOPDebate response to #BlackLivesMatter was pathetic. http://t.co/isMXbrRM0h',\n",
              " 'RT @factcheckdotorg: .@JebBush said he cut FL taxes by $19B. But that includes cuts in estate taxes mandated by federal law. #GOPDebate. ht…',\n",
              " 'RT @mydaughtersarmy: Dear GOP,\\nIf you want to stop abortions... \\n\\n#GOPDebate \\nhttp://t.co/RbL1t4iPx6',\n",
              " 'RT @KarrattiPaul: Join ISIS and sign your death warrant,\\nSigned @tedcruz next President of the US\\U000fe4e6\\n\\n#GOPDebate #WakeUpAmerica #CruzCrew htt…',\n",
              " 'RT @P0TUS: #GOPDebate closing statements: http://t.co/S15NLilLso',\n",
              " 'RT @AmyMek: Status 👉 Single \\n\\nI broke up with @FoxNews last night!   Goodbye @megynkelly, @BretBaier &amp; Chris Wallace.\\n\\n#GOPDebate http://t.…',\n",
              " 'RT @FrankLuntz: Before the #GOPDebate, 14 focus groupers said they had favorable view of Trump.\\n\\nAfter, only 3 saw him positively.  http://…',\n",
              " 'RT @_Holly_Renee: Just made my first donation to @CarlyFiorina.\\nSo impressed by her #GOPDebate performance.\\n#Fiorina http://t.co/JLfhFvZ7ST',\n",
              " 'RT @TheJimHughes: If we want to stop sending foreign aid to places that burn our flag can we start with Berkeley? #GOPDebate',\n",
              " 'RT @frankthorpNBC: The Rand Paul eye roll to Chris Christie at the #GOPDebate https://t.co/hf318QSoWD',\n",
              " \"RT @JohnKasich: Scrap the President's Iran deal. Iran can’t get a nuke. #Kasich4Us #GOPDebate http://t.co/9TrZxOnLZF\",\n",
              " \"Trying to decide if it's too early to come back to Twitter fulltime. Was gonna wait closer to election but the #GOPDebate may have me hooked\",\n",
              " \"RT @MsPackyetti: Donald Trump's campaign reveals 1 important thing: Twitter Trolls are real people.\\n\\nAnd they vote. \\n\\nThat should scare eve…\",\n",
              " 'RT @Bipartisanism: Those saying \"don\\'t worry, Trump will NEVER be elected\" need to remember we elected George Bush. Twice. #GOPDebate http:…',\n",
              " 'Fox News Had Its Own #GOPDebate Agenda: Promote Carly \"never mention fired from HP\" Fiorina, &amp; run Trump out of race http://t.co/9k1eujdFo7',\n",
              " 'RT @HlLLARY: Oh, one more thing. Did anyone hear anything about affordable child care for working families last night in the #GOPDebate ? I…',\n",
              " 'RT @NaughtyBeyotch: RT @AllenWestRepub \"Dear @JebBush #GOPDebate #NotAMistake http://t.co/WQnSuPSPkC\"',\n",
              " '@marthamaccallum @billhemmer #gopdebate Bill and Martha were the A Team in the first debate. 2nd debate was an ambush.',\n",
              " 'The Country\\'s going to hell and Megyn Kelly on #FoxNews is attacking Trump for a \"war on women?\" #GOPDebate',\n",
              " 'RT @Franklin_Graham: 1st #GOPDebate--Encouraging to see several candidates express their faith in God and His Son, Jesus Christ. http://t.c…',\n",
              " 'RT @SnarkyDemo: #DonaldTrump said he’s not “politically correct.”  Which, of course, is Trumpspeak for “Let’s face it, I’m huge asshole.” #…',\n",
              " 'RT @Bipartisanism: A message to the #GOPDebate candidates: http://t.co/WFK5CmVgiN',\n",
              " \"RT @davidcicilline: This is the worst episode of The Apprentice that I've ever seen. #GOPDebate\",\n",
              " 'RT @GovMikeHuckabee: Luntz: \"As the lines go up, they almost reach 100. It almost never happens in the dial research we do.\" #GOPDebate\\nhtt…',\n",
              " 'RT @lolhayley: \"The purpose of the military is to kill people and break things.\" - something an actual man running for president just said …',\n",
              " 'Wondering if I could get the Republican Party to pay for my liver transplant after playing @mtaibbi #GOPDebate drinking game last night.',\n",
              " 'RT @BrandonDHowell: Great way to start Friday. #CarlyFiorina @CarlyFiorina #GOPDebate http://t.co/1ai9CuZ8bY',\n",
              " \"RT @tedcruz: If elected, on my first day as President, I'll rescind every illegal and unconstitutional executive order enacted by Pres. Oba…\",\n",
              " 'RT @Ronnie2K: Donald Trump during #GOPDebate be like... https://t.co/jCUirk1i1u',\n",
              " 'RT @bruneski: Was upstairs putting the kids to bed. How many questions about climate change did I miss? #GOPDebate #GOPClownCar',\n",
              " 'They’re all Todd Akin now: How the Planned Parenthood sting backfired on Republicans #GOPDebate #StandwithPP \\nhttp://t.co/ekXPfKtHQn',\n",
              " 'RT @learjetter: Hey @Foxnews let #REPUBLICANS digest #GOPDebate before allowing crazy @DWStweets to TRASH OUR #GOP! @LadySandersfarm http:/…',\n",
              " 'RT @TheBaxterBean: Watch Donald Trump Receive Enormous Applause for Horribly Misogynistic #GOPDebate Answer http://t.co/R4e8TpOtd5 http://t…',\n",
              " 'A few of my favorite #Twitter responses to the #GOPDebate last night: http://t.co/2IqcdrCdlm http://t.co/7TDMA3VLM8',\n",
              " \"Even though she's a super conservative reporter, I actually like Megyn Kelly's interview style &amp; she did great at the #GOPDebate\",\n",
              " \"RT @kingsthings: The #GOPdebate is not a debate at all. It's a series of 1 minute opportunities to avoid answering a question one candidate…\",\n",
              " 'RT @MelissaGracey: Credit for this joke goes to someone else but it is funny! #GOPDebate http://t.co/iCreDSSplR',\n",
              " \"RT @Reince: Simply incredible. http://t.co/apXM8AO8jf Last night's #GOPDebate doubled the previous record for most-watched primary debate i…\",\n",
              " 'RT @KateThomas: This literally couldn\\'t be more true for me. \"I Watched the #GOPDebate &amp; All I Got Was a Lousy Hangover\" http://t.co/cxch7X…',\n",
              " 'RT @fl_dreamer: Haha a little saas from @voxdotcom this morning towards @realDonaldTrump. #FactChecked #GOPDebate http://t.co/dAeCtmLlaj',\n",
              " 'RT @TexasCruzn: RT @AllenWestRepub \"Dear @JebBush #GOPDebate #NotAMistake http://t.co/1z3VuFjZlw\"',\n",
              " 'RT @zellieimani: What people saw in person vs what we saw on tv. #GOPDebate http://t.co/QlGsXRH5Hw',\n",
              " \"RT @TheBaxterBean: Marco Rubio Told To His Face He's 'Candidate Of Yesterday' For His Anti-Gay Bigotry http://t.co/a4EiuETTLf #GOPDebate ht…\",\n",
              " \"RT @carIisIe: None of them have made Trump look out of place or foolish yet. Think about that. When you're done crying, think about it agai…\",\n",
              " 'RT @akbarjenkins: Maybe the GOP just got Piven &amp; Cloward confused with Pinkard &amp; Bowden? \"She thinks I steal cars...\" @kevinbaker @KevinMKr…',\n",
              " 'Had a great time watching the #GOPDebate last night http://t.co/qCmxMU8MLP',\n",
              " 'RT @JRehling: #GOPDebate Donald Trump says that he doesn\\'t have time for political correctness. How does calling women \"fat pigs\" save him …',\n",
              " 'RT @theonlyadult: This is the @POTUS we have now. One of the people on TV now might be the next one. RIP everything. #GOPDebate http://t.co…',\n",
              " 'I think @realDonaldTrump was caught by surprise by that first question and was never able to recover his equilibrium. #GOPDebate',\n",
              " 'RT @kirahoffy: \"@FoxNews web stream and mobile app fail during #GOPDebate” … Why am I not surprised? http://t.co/tkpEsoOEZT',\n",
              " 'RT @JohnKasich: John Kasich helped Ohioans create 350,000 new jobs. He can do it for America. #GOPDebate http://t.co/kBzfBJyp2C',\n",
              " 'Please help the Maryknoll Sisters replace windows in their convent https://t.co/fDgXG3VV13 #Catholic #gofundme #trcot #GOPDebate',\n",
              " 'RT @CarlyFiorina: At #GOPDebate, I won over our largest audience yet. Can you chip in $3 to help us keep it up?https://t.co/nzYnC1JRxS\\nhttp…',\n",
              " 'Trump just said @JebBush is a true gentleman &amp; then they started violently 69ing. #GOPDebate',\n",
              " 'RT @cameronesposito: Ugh will these guys ever shut up about how much they respect women? #GOPDebate',\n",
              " 'RT @SnarkyDemo: What did the #GOPDebate teach us about a future President Trump?  America probably won’t be safe, except if we’re attacked …',\n",
              " 'RT @congoboy: This is going to be a long, tiring election season. \\n\"shockingly ill-informed\" candidates at #GOPDebate\\nhttp://t.co/vTK1k0tXi…',\n",
              " 'RT @AmyMek: \"God has blessed the Republican party with many great candidates, @TheDemocrats can\\'t even find one\" - @marcorubio #GOPDebate',\n",
              " 'RT @JohnKasich: The miracle can happen to you. Grow opportunity and grow jobs. #GOPDebate http://t.co/lNqhDgTUdK',\n",
              " \"RT @MattyIceAZ: Scott Walker can't even carry his own state. #GOPDebate\",\n",
              " 'RT @XLNB: Black people, if you need anymore indication why Republicans hate us. Peep this. #GOPDebate http://t.co/Bh0ChsY5Eh',\n",
              " 'RT @Smethanie: Sure, God told me I should run, and the Tooth Fairy agreed and all the Teletubbies voted yes, so here I am. #GOPDebate',\n",
              " 'RT @palmaceiahome1: Trump should have told Megyn Kelly to go to HELL! #FoxNews #GOPDebate',\n",
              " 'RT @palmaceiahome1: Caller on the Rush Limbaugh show:\"I have lost all respect for Fox News.\" #FoxNews #GOPDebate',\n",
              " 'RT @realDonaldTrump: \"@stinger_inc: @realDonaldTrump  @megynkelly\\'s behaviour at the #GOPDebate was astonishingly biased.\"',\n",
              " 'Republicans Debate Economics: Rubio Wins, Bush Falters, Huckabee Exaggerates http://t.co/mOlloaQhWQ #GOPdebate #knowmorenotless @GPNAPLang',\n",
              " \"RT @JamesViser: Huh. Half of Clinton's charity went to...the Clintons! http://t.co/BVwRoSgWAL #copolitics #Hillary2016 #StopHillary #UniteB…\",\n",
              " 'RT @kraig4u: #GOPDebate  The order was to \"take out Trump\", but I wonder if FOX News was the one who took the \"order\" seriously. @HeidiL_RN',\n",
              " 'RT @DiegoUK: Democrats watching the #GOPDebate last night http://t.co/7v4WJok3vM \\n#p2 #ctl #topprog #tcot #tlot',\n",
              " 'RT @AmyMek: We all owe @realDonaldTrump a huge thank you 4 exposing to the world👉@megynkelly, Chris Wallace, &amp; @FrankLuntz are true Rhinos!…',\n",
              " 'RT @TheBaxterBean: Scott Walker Lies: Says WI Budget Has $535M Surplus (Actually Has $1.76B Deficit) http://t.co/VVMxzkxLKr #GOPDebate http…',\n",
              " \"You're right Last I heard @SenSanders was that only women could give birth to s child. Has that changed? #GOPDebate  https://t.co/5HkCefp1hf\",\n",
              " 'RT @pattonoswalt: \"Have any of you received a word from God?\" = \"Are any of you soup-sandwich crazy?\" #GOPDebate',\n",
              " 'RT @FrankConniff: Fox News #GOPDebate interviewer to candidates: \"What\\'s your take on these GOP talking points I\\'m feeding you?\"',\n",
              " 'RT @LeslieMac: But the murder of black ppl is just fine- just not unborn black babies? #GOPLogic #GOPDebate',\n",
              " 'RT @HillaryClinton: Missing Jon Stewart already. #GOPdebate #JonVoyage -H',\n",
              " 'RT @CharlotteLaws: Chris Christie is really standing out at the #GOPdebate',\n",
              " 'RT @libertyjibbet: Hey .@realDonaldTrump You know who didn\\'t whine about \"unfair\" questions? @CarlyFiorina Grow a set why don\\'t ya\\'. #GOPDe…',\n",
              " \"You can't be pro-life AND have watched that 2 hour abortion last night.\\n#GOPDebate #forkedtongue #IseeOrangePeople\",\n",
              " 'RT @DanScavino: .@MegynKelly,\\nYou failed the American people tonight. \\nYou tried to make history, by destroying @realDonaldTrump. #KellyFai…',\n",
              " 'RT @edstetzer: Btw... when you mix politics and religion, you get politics. #GOPDebate',\n",
              " 'RT @TeamMarco: Marco nailed it on abortion. We must protect life. #GOPDebate http://t.co/Nn6S7dO22J',\n",
              " '@megynkelly @BretBaier @foxnews WTF was up with Chris Wallace attacking #Trump2016 on bankruptcy then giving Rubio a softball? #GOPDebate',\n",
              " \"They obviously didn't get the memo about #SeersuckerThursday. #GOPDebate http://t.co/LZagRRtZfl\",\n",
              " \"RT @VH1: Honestly, Donald Trump you were ALL types of petty at last night's #GOPDebate 😒 --&gt; http://t.co/QxdoeMfuqO http://t.co/mcr6lrJh2h\",\n",
              " \"RT @TuxcedoCat: All Republican dopefuls who say they'll take US back to 2009 on 'Day One' will never see one day in White House! #GOPDebate…\",\n",
              " 'Trump gloating abt buying GOP+Dem pols &amp;them doing his bidding IS my 2000s Billionaire caricature MyaCash #GOPDebate https://t.co/5spmU3csIc',\n",
              " 'RT @peddoc63: Go Carly📢\\nGo Carly📢\\nGo Carly📢\\n@CarlyFiorina #Carly2016 #GOPDebate\\n@FlyoverCulture @LeahR77 @steph93065 @MaydnUSA http://t.co/…',\n",
              " 'RT @Daenerys: Listening to the #GOPDebate like http://t.co/3JrCuQdAFu',\n",
              " 'RT @ScorpionsPriest: Best moment of the #GOPDebate last night: Rand telling Christie to go get another hug from Obama.',\n",
              " \"RT @JohnFugelsang: If you missed either #GOPDebate all you need to know is there's no $ for struggling Americans and unlimited $ for war.\",\n",
              " \"RT @pfikac: .@JebBush 'We are on the verge of the greatest time to be alive in this world but Washington is holding us back' #mysa #txlege …\",\n",
              " 'RT @DrMartyFox: #Trump Wins Drudge \\nDebate Poll \\n\\n➡️ By A Landslide \\n\\n#TedCruz #2 \\n\\n#GOPDebate #PJNET🇺🇸  \\n☑️ http://t.co/YUh6j7QqHA http://…',\n",
              " 'RT @SiteROI: @GovernorPerry fights back against \"what will you do abt immigration\" Q. Says border is porous, and that must be fixed first. …',\n",
              " 'Summary is the #GOPDebate: Status quo shit show',\n",
              " 'RT @ThePatriot143: Debbie Blocks Tweeter Who Questioned Dem Debate Schedule  http://t.co/gXNa0TOqaQ #GOPDebate @DWStweets http://t.co/kxIKF…',\n",
              " 'RT @sallykohn: Hey look, it’s 10 men standing on a stage arguing why they should get to control women’s bodies and choices. #GOPDebate',\n",
              " 'RT @TheBaxterBean: Rubio Budget Raises MiddleClass Taxes, Adds $4.5T Deficit, Cuts InvestmentTax To $0 http://t.co/9S9NuVSAf7 #GOPDebate ht…',\n",
              " 'RT @ChrisJZullo: Last night at the #GOPdebate all I saw was a bunch of Rich and Old despots with ZERO solutions to our nations problems #un…',\n",
              " 'RT @NancyOsborne180: #GOPDebate #BATsAsk @BadassTeachersA #TBATs Debate over We learned nothing new \\nhttp://t.co/VMtnRi7xev http://t.co/6mt…',\n",
              " 'RT @RFHKerry: If you think ANY of these people are qualified...unfollow me.  #GOPDebate',\n",
              " 'RT @Bipartisanism: Ben Carson spoke about science at the #GOPDebate and @neiltyson was like: http://t.co/bYoOH7i3N6',\n",
              " \"Who's the real illegal alien- #GOPDebate  Farrakhan on Immigration  the Mexican Bor... https://t.co/lkLfFN2LFy via @YouTube\",\n",
              " '#GOPDebate The talking heads put on the debate now the talking heads are telling us how the debates went. Maybe we wasted our time watching',\n",
              " 'RT @STEEL5757: 🎀 #DonaldTrump Plaza Casino #TeddyBear Plush in #Tuxedo 🎀 http://t.co/QHTTX0PLDG 🎀 #CoolStuff #GOPDebate http://t.co/QJUnzjY…',\n",
              " '#Trump is right about @megynkelly but really needs to study Matthew 7, verses 3-5. #GOPDebate  https://t.co/ygNprhiehV',\n",
              " 'RT @AC360: It wasn’t all #DonaldTrump. The most memorable #GOPDebate moments right now on #AC360. http://t.co/kDNhGj2RY3 http://t.co/HZ9GwE…',\n",
              " '#GOPDebate in one picture http://t.co/WMmucJUqJu',\n",
              " 'RT @maureenjohnson: \"Where do you think women should sleep when they have The Curse? The shed? Or in an open field, not on your property?\\' …',\n",
              " '\"I think God\\'s a pretty fair guy\" -Ben Carson, neurosurgeon, on his belief modern day taxation should be based on an ancient book\\n#GOPDebate',\n",
              " 'RT @NancyLeeGrahn: The cheers from #GOPDebate  audience afterTrump defiantly named @Rosie as the woman he called \"Fat Pig\" were the voices …',\n",
              " \"#BlackLives don't matter, apparently, to Republican candidates for president  http://t.co/8rfevFWSXx / or to @FoxNews #uniteblue #GOPDebate\",\n",
              " 'Overall the main thing we learned from the #GOPDebate is that only straight, white, men matter.',\n",
              " '@USFree4life I thought @seanhannity had the best post #GOPDebate interviews of the night, gave them all a chance 2straighten their position.',\n",
              " \"RT @JohnKasich: Hey @RealDonaldTrump, if you're still looking to chip in, check out http://t.co/dy8KnZ122T\\n\\n#GOPDebate\",\n",
              " '@megynkelly @BretBaier #ChrisWallace, #America is criticizing UR PERFORMANCES during #GOPDebate b/c U did a REALLY bad job as \"moderators.\"',\n",
              " '“@GovMikeHuckabee: Luntz: \"As the lines go up, they almost reach 100. It almost never happens in the dial research we do.\" #GOPDebate rigged',\n",
              " 'RT @oftenimprudent: I wish we could teach teenage girls to love themselves as much as Donald Trump loves himself. #GOPdebate',\n",
              " 'RT @AmyMek: Conservatives are a people without a Network! \\n\\n#GOPDebate @FoxNews',\n",
              " \"RT @BHowl_: How come there's no talk about climate change? Has anyone here even seen California right now? #GOPDebate #DebateWithBernie\",\n",
              " 'RT @travisconsidine: .@GovernorPerry #GOPDebate Performance Review-Reel: https://t.co/o5QUROZbku #Perry2016',\n",
              " \"RT @ChrisJZullo: Last night they could have have raised their hands. I'm a spoiled billionaire, I'm an oligarch, I'm a racist, I'm a religi…\",\n",
              " '#GOPDebate 2016 #teamdrbencarson @RealBenCarson  WOW! Brilliant, Cool, Calm &amp; Collected.#empowering',\n",
              " \"RT @SooperMexican: Ted Cruz doesn't appreciate your emphatically sarcastic air quotes, megan kelly. #GOPDebate\",\n",
              " \"RT @BenJamminWalker: Under no circumstances should 10 men dictate abortion rights to women. It's the 21st Century, we are better than that.…\",\n",
              " 'RT @DanScavino: #GOPDebate Winner!\\nDrudge 50% (187K) @realDonaldTrump \\nTIME 46% (25K) @realDonaldTrump \\nFOXSD 49% @realDonaldTrump http://t…',\n",
              " 'RT @JoePrich: .@megynkelly  In 2012 you chided @CandyCrowley for \"going from objective moderator to active participant\" #GOPDebate http://t…',\n",
              " '#GOPDebate @FoxNews @realDonaldTrump  in1996 you called @billclinton a two timing slut.  Do you stand by that statement!?',\n",
              " 'RT @renomarky: ☑ never watch #KellyFile again\\n\\n1. #GOPDebate questions \\n2. Pandering to @DWStweets \\n3. Making it about ratings not🇺🇸 http:/…',\n",
              " 'IMHO #GOPDebate \\nwinners #MarcoRubio #Kasich #DonaldTrump \\nLosers #ScottWalker #RandPaul #BenCarson \\nAll others were completely forgettable',\n",
              " \"RT @JohnKasich: SMALLER GOVT: Ohio government payroll is smaller than it's been in 3 decades. http://t.co/IGfIF4J1TT #GOPDebate http://t.co…\",\n",
              " 'RT @zellieimani: Twitter Users Takeover #GOPDebate Hashtag to Drag GOP Candidates https://t.co/lMzNoMpFMW #KKKorGOP http://t.co/EWEz899A0c',\n",
              " 'RT @JebBush: \"Challenging the teacher\\'s unions and beating them is the way to go.\" – Jeb http://t.co/5ImGwdRL4G #GOPDebate',\n",
              " 'RT @billyeichner: Thank you all for watching the #GOPDebate tonight. @julieklausner and I had a blast writing it.',\n",
              " '@theblaze The REAL war on women!@realDonaldTrump @megynkelly @rushlimbaugh #GOPDebate @AnnCoulter',\n",
              " 'RT @GovernorPerry: .@GovernorPerry\\'s \"On Fire\" Debate Performance https://t.co/aRmJN6vwPG #GOPDebate #Perry2016 #tcot',\n",
              " 'RT @blowticious: Pro-life Republicans be like #GOPDebate http://t.co/bIOXOpLEjn',\n",
              " 'RT @GovernorPerry: ICYMI: @GovernorPerry on Border Security/Illegal Immigration #GOPDebate  #Perry2016 #tcot https://t.co/1S25d2D0nK',\n",
              " 'RT @AllThingsFlynn: This Trump vs. Fox News conflict is quite the conundrum. It’s like the personification of Greed vs. Hate. Who do I root…',\n",
              " 'RT @CarlyFiorina: I know how extraordinary this nation is. #GOPDebate',\n",
              " 'RT @LAXnOREOS: Meanwhile, in the White House...  #GOPDebate http://t.co/mFs7ixFOVC',\n",
              " '#rubio still my preference but i can see point of his critics over opportunism, inconsistency #gopdebate',\n",
              " 'Did @realDonaldTrump ever tell @megynkelly to go wait in the car? Her bad attitude suggests it. #WarOnWomen #GOPDebate',\n",
              " 'RT @TheTexasPhoenix: He was on fire! .@GovernorPerry\\'s \"On Fire\" Debate Performance: https://t.co/0A1w02w7SZ #GOPDebate #Perry2016',\n",
              " 'RT @Playing_Dad: Settling in for the #GOPDebate http://t.co/W6W3e5NBOa',\n",
              " 'RT @realDonaldTrump: \"@FrankLuntz: I\\'m getting a lot of @MegynKelly hatemail tonight. 😆 #GOPDebate\" She is totally overrated and angry. She…',\n",
              " 'This literally couldn\\'t be more true for me. \"I Watched the #GOPDebate &amp; All I Got Was a Lousy Hangover\" http://t.co/cxch7Xxq1V @robinmarty',\n",
              " '#JonVoyage was half as long as the #GOPDebate  but twice as intelligible.',\n",
              " \"RT @LisaBloom: Not a single question in last night's #GOPDebate about the most urgent issue of our time: climate change.\",\n",
              " '#GOPDebate What was up with #FoxNews &amp; their \"gotcha\" questions? They seemed designed to elicit typical political \"spin\" responses. #tlot',\n",
              " 'After the #GOPDebate all of the promises being made by startups at this tech conference seem quite reasonable.',\n",
              " 'RT @Roy___Rogers: @KnucklDraginSam @GOP @realDonaldTrump @yobynnad1127 AMEN! #Trump2016 #WakeUpAmerica #GOPDebate #tcot #stoprush http://t.…',\n",
              " 'RT @CarlyFiorina: The highest calling of leadership is to challenge the status quo &amp; unlock potential in others. #GOPDebate. #Carly2016',\n",
              " 'RT @zzcrane: Me watching the Donald Trump bandwagon pass. \\n#tlot #tcot #GOPDebate http://t.co/wvQlSxgmCL',\n",
              " 'RT @deray: Before the #GOPDebate began, didn\\'t the moderators say that 8 million ppl were discussing \"racial issues\"? What happened to thos…',\n",
              " \"RT @feministabulous: There's nothing like listening to ten dudes who will never need an abortion, talk about whether I should have a right …\",\n",
              " \"RT @SenWhitehouse: FOX silenced by Koch billions too? Not a single question at last night's #GOPDebate to #climatechange deniers about Mond…\",\n",
              " \"RT @tyriquex: These republicans are rich, they don't care about the poverty of America &amp; they definitely don't care bout the poverty of bla…\",\n",
              " 'So we just had an office chat about the #GOPDebate,  &amp; I was outed as both a flaming liberal and a politics geek. Probably not surprising.',\n",
              " 'Catching up on my #GOPDebate @LindseyGrahamSC what a childish &amp; cheap move to call out @billclinton &amp; @HillaryClinton on a 17 year old story',\n",
              " \"RT @TomHall: The only thing that could've made last night's #GOPDebate more amusing would have been:\\n\\n#CowBells!\\n\\n#MoreCowBells http://t.co…\",\n",
              " 'RT @kesgardner: All Ted Cruz does is attack other Republicans. #GOPDebate',\n",
              " 'RT @GovernorPerry: ICYMI: Not just no, but \"hell no\" to the #IranDeal! #GOPDebate #Perry2016 #tcot https://t.co/KqhJdJCGWS',\n",
              " 'RT @FrankConniff: Hard to say who won the #GOPDebate - Bernie or Hillary?',\n",
              " \"RT @larhunter: If Donald Trump wins the election, then we'll know we're on the Biff-stole-the-almanac timeline. #GOPDebate\",\n",
              " 'RT @CarlyFiorina: Can you chip in $3 to keep the momentum going? #GOPdebate #Carly2016 https://t.co/W3mtcmR7Ze',\n",
              " \"RT @cenkuygur: Chris Christie just said you have to work two more years before retiring.And that you'll get tens of thousands less you paid…\",\n",
              " 'RT @JohnKasich: John Kasich is ready to lead. Join the team, Claire!: http://t.co/dy8KnZ122T \\n\\n#GOPDebate https://t.co/KnWmIDeqtY',\n",
              " 'RT @edwrather: The biggest losers in the debate were the Fox moderators who attacked instead of moderating #GOPDebate',\n",
              " 'RT @WhitneyNeal: Trump has yet to give a single, evidence-based answer to a direct question about policy. That should frighten you. #GOPDeb…',\n",
              " \"On my way to the studio -- about to appear on @CNN to discuss last night's #GOPDebate. Tune in!\",\n",
              " 'RT @Blkfeminst: I honestly think sometimes these guys forgot they came from wombs too. #KKKorGOP #GOPDebate  https://t.co/FO3a6DXflf',\n",
              " 'RT @GrnEyedMandy: Women who shame other women for having abortions deserve to be shamed for having no soul or self respect. \\n\\n#PlannedParen…',\n",
              " \"RT @AmandaJoGomez: Me: *watches the #GOPDebate *\\nMe: *looks directly into the camera like I'm on The Office*\",\n",
              " 'RT @IcarusPundit: Donald Trump’s closing statement is every dinner conversation had at The Villages, ever. #GOPDebate',\n",
              " 'RT @TheXclass: \"When the rich wage war it\\'s the poor who die.\" Jean-Paul Sartre \\nThis is now GOP foreign policy. \\n#GOPDebate',\n",
              " 'At the #GOPDebate, we saw the candidates completely miss the mark on race &amp; #BlackLivesMatter\\nhttp://t.co/K9nhdpUE32 http://t.co/hlcqpXJzru',\n",
              " 'RT @SeaBassThePhish: S/O to the GOP for being proud of defeating teachers union even though they just wanted higher wages #GOPDebate',\n",
              " \"RT @Writeintrump: Obama better not leave his prayer rug behind in the Oval Office when I get elected because I'll throw it out.   #GOPDebate\",\n",
              " '@ChuckNellis @FoxNews You got that right! #GOPDebate',\n",
              " \"RT @mrskimcam: Trump just said the U.S. is stupid, so let's vote him President. WTF people. #GOPDebate\",\n",
              " 'So excited for @johnkasich #GOPDebate #Kasich4Us #Republicandebate #kasich2016 been waiting for 20 years!!',\n",
              " 'RT @ChadPergram: Rep Engel is 2nd major Jewish Democrat to announce opposition to Iran deal during #GOPDebate, following Schumer opposition.',\n",
              " \"Hey look it's my feelings about Donald Trump summed up in one gif #GOPDebate http://t.co/zjWUGwj9Hz\",\n",
              " 'RT @tommychong: Are any of these dudes for the legalization of marijuana, or what? #GOPDebate',\n",
              " \"RT @CBeresniova: What I learned from the #GOPDebate:\\nSome guy's dad was a mailman. Jesus Christ is everyone's running mate. The GOP has run…\",\n",
              " 'RT @TheBaxterBean: Marco Rubio Briefly Backed Immigration Reform Then Privately Berated DREAMers http://t.co/We77QdT3Kt #GOPDebate http://t…',\n",
              " 'RT @DamienFahey: “I french-kissed Jesus Christ!” - Every candidate #GOPDebate',\n",
              " \"#GOPDebate #Closingstatements @GovMikeHuckabee just be honest. u were defs talking about @realDonaldTrump coz he's stealing ur schtick\",\n",
              " 'When cnn, msnbc ,and the new York times praise fox moderators then you know the moderators fucked up. #GOPDebate',\n",
              " 'RT @kesgardner: Trump is a lunatic. #GOPDebate',\n",
              " 'Cruz has class &amp; truth, that gets my vote! #GOPDebate',\n",
              " \"RT @kesgardner: AssClown: I'm the only reason anyone is even talking about illegal immigration. Keep digging, Donald! #GOPDebate\",\n",
              " 'RT @BernieSanders: Tom Hanks. Finally. Somebody who makes some sense. #GOPDebate #DebateWithBernie',\n",
              " 'RT @SouthernHomo: Olivia Pope would not vote for any of these guys #GOPDebate',\n",
              " 'All #GOP candidates want to reduce taxes while #Huckabee wants to legalize prostitution and drugs so we can tax it. #GOPDebate',\n",
              " \"RT @kesgardner: Hi Fox panel, can you just ask Donald every single question? Hand him a shovel while you're at it so he can keep digging. #…\",\n",
              " 'RT @JosephKapsch: And then hillaryclinton @barackobama joebiden were all... #GOPDebate https://t.co/yi4qnS3Hzh',\n",
              " \"#GOPDebate #Trump is Breaking Records! So what he's not a polished Politician. Makes me love him even more.  https://t.co/TgOwCHxf3x\",\n",
              " 'RT @BernieSanders: Oh. It was just a movie trailer. #GOPDebate #DebateWithBernie',\n",
              " 'RT @TacticalDissent: So Sally Kohn &amp; Debbie Wasserman Schultz both  praising Megyn Kelly tonight. That should tell you everything you need …',\n",
              " 'Why are all the Trump accessory women wearing the same shoes?!  #GOPDebate http://t.co/Xz4zc1Lt8N',\n",
              " \"funniest line coming fr #republican 'People are frustrated, they’re fed up, they don’t think the government’s working for them' #gopdebate\",\n",
              " 'And Donald Trump is an absolute nut! So entertaining LOL #GOPDebate',\n",
              " '\"@thehill: Top GOP pundits pick their #GOPdebate winners: http://t.co/QPvJu6p7sz http://t.co/JCDu5qzjnj\"\\nWinners...Fox News\\nLosers...USA',\n",
              " 'RT @DykstraDame: Candidates went after @HillaryClinton 32 times in the #GOPdebate-but remained silent about the issues that affect us. http…',\n",
              " 'RT @DanScavino: .@MegynKelly trying 2show up @realDonaldTrump w @FoxNews. Trying 2take him down. Trying 2destroy him. Not happening. #Kelly…',\n",
              " \"RT @gov: Most-Tweeted #GOPDebate moment for @RealBenCarson: saying he wouldn't publicize to the world his answer on waterboarding.\",\n",
              " \"I give him a e for his big ego. #GOPDebate A's are earned for excellence. Rhymes with rump.\",\n",
              " 'Passion of the #GOPDebate #ReligiousUpaMovie',\n",
              " 'RT @NRO: \"@marcorubio got the best reviews, and deserved them.\" Read more of our #NREditorial recap of the #GOPDebate ---&gt; http://t.co/sTzw…',\n",
              " \"RT @OhNoSheTwitnt: Can't wait to see which Lannister they kill off in the next episode of #GOPDebate\",\n",
              " 'RT @kesgardner: Brutal question to the AssClown from Megan Kelly. The lesson here: be careful what you tweet on Twitter! #GOPDebate',\n",
              " 'RT @TUSK81: Democrats watching this #GOPDebate http://t.co/sZiCSLm7kM',\n",
              " 'Trump changed his mind on supporting PARTIAL BIRTH ABORTION because a friend changed their mind on aborting &amp; had a great kid. #GOPDebate',\n",
              " 'Best closing statement: @RealBenCarson #GOPDebate',\n",
              " 'RT @ChrisChristie: We have to stop worrying about being loved &amp; start worrying about being respected. #TellingItLikeItIs #GOPDebate\\nhttps:/…',\n",
              " 'RT @lesleyabravanel: Trump sycophants want to know what @megynkelly\\'s \"hidden agenda\" was last night. Answer is simple: it\\'s called a vagin…',\n",
              " 'The Real #GOPDebate Winner: Republican Voters - Fox Nation http://t.co/98G42IaZ5O',\n",
              " 'Donald Trump is a really nasty piece of work. Hope he disappears quickly. #GOPDebate',\n",
              " 'RT @amaraconda: FETUSES ARE NOT UNBORN BABIES THEY ARE CLUSTERS OF CELLS STOP SHAMING PEOPLE WHO WANT/HAVE HAD ABORTIONS #GOPDebate',\n",
              " 'RT @mattkbh: These were far and away the best tweets of last night #DebateWithBernie #GOPDebate http://t.co/GzdLtYuMNn',\n",
              " 'I know now who it is that #ChrisChristie reminds me of: actor Andy Devine. #GOPDebate http://t.co/xYy8FxPjcD',\n",
              " 'RT @pattonoswalt: Despite what Huckabee says, I always make sure my prostitute AND her pimp pay FICA and pension. #GOPDebate',\n",
              " 'RT @Bipartisanism: Hillary Clinton was watching the #GOPDebate like:\\n http://t.co/VOkOlq52xP',\n",
              " \"@FoxNews did great by challenging the candidates in #GOPDebate. If these candidates can't handle a tough question they could never b #POTUS\",\n",
              " 'RT @k_mcq: I’d say it was the opposite. Megan Kelly acted like some SJW on Tumblr whining about feminism. Very sad. #GOPDebate  https://t.c…',\n",
              " 'RT @Conssista: Rightly so Frank. Rightly so. #GOPDebate  https://t.co/32CFasI17d',\n",
              " 'the number of times that ronald reagan is mentioned in the #GOPDebate is TOO DAMN HIGH',\n",
              " 'RT @pattonoswalt: If Trump is against \"p.c. culture,\" I\\'m suddenly 100% for it. Not even kidding. What a howling shit-cave of a human. #GOP…',\n",
              " \"RT @carljacksonshow: #BenCarson great close! He operates on brains so he doesn't worry about skin color. #GOPDebate\",\n",
              " 'RT @Davante_R: Women that would be offended by Trumps \"Misogyny\" most certainly don\\'t vote Republican.\\n\\nFind a new fake issue Faux News.\\n\\n#…',\n",
              " 'RT @Auntcol54: Keep religion out of politics! #GOPDebate',\n",
              " 'RT @DianneG: \"I won\\'t be bought &amp; I won\\'t be sold\" @randpaul after reiterating his points against @realDonaldTrump during #gopdebate',\n",
              " 'RT @wilw: Boy, I bet the mood in the clown car is going to be TENSE when these jerks leave the #GOPDebate.',\n",
              " 'RT @CampeauElliot: Dr. Ben Carson did a great job tonight! Loved your closing statement! @RealBenCarson #GOPDebate',\n",
              " 'RT @RedheadAndRight: Meet the new darling of the left 》 Megyn Gotcha Kelly. #GOPDebate @FoxNews #DonaldTrump #MegynKelly',\n",
              " '“@foxnewspolitics: Behind the Fox debate: How the anchors hashed out the questions #GOPDebate They Failed',\n",
              " \"Did anyone get trashed playing @RollingStone's #GOPDebate drinking game?   #drinkinggame\",\n",
              " 'If #DonaldTrump donates to U..He can call in a favor years later?? Sounds like #TheGodfather\\nNOT #POTUS Thats legal?\\n#GOPDebate #GOPClownCar',\n",
              " 'RT @jediane9: Ugh to think there were actually people sitting on their couch last night saying YES YES THIS IS REASONABLE. #GOPDebate',\n",
              " 'RT @BarracudaMama: RT @AllenWestRepub \"Dear @JebBush #GOPDebate #NotAMistake http://t.co/E1SmU0Hn5J\"',\n",
              " \"RT @kesgardner: If politics can be even partially rational, Trump's campaign for the GOP nomination just ended. #GOPDebate\",\n",
              " 'RT @AndrewHClark: .@GayPatriot\\'s takeaway from last night: \"America Doesn\\'t Deserve Ben Carson.\" http://t.co/kjGFYYpcTe #GOPDebate',\n",
              " 'RT @ChrisJZullo: Scott Walker chooses killing mother rather than aborting unborn embryo. This is reason other countries give us that funny …',\n",
              " \"Can't #UniteBlue: Abortion is a talking point in the #GOPDebate since #PPSellsBabyParts\",\n",
              " 'RT @k_mcq: Closing statements reminisce about an America that no longer exists after Ted Kennedy’s 1965 Immigration and Nationality Act. #G…',\n",
              " \"RT @lkwdcitizen: Can't make this up - Chris Christie stopped at a Cleveland ice cream shop before the #GOPDebate. http://t.co/V8WVYFeXx9\",\n",
              " 'RT @maureenjohnson: Ted Cruz is going to personally take away your telescope and try you as a witch. #GOPDebate',\n",
              " '@realDonaldTrump You killed it last night at the #GOPDebate glad to have some that cares for America  #MakeAmericaGreatAgain',\n",
              " 'RT @YoungBLKRepub: When the #GOPDebate is more exciting than anything else on tv in the past 10 years....',\n",
              " \"RT @abbijacobson: Shiiiittt, it's tough to say who is making me more horny. #GOPDebate\",\n",
              " '.@megynkelly  asked .@realDonaldTrump  poor questions, why, was this to help Bush in the polls? #Hannity #GOPDebate https://t.co/p389iIlE2N',\n",
              " \"@bullriders1 @Olivianuzzi @daveweigel The #GOPDebate was better than I thought it'd be, though candidates finessed issues with sound bytes.\",\n",
              " \"RT @TheBaxterBean: Yes Marco Rubio Actually Said The Iraq Invasion 'Was Not A Mistake' http://t.co/xRowKHyMm1 #GOPDebate http://t.co/vjMjdM…\",\n",
              " 'RT @TheBaxterBean: Marco Rubio Voted Against Unemployment Benefits Even Though Florida Needs Them Most http://t.co/2i6UolSctj #GOPDebate ht…',\n",
              " '#JebBush was so thoughtful in #GOPdebate - #reThink911 http://t.co/k37hnbe2jy',\n",
              " 'RT @TheJimHughes: There will be a lot of jobs available if Bush serves 2 terms, because most Conservatives will have committed suicide. #GO…',\n",
              " 'Huh. Watching @FoxNews debate #1 and so far, the moderators and the participants are better! #GOPDebate',\n",
              " 'RT @3ChicsPolitico: Donald Trump insulted @megynkelly and ALL women and not one man on stage confronted him. None of them are worthy to be …',\n",
              " 'RT @jjauthor: @learjetter, I was waiting for @megynkelly to ask @realDonaldTrump, \"When did you stop beating your wife?\" #GOPDebate http://…',\n",
              " 'RT @AndreaTantaros: About last night. Are you watching @OutnumberedFNC ? We got @ericbolling and all the good stuff from the #GOPDebate on …',\n",
              " 'RT @renomarky: EARTH TO @megynkelly THIS AINT ABOUT YOU! \\n\\n#GOPDebate \\n#FoxDebate \\n#MegynKelly \\n#MegynKellyDebateQuestions http://t.co/yxHy…',\n",
              " 'RT @kesgardner: And...Rand Paul lands the first haymaker of the night. #GOPDebate',\n",
              " 'RT @TaraSetmayer: Coming up on @WilkowMajority at 1220pm live! @SIRIUSXM #Patriot125 post #GOPDebate',\n",
              " '\"Because Republicans don\\'t like Rosie O\\'Donnell.\" ICYMI, @FrankLuntz #GOPDebate debrief this AM on @CBSThisMorning http://t.co/nQIUIccOlB',\n",
              " '#FFF: Highlights from this week include #NationalUnderwearDay, the #GOPDebate, and #JonVoyage. Officially. The. Worst. Week. Ever.\\n#TGIF',\n",
              " 'RT @greenspaceguy: @TheDailyShow Jon Stewart can feel comfortable w/retirement as #GOPDebate solved all problems(personal &amp; scientific) htt…',\n",
              " \"RT @kesgardner: Of course, the AssClown won't pledge not to run as a third party candidate. #GOPDebate\",\n",
              " 'Paul Krugman sums up what happended last night: \"One of our two major parties has gone off the deep end\" http://t.co/gkubEM7gE7 #GOPDebate',\n",
              " 'RT @EQphoto: Just remember no matter wins the #GOPDebate everyone who watched it loses #alcoholpoisoning',\n",
              " \"RT @AnthonyMarlowe: #Trump #Video It cost 4 times more than the $700M it would've if it were being managed by @realDonaldTrump #GOPDebate h…\",\n",
              " '@megynkelly you disgraced yourself last night... #GOPDebate',\n",
              " 'RT @proginosko: Prediction: in the final #GOPDebate Donald Trump will tear off his #MissionImpossible mask to reveal a smirking Jon Stewart.',\n",
              " '#Fallon to Jon #Stewart: \"Please Come Back, I Can’t Do It Alone\" https://t.co/IUa0hy2UC6 #GOPDebate #Politics',\n",
              " \"RT @BBCJonSopel: In midst of #GOPDebate came big blow to @BarackObama with announcement that leading Jewish Democrat, Sen. Schumer, won't b…\",\n",
              " 'RT @kesgardner: Ted Cruz is angling himself to be a slightly less loony version of Donald Trump. #GOPDebate',\n",
              " 'Meet the new darling of the left 》 Megyn Gotcha Kelly. #GOPDebate @FoxNews #DonaldTrump #MegynKelly',\n",
              " 'RT @toddstarnes: That abortion question — disgusting. #GOPDebate',\n",
              " '@nytimes and @CNN praised @FoxNews and they thought they did a good job #GOPDebate \\nNot a good thing',\n",
              " 'RT @TexasCruzn: RT @AllenWestRepub \"RT @oliverdarcy Debbie Wasserman-Schultz statement on #GOPDebate: \\'GOP is solely focused on... http://t…',\n",
              " 'RT @jstephencarter: My #hottake: Carly Fiorina became a 1st tier candidate yesterday. Otherwise, #GOPDebate changed nothing/will be ancient…',\n",
              " '#GOPDebate: a lesson for coming months: quality and not quantity in words &amp; time for tangible and believable propsals\\nhttp://t.co/YHvNoEinyi',\n",
              " 'When CNN and the New York Times are praising the @FoxNews moderators, you know they did it completely wrong. #GOPDebate',\n",
              " 'RT @LindaSuhler: First Republican Debate: The Candidate Report Card\\n.@benshapiro\\n#GOPDebate\\nhttp://t.co/9mFIPuCSLG\\n\\n#tcot http://t.co/ZvHw0…',\n",
              " \"RT @evanmcmurry: According to @gov, the most-retweeted candidate tweet of the #GOPDebate didn't come from a Republican: https://t.co/cUv3aF…\",\n",
              " '.@megynkelly displayed \"utmost authority\" at @foxnews #GOPDebate, critic says. http://t.co/8JbvwJTj3T http://t.co/mel8jxm19b',\n",
              " \"RT @TUSK81: Not one candidate spoke up against Trump's mass-deportation plan, &amp; not one condemned his racist comments. Latinos won't forget…\",\n",
              " 'Donald is my hero. \\n #GOPDebate http://t.co/9ZZFLChJQO',\n",
              " 'RT @GerryDuggan: The Kryptonian science council was more worried about climate change than these scary people. #GOPDebate',\n",
              " \"Withholding my very valuable presidential endorsement until I hear about everyone's point of view on the 2nd amendment #GOPDebate\",\n",
              " 'RT @ArcticFox2016: RT @AllenWestRepub \"RT @oliverdarcy Debbie Wasserman-Schultz statement on #GOPDebate: \\'GOP is solely focused on... http:…',\n",
              " 'RT @MikeDrucker: \"Ronald Reagan never had an abortion with ISIS and WOMEN DON\\'T NEED THEM EITHER!\" - Basically everyone tonight #GOPDebate',\n",
              " 'RT @patriotmom61: THIS --&gt; Rick Santorum Says Gay Marriage Has No Constitutional Basis https://t.co/mauVIFy6oh #GOPDebate #FoxDebate #tcot …',\n",
              " 'RT @GregAbbott_TX: @ScottWalker: \"Every part of the world @HillaryClinton has touched is worse today\" #Truth #GOPDebate @FoxNews',\n",
              " '@ChrisChristie won the #GOPDebate last night. Only candidate who answered questions directly and not afraid to take on tough issues.',\n",
              " 'The Best Jabs at Hillary Clinton from the Republicans’ Fox News Debates #GOPDebate http://t.co/zEoiEM5d7P',\n",
              " 'RT @GovMikeHuckabee: .@FredBarnes, @weeklystandard: \"Mike Huckabee was the star of the Luntz focus group show. When he spoke, the feedback …',\n",
              " 'Watching the primetime #GOPDebate this afternoon, I think @BenCarson2016 was the real winner, quiet but effective',\n",
              " 'RT @toddstarnes: And here comes the gay marriage gotcha section….#GOPDebate',\n",
              " 'RT @Jackie_Pepper: #Jeb is giving me some serious Janet Reno tonight. #GOPDebate http://t.co/VxfY7MS1WG',\n",
              " '#Boomers R #Smart They know how to use #Internet for #GOPDebate http://t.co/IGP8WWnzCu     #Cosproject #jpnet http://t.co/MT79hetQXS',\n",
              " 'RT @GovMikeHuckabee: Re China: You deal with a playground bully by punching them in the face &amp; putting them on the ground b/c they only res…',\n",
              " 'RT @ali: Lots of Republicans in my Facebook and Twitter timelines are ticked at Fox News for running that hatchet job of a debate. #GOPdeba…',\n",
              " \"I won't defend @FoxNews, they were FAR from fair OR balanced last night, but name calling is juvenile. #GOPDebate\",\n",
              " 'RT @CatholicLisa: Hats off to Ben Carson for using the term \"useful idiots\" re: Hillary Clinton and the secular progressive movement. #GOPD…',\n",
              " '@megynkelly Your Fox team talked for 31 minutes of #GOPDebate while Walker talked for 5. Your obvious goal was to ambush everyone. Pathetic.',\n",
              " \"RT @JohnAmato: I actually agree with @AndreaTantaros on something. She said @realDonaldTrump didn't hurt himself in #GOPDebate and I concur.\",\n",
              " 'RT @DonnieWahlberg: Like Ben Carsons brain. Mike Huckabees heart. Marco Rubios soul. Chris Christies fight. John Kasichs hope. Add Carly Fi…',\n",
              " 'Speed Dating For A New President? Interesting Article on the #GOPDebate. :-)  http://t.co/qNtY6HdHr3',\n",
              " 'RT @BradBannon: \"Was GOP Debate a Campaign Preview or Rearview?\" by @BradBannon on @LinkedIn https://t.co/n0mko8qQIE #UniteBlue #P2 #POTUS …',\n",
              " 'RT @DykstraDame: The #GOPDebate was like a super crappy cage fight of blustering, bumbling, old wrinkled-up tuckus clinchers without the ca…',\n",
              " 'RT @GovMikeHuckabee: The military is not a social experiment. The purpose of the military is to kill people and break things. #ImWithHuck #…',\n",
              " \"RT @bennydiego: BREAKING: It's a tie for the winners from the #GOPDebate http://t.co/8iM3NfxJIa\",\n",
              " '@TVMoJoe Just curious, have I missed your ratings tweet about the #GOPDebate?',\n",
              " \"@megynkelly #GOPDebate Kelly is no role model doesn't speak for me or my prof friends Rosie? Now a real woman @CarlyFiorina Kelly is a poser\",\n",
              " 'donald trump... #whatajoke #GOPDebate',\n",
              " 'RT @funnyordie: This feels like FOX News tried to be the cool parents that let their kids have a party &amp; now the house is on fire. #GOPDeba…',\n",
              " \"RT @patriotmom61: It's unconscionable that @FoxNews moderators asked ALL the candidates except Santorum foreign policy&amp; nat sec questions i…\",\n",
              " 'RT @ChipMarks14: \"The military is not a social experiment. Its purpose is to kill people and break things.\"\\n- Mike Huckabee \\n\\n#GOPDebate',\n",
              " 'RT @CrissGhoul: YOU ARE NOT PRO LIFE. YOU ARE PRO CONTROL. YOU ARE PRO RELIGION. YOU ARE PRO YOU.  THIS IS NEVER ABOUT THE MOTHER. #GOPDeba…',\n",
              " 'RT @RedStateJake: Solid debate tips - take a gander, @GOP:\\n\\nhttp://t.co/4PuFJ36dLa\\n\\n#GOPDebate #teaparty \\n#tcot #tlot #icon http://t.co/wpi…',\n",
              " 'RT @JohnKasich: Creating jobs is our greatest moral purpose because they strengthen our families &amp; communities. #GOPDebate http://t.co/80Xe…',\n",
              " 'RT @nevagphx1: @CarlyFiorina Magnificent at the first #GOPDebate. I support Ted Cruz as POTUS, but would support you as running mate or POT…',\n",
              " \"If you're a woman who supports R party please wake up and get informed. #GOPDebate\",\n",
              " 'Kasich the clear standout among #GOPDebate cannon fodder. But his record contradicts statements on LGBT acceptance: http://t.co/YNucKULnjV',\n",
              " 'Primary is still a long way away, so my favorites could change, and I hope we see more of these candidates than just sound bites. #GOPDebate',\n",
              " \"The anti- @CarlyFiorina unit of the #Clinton Personal Destruction Force is now working 24/7, I'm sure. #GOPDebate https://t.co/p0dT5s5TIY\",\n",
              " \"RT @GovMikeHuckabee: As President, I'll end the national disgrace of failing to care for vets who sacrificed for our country -&gt; http://t.co…\",\n",
              " 'At least he was honest about it. #GOPDebate  https://t.co/7Bo2pRPmX2',\n",
              " 'RT @Marmel: \"My mother worked...\"\\n- Nobody \\n#GOPDebate',\n",
              " \"RT @NewsWriter2: So we have Americans getting beheaded overseas and @megynkelly is worried whether @realDonaldTrump calls Rosie O'Donnell f…\",\n",
              " '#GOPDebate REAL “AMERICAN IDOL”: ELECTIONS AS AUDITIONS: Whose Consent Counts &amp; How Decisions Are Made... http://t.co/bLeoBY7r7N',\n",
              " 'Elections, Democracy, and political debates as entertainment.  Not a particularly sterling quality of our federal republic.  #GOPDebate',\n",
              " '@ChrisChristie @RandPaul Americans fear NOT. People who live in fear are not free and have no liberty. Fear is unAmerican #GOPDebate',\n",
              " 'RT @BennettCartoons: 8/7/2015- The Glass Slipper #GOPDebate #GOPPrimaries #RepublicanField http://t.co/fyhZzN5qP3',\n",
              " 'RT @1216BJ: #GOPDebate: Carly Fiorina Dominates Social Media, Even Beating Out Trump - Fox Nation http://t.co/VUeEveRdDy',\n",
              " 'RT @rachelmartinart: I wonder if the #GOPDebate will address actual solutions for climate change and clean energy. #DebateWithBernie',\n",
              " 'RT @vivigold197: @realDonaldTrump: misogynist, ignorant, xenophobic and greedy: another proof that money does not buy class. #GOPDebate #GO…',\n",
              " \"@Anti_SLAVERY Who's the real illegal alien #GOPDebate - Farrakhan on Immigration &amp; the Mexican Bor... https://t.co/lkLfFN2LFy via @YouTube\",\n",
              " 'RT @ImmigranNacion: @JebBush #GOPDebate #USA, seriously, would you vote for any of these CLOWNS? We NEED #CIRNow #AINF #TNTVote http://t.co…',\n",
              " 'RT @WayneDupreeShow: Disagree all you want\\n\\n#GOPDebate was hit job on @realDonaldTrump and calculated mute job on @SenTedCruz @RealBenCarso…',\n",
              " \"I actually agree with @AndreaTantaros on something. She said @realDonaldTrump didn't hurt himself in #GOPDebate and I concur.\",\n",
              " 'ٌR▀█▀ 4 exotic designs for diamond rings http://t.co/9Whr8sL3Tp #YouTube http://t.co/dJb1fKJs3j #GOPDebate #Chemieunfall #Compton #Lion…',\n",
              " \"RT @GovMikeHuckabee: Let's take America from Hope to Higher Ground. Will you help? --&gt; http://t.co/tky8Smc27y #ImWithHuck #GOPDebate http:/…\",\n",
              " 'RT @AmberTozer: Just got caught up on the #GOPDebate and felt like I should write a joke about it but the biggest joke of all was the whole…',\n",
              " 'RT @joshcomers: Jeb makes me want to blow rails with W before we wreck his dad’s car. #GOPDebate',\n",
              " 'Keep religion out of politics! #GOPDebate',\n",
              " 'The second-tier #GOPDebate participants would have had an audience if they debated Bernie Sanders.',\n",
              " 'what is Chris Cristie on about Re: abortions? This is absurd. #GOPdebate',\n",
              " '#GOPDebate Im still voting blue! http://t.co/AZyUpu6oyd',\n",
              " \"I'm eating lunch out and these two old ladies discussing the #GOPDebate is giving me life. They shading shit outta Christie and Trump.\",\n",
              " \"RT @Ali_Davis: Tonight's #GOPDebate was an important reminder that these guys think of women as carrying cases for fetuses.\",\n",
              " 'RT @RealBenCarson: May the Lord guide my words tonight, let His wisdom be my thoughts. #GOPDebate',\n",
              " 'RT @TheJimHughes: Note to Kasich - the question wasn\\'t about \"love\" it was about \"gay marriage\" #TheBigDodge #GOPDebate',\n",
              " 'RT @Squintz1983: #GOPDebate pretty much http://t.co/fHg7FmG42d',\n",
              " 'RT @palmaceiahome1: Rush Limbaugh to Megyn Kelly \"I know no Democrat Candidate would be treated the way Megyn Kelly treated Trump.\" #FoxNew…',\n",
              " 'RT @deray: Trump literally said that he donates to politicians and then calls them later to get what he wants. He literally just said that.…',\n",
              " 'RT @itsWillyFerrell: Meanwhile, back at the White House...  #GOPDebate http://t.co/Un7gNNUhB7',\n",
              " '#GOPDebate none of the presidential candidates brought a fucking gom jabbar, i mean at least liven up your crazy',\n",
              " 'RT @_youhadonejob: Donald Trumps hair arrives early for the Republican Party presidential debate. #GOPDebate http://t.co/cQuPKRyBse',\n",
              " 'RT @GovMikeHuckabee: \"He was just so eloquent...He knew what he was saying. He believed what he was saying.\" #ImWithHuck #GOPDebate\\nhttps:/…',\n",
              " 'ReTw EmotientInc: Emotion-Reading Technology First &amp; Only To Analyze Audience Reactions To #GOPDebate: … http://t.co/DKBgXzQxHp',\n",
              " 'RT @TheBaxterBean: Fact-Checkers Proved Scott Walker Literally Lies More Often Than He Tells The Truth http://t.co/KeOeBNRWGU #GOPDebate ht…',\n",
              " 'RT @pattonoswalt: I want @BernieSanders to quietly walk out onto this stage and five-point-palm-exploding-heart all these hollow beasts. #G…',\n",
              " '#GOPDebate Debate was good once they quit throwing crap at @realDonaldTrump and got substantive.  Candidates handled the \"gotcha\" questions.',\n",
              " \"RT @BRios82: These clowns didn't even tackle Climate change. They didn't mention Inequality at all. Are you surprised? #GOPDebate http://t.…\",\n",
              " \"RT @pattonoswalt: Are they going to ask Lenny Kravitz's penis ONE question? This is very disrespectful. #GOPDebate\",\n",
              " 'So who watched the GOP Debate last night and saw Trump #DonaldTrump #GOPDebate @realDonaldTrump #TrumpForPresident',\n",
              " '#FactChecking the #GOPDebate \\nhttp://t.co/N72RUBXxcv\\nUnsurprising-but-massive levels of lies and truth-stretching and general bullshittery.',\n",
              " \"Wonder how much of tonight's #@megynkelly show will be about her  #GOPDebate #FoxNews\",\n",
              " 'RT @chooseliferacer: #GOPDebate Never lose focus on the truly important issues #DefundPP &amp; #PraytoEndAbortion http://t.co/OxIoW3YjS4',\n",
              " 'RT @3ChicsPolitico: Trump calling @megynkelly a bimbo is reprehensible. This is about choosing a candidate for president NOT the Jerry Spri…',\n",
              " '#Repeal was the word of the night. #GOPDebate',\n",
              " 'RT @rebleber: Not mentioned in the #GOPdebate:\\nVoting rights\\nClimate change\\nGun violence\\nPolice shootings\\nStudent debt\\nInequality',\n",
              " 'RT @CarlyFiorina: It’s almost time! Tune into @FoxNews at 5:00 p.m. EDT #GOPDebate #Carly2016 http://t.co/hEV7fe4HhR',\n",
              " 'This is an amazing degree of commitment to a running joke http://t.co/VpxxlxEvHi #GOPdebate #photobomb',\n",
              " 'RT @GovMikeHuckabee: .@FoxNews focus group: \"He was very articulate, very relatable, &amp; made a lot of good points.\" #ImWithHuck #GOPDebate\\nh…',\n",
              " \"RT @TeaTraitors: #GOPDebate was still Clown Show! I'm glad Head Clown Trump helping destroy GOP. http://t.co/88QwTnPuIR\",\n",
              " 'RT @BraveConWarrior: RT @AllenWestRepub \"Dear @JebBush #GOPDebate #NotAMistake http://t.co/T7MGjn2vEr\"',\n",
              " '#GOP wants to #DefundPP and #Huckabee wants to legalize prostitution and drugs.  #GOPdebate',\n",
              " 'Favorite Jeb line \"taking on the teacher\\'s unions, and beating them\" sure that empowers kids disenfranchise the ones who teach em #GOPDebate',\n",
              " 'RT @britt27ash: Current mood re: #GOPDebate http://t.co/GFSNEDXEoj',\n",
              " \"If the newest b52 was built in the 60s like Huckabee complained, doesn't that mean St. Ronnie should have built more? #GOPDebate\",\n",
              " 'RT @WayneDupreeShow: Maybe on the next #KellyFile @MegynKelly will go after @krauthammer 20 year positions because he switched parties too\\n…',\n",
              " 'RT @G_Humbertson: Perry says he would rather send @CarlyFiorina to negotiate with Iran than John Kerry. #GOPDebate',\n",
              " 'NOT A FAN OF #FoxNews @megynkelly but she deserves better than to be called BIMBO by #lDonaldTrump for doing her job\\n\\n#GOPDebate #UniteBlue',\n",
              " 'Excellent post-GOP debate analysis from my friend @rmanning957 of @LimitGovt ... http://t.co/gIUogvMNNc #GOPDebate',\n",
              " \"RT @RachLWhitehurst: I can't tell if these are just bad cramps or my uterus trying to flee the country as I watch the #GOPDebate\",\n",
              " 'RT @kumailn: And now the realization dawns on us. \"Holy shit. I\\'ve been watching Fox News.\" #GOPDebate',\n",
              " 'Hey .@realDonaldTrump You know who didn\\'t whine about \"unfair\" questions? @CarlyFiorina Grow a set why don\\'t ya\\'. #GOPDebate',\n",
              " 'RT @WhoIsSizzle: Hillary spent the #GOPDebate with Kim and Kanye ... This is what I love to see http://t.co/H9T0a4IJxX http://t.co/KqS216nB…',\n",
              " \"John Kasich seems like a decent guy shame he'll drowned out by the loonies in the #GOP #GOPDebate\",\n",
              " 'RT @feministabulous: My feelings about Trump after #GOPDebate: http://t.co/bKuz2OiamE',\n",
              " 'RT @deray: In the end, Bingo! #GOPDebate http://t.co/xul0Y2qXp6',\n",
              " 'Chris Christie said he was appointed U.S. Attorney Sept. 10, 2001. He was actually appointed Dec. 7, 2001. #GOPDebate http://t.co/8Y8GkqTnvK',\n",
              " 'Chris Christie fundamentally misunderstands the 4th amendment &amp; got owned by @RandPaul over NSA: http://t.co/XawzzRHVFi #GOPDebate',\n",
              " 'RT @cmclymer: Fun Fact: in this party of super patriots, not a single candidate on stage has served a day in the military.\\n\\n#GOPDebate',\n",
              " \"RT @RealAlexJones: '@RealAlexJones will be taking twitter questions on #GOPdebate in 3rd hr of today's show. Watch live 11am-2pm ct: http:/…\",\n",
              " 'RT @kelkulus: SURPRISE TWIST: Kevin Spacey appears on stage, taps his ring on the podium, then pushes all 10 candidates in front of a train…',\n",
              " '@exjon @EssmailPatricia @CuffyMeh \\nTrump supporters threaten to take Nerf ball home after hard hit.\\n#GOPDebate #TrumpsPeePeehurts',\n",
              " 'RT @WAGNERGIRLE: Thank you @tedcruz for speaking out on #govermentcartel \\n\\n#MakeAmericaGreatAgain  #SecureTheBorder #GOPDebate http://t.co/…',\n",
              " \"RT @MattyIceAZ: IRONY: Watching 10 men debate women's right to choose. #GOPDebate\",\n",
              " 'The First #GOPDebate: Social Media Reaction and More http://t.co/Ih9KSywL7Y',\n",
              " \"Who's the real illegal alien AMERICA  #GOPDebate - Farrakhan on Immigration &amp; the Mexican Bor... https://t.co/lkLfFN2LFy via @YouTube\",\n",
              " \"Which candidate really likes hugs? The one word that defined each one's #GOPDebate http://t.co/RGHrEnzEwI http://t.co/rZZzG0m3P0\",\n",
              " \"RT @imfabulous13: I assume you guys didn't boo a gay soldier this time only because the opportunity didn't arise. #RSG15 #GOPDebate http://…\",\n",
              " 'RT @HRC: .@JohnKasich said he’d love his daughters if they were gay, but his voting record says otherwise #GOPDebate http://t.co/qWNQMbLZ5d',\n",
              " 'RT @Marmel: MY mother worked.\\nTHEIR mothers worked.\\nYOUR mothers worked.\\nNobody mentioned their mothers.\\nNobody.\\n#GOPDebate',\n",
              " '#GOPDebate #AffordableCareAct more #flaws than the #Constitution #repeal it http://t.co/oZMIdags6W    #jpnet http://t.co/iU7jNB5Fte',\n",
              " 'RT @IamTheDenk: #GOPDebate tonight. Really just wanna see who can cut the best promo.',\n",
              " \"John Oliver: the new Jon Stewart. Can't wait for his coverage of #GOPDebate #JonVoyage\",\n",
              " 'RT @LittleLadyCassy: #GOPDebate Loving Fiorina. Smart and on point!',\n",
              " \"RT @catie__warren: As a reminder. Less than 3 percent of what #PlannedParenthood does deals with abortions. But this debate won't tell you …\",\n",
              " 'RT @k_mcq: GOP base voters have been targeted by leftist terror campaigns for years, &amp; the GOP establishment relentlessly manipulates that.…',\n",
              " 'RT @MilesOrionFeld: \"Are you not entertained?!?!?!\" Then #Trump throws a severed head into the crowd. #GOPDebate',\n",
              " \"Check out the candidates' best lines from the first #GOPdebate http://t.co/JI0J6pNSIS #tcot #alpolitics\",\n",
              " \"RT @ThatChrisGore: I'm not really sure about President, but Ted Cruz would make an excellent Marvel villain. #GOPDebate #TedCruz #Marvel\",\n",
              " \"RT @zellieimani: During debates on terrorism, don't expect anyone to bring up white supremacist organizations engaging in terrorism. #KKKor…\",\n",
              " '@TheDailyShow Jon Stewart can feel comfortable w/retirement as #GOPDebate solved all problems(personal &amp; scientific) https://t.co/voVjmTwu5J',\n",
              " \"RT @ARTEM_KLYUSHIN: Here are some of the highlights from last night's #GOPdebate\\nhttps://t.co/3e1lnT2Tql\",\n",
              " \"Donald Trump: Reagan Was A Con Man Who Couldn't 'Deliver The Goods' | ThinkProgress\\n#GOPDebate http://t.co/LHmRKxWvcI\",\n",
              " 'GmaDawny: RT RhondaWatkGwyn: #ImWithHuck #GOPDebate #th2016 #ccot #tcot #teaparty #pjnet http://t.co/Ba4O0Kwluu',\n",
              " '2016 @GOP Primary Tourney - @NCAA bracket format to narrow 16 candidates to final 4 #GOPDebate @RealClearNews http://t.co/ocEtmHT6Ba',\n",
              " \"#GOPDebate didn't offer a single solution to any salient issues\",\n",
              " '#GOPDebate so which presidential candidate stuck their thing into the presidential electric sharpener',\n",
              " 'Emotion-Reading Technology First &amp; Only To Analyze Audience Reactions To #GOPDebate: http://t.co/LtqgCdy60w http://t.co/bYwwEdhVgg',\n",
              " \"RT @AnneBayefsky: .@SenTedCruz: any American who leaves &amp; joins #ISIS should lose their passport. So there's no coming home. #GOPDebate\",\n",
              " 'RT @JGalt9: Love that Cruz introduced a bill to strip citizenship from Americans who join ISIS \\n#GOPDebate http://t.co/MylrLV0U7e',\n",
              " '@joshbretow dude I totally thought the PFTCommenter pic from the #GOPDebate was photo shopped, guess not, hahaha so righteous',\n",
              " 'RT @Anergo_Teacher: Seriously, #Trump is dangerous for the whole world. #GOPDebate',\n",
              " 'RT @joehudsonsmall: \"Would you really let a mother die, rather than have an abortion?\"\\n\\nWas seriously being asked of a presidential hopeful…',\n",
              " 'Jeb Bush: \"I defunded Planned Parenthood\"\\n\\n....he is proud that he denied thousands of women access to life saving healthcare...\\n#GOPDebate',\n",
              " 'RT @richarddeitsch: .@FrankBruni on #GOPDebate is a writer at the top of his game: http://t.co/jTs30aLyUi',\n",
              " \"RT @PamelaGeller: Now we know Rand's strategy - he's going after Trump. He's got nothing to lose - he is nowhere anyway #GOPDebate\",\n",
              " \"Credit where credit is due - I was shocked #SHOCKED by Trump's cogent health care debate response #GOPdebate  https://t.co/Mdfg53UfaZ\",\n",
              " 'RT @pattonoswalt: \"That concludes our debate! Please welcome the Koch Brothers who will choose an ideological broodmare from our whore-stab…',\n",
              " \"RT @ColMorrisDavis: Amusing to hear men who chose not to serve in the military talk tough about using other people's kids to backup their b…\",\n",
              " 'Is God going to be like the Co-president or something? #GOPDebate #eleventhdebater',\n",
              " \"RT @RedStateJake: I'd pay some serious $$$ to watch someone grill these 2 egomaniacal bullies in an interview. \\n\\n#GOPDebate #KellyFile http…\",\n",
              " \"Kind of glad I didn't get to watch the #GOPDebate yesterday. Better for my mental health! 😊\",\n",
              " \"@Bipartisanism Well, technically we didn't, but the Supreme Court said we did.  #GOPDebate\",\n",
              " 'Maybe the GOP just got Piven &amp; Cloward confused with Pinkard &amp; Bowden? \"She thinks I steal cars...\" @kevinbaker @KevinMKruse #GOPdebate',\n",
              " 'RT @amaraconda: I SWEAR TO GOD IF ANOTHER CIS WHITE MAN SPEAKS ON ABORTION LIKE THEY KNOW WHAT ITS LIKE BEING PREGNANT......... #GOPDebate',\n",
              " 'Fun game: When re-watching the #GOPDebate replace the word \"God\" with \"Koch Bros\" or \"Reagan.\"',\n",
              " '@ElianaBenador @PoliticalShort @Samlove0313Love @_AndyBryant @ebenjones @mjgranger1 #GOPDebate Trump too selfish &amp; immature to have power.',\n",
              " \"After my #GOPDebate tweet-athon I think I gained 200 political satirists followers but lost 250 of my teacher peeps.  U can't win them all.\",\n",
              " 'RT @fakedansavage: Kelly: \"You call women you don\\'t like \\'fat pigs,\\' \\'dogs,\\' and \\'disgusting animals.\\'\" Trump: \"Only Rosie O\\'Donnell.\" Crow…',\n",
              " 'RT @ethicistforhire: Ten rich narcissists spouting nihilistic applause lines is not a debate. It is a Zeitgeist… #GOPDebate',\n",
              " 'Really thought @marcorubio had a solid performance last night! #GOPDebate',\n",
              " \"Smartest &amp; wisest man in the room last night barely got any speaking time, I'm a little salty about that #GOPDebate @RealBenCarson\",\n",
              " 'Highlight video part 2 from the #Iowa #GOPDebate parties last night. Full video here. https://t.co/ZAQ07p8qY6 http://t.co/b2meuKtY63',\n",
              " 'RT @GovMikeHuckabee: \"@GovMikeHuckabee had a good night...he did well tonight.\" - @BretBaier #ImWithHuck #GOPDebate\\nhttps://t.co/FN6m0gMKnq',\n",
              " 'RT @Writeintrump: Hey Megan Kelly, ask Kelly Osbourne how attacking me this week worked out for her.  #GOPDebate',\n",
              " 'RT @megynkelly: .@tedcruz gets powerful response from @FrankLuntz focus group. #KellyFile #GOPDebate',\n",
              " \"Why is God &amp; religion important in an election? Religion shouldn't play a part in the decision making in your country. #GOPDebate\",\n",
              " \"That pose is SO awkward. Who in the hell did she work with?  She's stiff, not natural. Kinda like the #GOPDebate last night. @Pissed_Pat\",\n",
              " 'RT @goddessjaz: The discussion of racist police violence was over before I finished typing that tweet. #GOPdebate #KKKorGOP',\n",
              " 'RT @RickCanton: #CruzCrew - the outsider. Always tells the truth. Honors commitments. #GOPDebate http://t.co/WHEoRxlcid',\n",
              " 'RT @MsPeoples: jebbush tell me more about this  \"hang em by the neck\" wing of your party....#GOPDebate #KKKorGOP https://t.co/8fgWctd2bb',\n",
              " \"If you're sick of #GOPDebate analysis, wait until Sunday night when @iamjohnoliver and @LastWeekTonight are locks to make us all LOL.\",\n",
              " 'i dont care if you think you dont have time to be PC, being respectful to women is something that should be in your nature #GOPDebate',\n",
              " 'RT @zellieimani: Ben Carson: No one seems to see me or cares what I have to say . \\n\\nBut racism doesnt exist. #KKKorGOP #GOPDebate http://t.…',\n",
              " 'RT @Bipartisanism: Get ready to play #GOPDebate bingo! http://t.co/rWgY9doZX6',\n",
              " \"It's not a coincidence that you couldn't watch the #GOPDebate unless you had cable.\",\n",
              " 'RT @RedStateJake: NEWSFLASH: You need to be knocked down a peg or 3, @megynkelly.\\n\\n#GOPDebate #KellyFile\\n#PJNET #tcot \\n#MegynKelly http://t…',\n",
              " \"RT @Writeintrump: I'm at the #GOPDebate After Party. Rand Paul couldn't get in since the bar we're at doesn't allow Poodles.\",\n",
              " '@megynkelly thinks high ratings for @FoxNews #GOPDebate were because of HER! Hate to break it to you honey….@realDonaldTrump',\n",
              " 'Walked out of a restaurant last night even before my meal came feeling sick to my stomach #GOPDebate',\n",
              " \"Winners of the #GOPDebate as far as I'm concerned:\\n@CarlyFiorina \\n@JohnKasich \\n@RealBenCarson \\n@marcorubio\",\n",
              " 'RT @AlexisinNH: Two debates, one winner: Carly http://t.co/piewA1JCcc #Carly2016 #GOPDebate',\n",
              " '#gopdebate Both debate stages were so filled with liars, traitors, double-talking cheaters, deceiving misogynists it stunk to high heaven.',\n",
              " 'If we played #GOPdebate survivor @CarlyFiorina @BobbyJindal should replace @ChrisChristie &amp; @GovMikeHuckabee http://t.co/yfaJHhIVKG @gannett',\n",
              " \"RT @Writeintrump: Anyone know why Megan Kelly was so pissed at me during the #GOPDebate? I'm pretty sure I was never married to her.\",\n",
              " 'RT @Jayedilla: Surprise surprise, @GovMikeHuckabee thinks #trans life is a \"social experiment\" #GOPDebate',\n",
              " 'RT @BobLonsberry: Biggest losers in the #GOPDebate were @megynkelly and Chris Wallace. Cynical, arrogant, condescending game-show hosts.',\n",
              " 'RT @megynkelly: Crazy day, fun night, exhausting week. This is moments before the #GOPDebate - firing up for the big event. http://t.co/vwG…',\n",
              " 'RT @thecjpearson: Called it. #GOPDebate #2016 #CruzToVictory http://t.co/P5JEm3cfpW',\n",
              " '.@BillHemmer Did you ask Romney if his \"moment had passed?\"  Would you have asked Reagan in 1980 the same? Worst question of the #GOPDebate',\n",
              " \"RT @pattonoswalt: They're talking about Hilary like she's John Wick. I love it. #GOPDebate\",\n",
              " 'Strange. God told me NOT to vote for them. #GOPDebate  https://t.co/b8SR6mMALx',\n",
              " 'RT @TheBaxterBean: Rick Santorum said it best. #GOPDebate http://t.co/J97RbjEYlV',\n",
              " 'Trumptastic #GOPDebate',\n",
              " 'RT @MattyIceAZ: US Economy added 215,000 jobs in July. This must be the result of \"job-killing Obamacare\" Republicans talked about last nig…',\n",
              " '\"@CarlyFiorina was one of the biggest winners Thursday night without even stepping on the prime-time stage.\" -@CNN #GOPDebate',\n",
              " \"Re #GOPDebate: Sure, it's all fun and games until one of these wackos has his finger on the big red button. http://t.co/ndgrhvpB4I\",\n",
              " 'How did everyone feel about the Climate Change question last night? Exactly. #GOPDebate',\n",
              " \"RT @bodybynance: Absolutely! I have authored Kate's law. The leader of our OWN party BLOCKED Kate's law #CruzCrew #GOPDebate http://t.co/84…\",\n",
              " \"RT @NadaMoo: Everyone's talking about the #GOPDebate. Meanwhile, I'm debating between Banana, PB &amp; Chocolate or Cookies n Cream. 😰 http://t…\",\n",
              " 'Trump should have told Megyn Kelly to go to HELL! #FoxNews #GOPDebate',\n",
              " 'Bring on the Democratic Debate already. Please &amp; Thank You #GOPDebate',\n",
              " 'Everyone still talking about what a great job @RealBenCarson did at the #GOPDebate last night. Articulate and very good points made. 👍🏼👍🏼👍🏼',\n",
              " 'RT @tedcruz: We need a new Commander-in-Chief who will stand up to our enemies and that has credibility #GOPDebate #CruzCrew',\n",
              " 'Chris Christie: Pro-Life Republicans Should Never Apologize for Being Pro-Life http://t.co/mDMnEd8lGq #GOPDebate http://t.co/T8olJo68Mj',\n",
              " 'Chris Christie: Pro-Life Republicans Should Never Apologize for Being Pro-Life http://t.co/AIaRtbsMtX #GOPDebate http://t.co/pSfvOYI46j',\n",
              " 'RT @bg440_: Jindall and Fiorina are the only two that stand out in the opening act #GOPDebate',\n",
              " \"@jkarsh Pffft. Since when does Fox care about lady viewers? Plus, Megyn's sole goal in the #GOPDebate was to come out the winner.\",\n",
              " 'RT @jfreewright: Last time I heard \"stupid\" &amp; \"idiot\" used so liberally in a debate was during a race for the president of my kindergarten …',\n",
              " \"I had to laugh when #Huck mentioned the pimps. Get 'em all Mike! #ImWithHuck #GOPDebate #th2016 #ccot #tcot  https://t.co/lMoH591w9T\",\n",
              " \"RT @DWStweets: My message from the spin room to Univision? The winner of the #GOPDebate tonight was next year's Democratic nominee. http://…\",\n",
              " \"RT @brianstelter: Overnight #'s: #GOPDebate had a 16.0 household rating. The biggest GOP debates in 2011/12 had 5.3 ratings http://t.co/vhL…\",\n",
              " 'RT @Ben_Elder1155: Donald Trump to Rand Paul tonight. #GOPDebate http://t.co/jV4yfOv7xZ',\n",
              " '#GOPDebate was a great theatrical performance. They should do Broadway.',\n",
              " 'Omg @megynkelly! I am not a Fox News fan and not a Clinton fan.. But she did an amazing job last night, impressed with her qs. #GOPDebate',\n",
              " 'Although the occasional dick, @realDonaldTrump sure knows how to keep these political debates alive and exciting. #GOPDebate',\n",
              " \"RT @LaurenGreenberg: So... it's okay to kill people if you're in the military, but it's not okay to get an abortion if you're a rape victim…\",\n",
              " 'RT @NYMag: Hillary Clinton spent #GOPDebate night with the Kardashians: http://t.co/gkLcCJoBi5 http://t.co/76XRSJ0rNQ',\n",
              " \"So, it's official; the GOP 2016 Platform is less abortion, more war. That's it. That's what they are after. #GOPDebate #Priorities\",\n",
              " 'RT @pattonoswalt: \"Kill people and break things,\" Huckabee just described the GOP. #GOPDebate',\n",
              " 'RT @sallykohn: I think @megynkelly won #GOPDebate!  Hard hitting questions of concern to majority of voter, not just fringe GOP base. \\n\\n#Me…',\n",
              " '@AmbitiousPaul \"our skin does not make us who we are.. It\\'s our brain\"... How is that a sellout? #GOPDebate',\n",
              " 'RT @DWStweets: Final thoughts from the #GOPDebate tonight — the Republican Party is out of touch and out of date. http://t.co/tueGrpP46M',\n",
              " \"RT @Writeintrump: #GOPDebate After Party Update:  Rubio, Cruz, and Bush are huddled in the corner speaking Spanish. I think they're plottin…\",\n",
              " 'RT @LilaGraceRose: .@megynkelly Abortion is never medically necessary. Why are you touting @PPact talking points in question to @ScottWalke…',\n",
              " 'RT @LeoKapakosNY: BREAKING: President Obama and VP Biden closely watching the #GOPDebate http://t.co/jsmiznWhJQ',\n",
              " 'Abortion is a talking point in the #GOPDebate since #PPSellsBabyParts',\n",
              " 'The real nerd fun is fact checking the #GOPDebate http://t.co/UN2cj2Dotj',\n",
              " \"RT @tnyCloseRead: Santorum just compared #SCOTUS's marriage ruling to Dred Scott. Here's why that analogy is nonsense: http://t.co/xjzdnXdM…\",\n",
              " \"RT @FredZeppelin12: Priceless. @CarlyFiorina cleans Chris Matthew's clock post-debate. This woman is a contender\\n\\n#GOPDebate \\n#GoCarly \\n\\n h…\",\n",
              " \"@NPR RIP NILOY.  This is why #Islam ic #fundamentalists must die.  It's either them or normal humans.  #ISIS #IranDeal #GOPDebate\",\n",
              " 'RT @Dosta1: “@DailyMail: The future First Family at the #GOPDebate? http://t.co/nMKFGAd4Ei http://t.co/IwWRPSnTpl”\\n\\n😊',\n",
              " 'RT @georgehenryw: The Master of Useful Humor\\n\\n#gopdebate #imwithhuck #gop #ccot #teaparty #tcot #makedclisten #wethepeople #uniteright\\nhttp…',\n",
              " 'RT @AmyMek: After this debate, my opinion changed the MOST about @foxnews, @megynkelly, @BretBaier &amp; Chris Wallace! Utterly Disappointed…#G…',\n",
              " 'RT @tedcruz: A great #GOPDebate discussing issues important to the American people: https://t.co/WeMKfA9vLN Join our fight: https://t.co/xV…',\n",
              " \"#GOPDebate #Hillary2016 I share some sentiments, I have some favorites on #GOP side, but I have no enthusiasm, don't want to vote for any.\",\n",
              " 'RT @RWSurferGirl: Fox News is obviously trying to influence the makeup of the Republican field. 🇺🇸  #GOPDebate  #GOPDebates',\n",
              " \"hadiyah: Rand Paul rocking that Wet and Wavy. Ooh Kill'em! #GOPDebate\",\n",
              " \"RT @sethanikeem: @PhaedraBonewits #GOPDebate SPOILER ALERT: A rich, white guy tells the country how he's going to help other rich, white gu…\",\n",
              " 'Anybody get some free tacos last night? #GOPdebate',\n",
              " 'hadiyah: Jen Bush looks like an Art Teacher for an inner city school and everyday his car gets vandalized.  #GOPDebate',\n",
              " 'hadiyah: Lets see Jeb Bush try to solve a Common Core math problem. #GOPDebate',\n",
              " 'hadiyah: Bruh, Ben Carson is boring AF! He need to punch Trump in the face so he can get in the game. #GOPDebate',\n",
              " 'hadiyah: Somebody needs to get the water off the stage before Trump and Paul start tossing drinks at each other. #GOPDebate',\n",
              " '#BlackLivesMatter sho is silent @ #GOPDebate  https://t.co/JodJLgG2yY',\n",
              " \"hadiyah: So when do we get to police brutality and black lives? I bet Ben Carson gets that question. That's IF they even ask it. #GOPDebate\",\n",
              " \"@kesgardner Agreed. Still, he's the one everyone is talking about. #mystified #GOPDebate\",\n",
              " \"RT @pattonoswalt: Donald Trump's views on immigration are based solely on the first 8 minutes of SCARFACE. #GOPDebate\",\n",
              " 'Rightly so Frank. Rightly so. #GOPDebate  https://t.co/32CFasI17d',\n",
              " \"Maybe if we should paying attention to every little thing #DonaldTrump sez....he's not a novelty anymore! \\n#GOPDebate #GOPClownCar\",\n",
              " \"RT @fightfor15: Total number of mentions of Min Wage in tonight's Rep debate: ZERO http://t.co/Vd2oBzdjgj #GOPDebate #FightFor15 http://t.c…\",\n",
              " 'RT @ColorOfChange: Or better said: http://t.co/mXxHGYMb2a #KKKorGOP #GOPDebate',\n",
              " 'RT @billmaher: Ben Carson doubts HIllary will be the Dem nominee?? Ben, do you still have your brain-cutting tools? And a mirror? OK, lie d…',\n",
              " \"Trump's lead shows just how low the Bar is for GOP Nomination &amp; speaks to Base approval of their elected leaders! #GOPDebate #UniteBlue #P2\",\n",
              " 'same old tiresome #gop #tcot BS The #Republican Debate: There He Blows http://t.co/Sff0jUexUx #gopdebate // #Sanders2016',\n",
              " \"@pharris830 @Shareaholic That's too extreme and violates the First Amendment #GOPDebate\",\n",
              " '#Winning #CruzCrew 😎 Keep It Up! #TedCruz2016 #GOPDebate  https://t.co/uR7q4KjRfx',\n",
              " \"Here's why it was so frustrating to watch the #GOPDebate as a woman http://t.co/sPe1VvGuy7 via @HuffPostWomen\",\n",
              " '(cont)#GOPDebate  Losers:  Rand @RandPaul (too combative and mean) and @realDonaldTrump (the fix was in)  Biggest Loser: FoxNews credibility',\n",
              " 'RT @imraansiddiqi: Jeb Bush - \"I\\'m gonna have to earn this.\"\\n-Said no Bush, ever.\\n#GOPDebate',\n",
              " 'RT @megynkelly: .@RealBenCarson:  There is no such thing as a politically correct war #GOPDebate',\n",
              " 'RT @Anergo_Teacher: Imagine a #Trump Administration dealing with a US-Russia crisis. \\n\\nWWIII #GOPDebate',\n",
              " \"RT @ThePatriot143: You Don't have to support Trump to realize that every question was delivered in a Backhanded manner #GOPDebate http://t.…\",\n",
              " 'RT @ChristiChat: #WakeUpAmerica\\n\\n@SheriffClarke I Agree!\\n\\n@CarlyFiorina is a FORCE!\\n\\n#TCOT\\n#SisterPatriots\\n#Carly2016\\n#GOPDebate http://t.c…',\n",
              " 'RT @HippieLily: How @_shannonrose17_ and I are dealing with the #GOPDebate 😂 these are the republicans, America http://t.co/tlZ8rK7jr7',\n",
              " 'RT @ChronFalkenberg: \"We do not project power from bankruptcy court. We\\'re borrowing a million dollars a minute.\" Rand Paul. #GOPDebate',\n",
              " \"DCSoljaGurl: Fact checking (for those just recovering from last night's #DrinkingGame #GOPDebate ) … http://t.co/AuhlNZrEO4\",\n",
              " 'Ok, @tyeblue makes me giggle 😂 #Guuuurrrl #GOPdebate https://t.co/4JKa5BUHXv',\n",
              " 'RT @daveweigel: I believe that the phrase \"If I am the nominee, I will not run as an independent\" was uttered. #GOPDebate',\n",
              " \"RT @MrGeorgeWallace: The other candidates are stayin' pretty calm considering they assume Dr. Carson's gonna mug them at some point. #GOPDe…\",\n",
              " \"RT @nerdist: Trump's really great in Orange is the New Orange #GOPDebate\",\n",
              " 'RT @andreafed: @Deb_Libby Half the Republican base has dementia. They probably found it riveting (when not confusing the TV w/the toaster).…',\n",
              " 'RT @a_fruen: .@HillaryClinton as she watches this train wreck #GOPDebate http://t.co/LEMIJfkdXx',\n",
              " 'RT @NinjaEconomics: What are the best drinking games for the #GOPDebate tonight?',\n",
              " \"RT @pattonoswalt: Wait, does Rand Paul want to marry a gun? Not saying that's a deal-breaker for me, but still... #GOPDebate\",\n",
              " \"'Is Joe Flacco elite' sign crashes Republican debate...Still no one knows. http://t.co/YPQvOMX5Ne #NFL #GOPDebate\",\n",
              " \"RT @ChrchCurmudgeon: I'd vote for a hologram of Calvin Coolidge moonwalking across the stage right about now.\\n\\n#GOPDebate\",\n",
              " \"RT @TheFriddle: Trump: Mexico!!!\\n\\nRubio: Majority of illegals aren't Mexican.\\n\\nThat's what grandstanding vs understanding real issue looks …\",\n",
              " 'The #GOPDebate was like a super crappy cage fight of blustering, bumbling, old wrinkled-up tuckus clinchers without the cage.',\n",
              " 'RT @Norsu2: Rand Paul could drop out of top 10 w dreadful, petulent debate. Fiorina moves up #gopdebate #tcot',\n",
              " 'RT @weeklystandard: .@realDonaldTrump is looking more like Bernie Sanders - on the issues http://t.co/bzKnuXxObk #GOPDebate http://t.co/dxx…',\n",
              " 'RT @daveweigel: The official debate line-up from L-R: Loser, Loser, Loser, Loser, Classy, Loser, Loser, Loser, Loser, Loser. #GOPDebate',\n",
              " 'RT @JHoganGidley: \"We\\'ve got a clip from Mike Huckabee that was the number 1 dial clip of the ENTIRE 2 hours,\" @FrankLuntz. #GOPDebate http…',\n",
              " '#GOPDebate madness last night. DNC this morning.... #Guuuuurrrrlllll http://t.co/QkKPnkx0c4',\n",
              " 'RT @YoungBLKRepub: Just saying. #GOPDebate http://t.co/zqcAONpaKj',\n",
              " 'RT @ThePatriot143: Hey @Foxnews can you let us Rep digest the #GOPDebate before you allow Debbie Wasserman Schultz to TRASH ALL OUR GOP htt…',\n",
              " '#Trump2016 #GOPDebate The Illuminati want him out, but he will win the same http://t.co/2kVlxWB9Kd http://t.co/zyCvnY4NOq',\n",
              " \"RT @JimFKenney: Hey @ChrisChristie -- if you want to check out the Constitution, it's right here in Philly. I'll keep the bridge open for y…\",\n",
              " '\"@FoxNews web stream and mobile app fail during #GOPDebate” … Why am I not surprised? http://t.co/tkpEsoOEZT',\n",
              " \"RT @roseperson: @TheDailyEdge @kharyp Jeb Bush promised families the fallen troops won't have died in vain. How about victims of gun violen…\",\n",
              " 'RT @whoisbenchang: The #GOPDebate as theater, made-for-TV (&amp; web) drama, (and, duh) reality TV, via @CharlesMcNulty @latimes http://t.co/lT…',\n",
              " 'RT @natycar74: http://t.co/wrmBJKVhNr.Candidate.Mentioned.Inequality! Not, one!!! #GOPDebate',\n",
              " 'RT @PamelaGeller: LOVE CRUZ! \"If you join ISIS you are signing  your death warrant.\" Go Ted go! Anyone that joins ISIS loses their citizens…',\n",
              " \"RT @americansunited: Blog: God made a cameo appearance in last night's #GOPDebate. We're sure there will be more to come. http://t.co/01llp…\",\n",
              " 'RT @hilcox18: Donald Trump is Drunk Uncle #GOPDebate http://t.co/fcn61e8e3w',\n",
              " 'RT @jonmcclellan: Watch @TedCruz strong closing statement at the #GOPdebate: Video: https://t.co/kQlgCBaV7p #CruzCrew',\n",
              " 'RT @thesuperficial: \"Hey, guys. Women are allowed to vote.\"\\n\"WHAT?\"\\n\"That\\'s impossible!\"\\n\"Build a wall around their uterus!\"\\n\"Ronald Reagan…',\n",
              " 'RT @STrimel: No one summed it up better than #BernieSanders. #GOPDebate  https://t.co/jL65PKp3Ua',\n",
              " 'Retrospect #gopdebate USA needs someone #conservative, confident,respectfully listens, not arrogant @rushlimbaugh says @Fiorina @Kasich',\n",
              " \"@maureenjohnson based on your Tweets I'm slightly thankful I skipped the #GOPDebate yesterday evening\",\n",
              " \"@hardball_chris Hey Chris, did you file a workman's claim after @CarlyFiorina smashed you last night? #GOPDebate #tcot @hardball\",\n",
              " \"@realDonaldTrump ur complaining so much about being targeted but do u think that when ur president u won't be targeted? #GOPDebate\",\n",
              " \"Last night the GOP faced up to the Yellow Peril... @theclementlime watched so you don't have to https://t.co/rOfWhAOX6G #GOPDebate\",\n",
              " 'which is NOT fair and balanced #GOPDebate',\n",
              " 'RT @PrestonMitchum: Dear Scott Walker:\\n\\nHow are you \"pro-life\" if you would let a woman die rather than receive an abortion? \\n\\n#GOPDebate #…',\n",
              " 'LOL! D@%m straight! Unbelievable the sexist, misogynistic &amp;\\nracist tones. Repugnant sad state of affairs. #GOPDebate https://t.co/awBmpTMpUm',\n",
              " 'RT @bazecraze: Ted Cruz looks like someone put a suit on a sigh. #GOPDebate',\n",
              " '.@ObamaAgenda @BaracksBackers Um..During the #GOPDebate. DERP!',\n",
              " \"RT @adillard4: Unlike #GOPDebate we'll talk race, activism #BlackLivesMatter #fergusonsyllabus #takeitdown #BTWAM on #UmichChat @ 1 http://…\",\n",
              " 'RT @RepublicanPunk: GOP has 0 candidates who deleted 30,000 subpoenaed emails. #GOPDebate #ReadyForHillary',\n",
              " 'Usa is waking up!! #GOPDebate',\n",
              " 'RT @feministabulous: I grew up the poorest. Vote for me. #GOPDebate',\n",
              " '@realDonaldTrump treated @RandPaul like the little gnat he is. \\n#GOPDebate #tcot #trump #MakeAmericaGreatAgain #GoTrump',\n",
              " 'RT @CarmenSpinDiego: @Dreamdefenders and other black activist censored on @instagram after #gopdebate http://t.co/m6aFfsKJmC',\n",
              " 'RT @SouthernHomo: Me as a moderator at the #GOPDebate http://t.co/URnKZ69fNx',\n",
              " 'RT @JohnGGalt: Looks like Fox News needs to be taken out back. #GOPDebate #MakeAmericaGreatAgain',\n",
              " 'RT @hunterwalk: If men could become pregnant, whoooo wheeee, these answers would be different #GOPDebate',\n",
              " 'Remember this bullshit when picking a president #GOPDebate. #stupid #marines http://t.co/HhSotdZXiL',\n",
              " \"RT @cavaticat: I didn't watch the #GOPDebate last night so today I got to wake up still liking myself and humanity in general.\",\n",
              " 'RT @NaughtyBeyotch: RT @AllenWestRepub \"Twitter declares @CarlyFiorina the #GOPDebate winner \\xa0\" http://t.co/lX0RkaHzMQ',\n",
              " \"After the #GOPDebate, it's the only jam that seems appropriate. @taylorswift13 @kendricklamar #BadBlood #music #np http://t.co/f2Ul333eXo\",\n",
              " 'Caller on the Rush Limbaugh show:\"I have lost all respect for Fox News.\" #FoxNews #GOPDebate',\n",
              " 'RT @SFSK8rGrrl: I Won! (Did You?)\\n#F2B @JChurchRadio @fadernauts #GOPDebate https://t.co/IylGGDhzEJ',\n",
              " \"RT @nerdist: Trump constantly looks like he's trying to push out a fart. #GOPDebate\",\n",
              " 'RT @moneyries: The second most-retweeted presidential candidate Tweet of the #GOPDebate https://t.co/rybdNPfypW',\n",
              " 'These boys imagine themselves in the Oval Office? God help us all. #GOPdebate #debate #houseofcards',\n",
              " 'RT @megynkelly: .@realDonaldTrump: I think the big problem this country has is being politically correct #GOPDebate',\n",
              " 'Oh and the absolute disrespect of @POTUS by the GOP candidates in the #GOPDebate was DISGUSTING!',\n",
              " 'Shame on #FoxNews making FIRST Primary Debate all about THEM #RatingsBonanza THEY win VOTERS lose. #GOPDebate #TCOT https://t.co/Gs5eoDhvHu',\n",
              " 'RT @DonnieWahlberg: I love seeing the #StraightOuttaCompton movie preview during the #GOPDebate!\\n\\nWill have seen both in the next 24 hours!',\n",
              " 'RT @ChronFalkenberg: \"The military is not a social experiment. The purpose of the military is to kill people and break things.\" Huckabee sa…',\n",
              " \"Fact checking (for those just recovering from last night's #DrinkingGame #GOPDebate ) http://t.co/8iBAcPcs7D\",\n",
              " '#GOPDebate: Fox News tries to dump the #Trump. http://t.co/MuSxkU53Ol http://t.co/2Ha71jFRp1',\n",
              " '\"This was more of an inquisition than it was a debate\" says Sen Graham about Fox News moderators questioning @realDonaldTrump at #GOPDebate',\n",
              " \"Didn't like #ScottWalker before the debates, like him even less now. #GOPDebate\",\n",
              " \"Keep trying but it ain't working. Ppl saw through your focus groups &amp; @FoxNews last night. #GOPDebate  https://t.co/FyXcFnWEdp\",\n",
              " 'Amazing! Marco Rubio schools @ChrisCuomo on when life begins: https://t.co/PrKLk6X4Ji #ProLife #GOPDebate #TCOT',\n",
              " \"RT @StudyingLiberty: The man who wants to take on Iran, Russia, and China can't even handle a few tough debate questions by Megyn Kelly. #G…\",\n",
              " 'Interesting stuff: Pundits/analysts say FOX asked good questions, caller just now on talk radio said he \"lost respect\" for FOX. #GOPDebate',\n",
              " 'RT @mrmilianspeaks: Dear Republicans\\n\\nIf you grew up broker than everyone else then why do you hate the poor so much?\\n\\n#KKKorGOP  #GOPDebate',\n",
              " 'RT @JHoganGidley: VIDEO: @GovMikeHuckabee Crushes Frank Luntz @FoxNews focus group: http://t.co/zTrUVoFwGG \\ncc: @FrankLuntz #Huckabee2016 #…',\n",
              " '@IngrahamAngle \"@CarlyFiorina ran away with it.\" #GOPDebate #Carly2016 https://t.co/8AQYJ9bYOr',\n",
              " 'RT @NaphiSoc: I am more committed than ever to support Democratic nominee thanks to #GOPDebate \\nand any \"Dem\" who even hesitates is not a D…',\n",
              " 'RT @ShrinkGov: Lets not pretend the bar for POTUS is very high now.  Its somewhere between sh*t and syphilis\\n#GOPDebate #tcot',\n",
              " 'Bernie Sanders is a fucking national treasure.\\n\\n@BernieSanders \\n#FeelTheBern \\n#GOPDebate \\n#JonStewart \\n#DonaldTrump \\n#Bernie2016 \\n#Democrat',\n",
              " 'RT @FreedomJames7: Who Wants A Hug?\\n#GOPDebate http://t.co/iaTS8vyx7c',\n",
              " 'RT @P0TUS: Rick Perry calls planes \"aviation assets\" This is what happens when you wear glasses to improve your IQ. #GOPDebate /Kiddie Vers…',\n",
              " 'RT @DanScavino: .@realDonaldTrump wins 1st #GOPDebate!\\n#MakeAmericaGreatAgain #Trump2016 #TeamTrump #TrumpForPresident 🇺🇸 http://t.co/2P8dW…',\n",
              " 'After #GOPDebate the world leaders said \"put the bombs away, these guys will destroy America themselves.\" #Republicans #notbetter',\n",
              " 'My mom this morning, \"so who won the debate?!\". My Dad: \"The Democrats did\" ... #GOPDebate',\n",
              " 'RT @micnews: Kimye’s selfie with Hillary Clinton was more viral than the #GOPDebate http://t.co/7BiQfjHmhF http://t.co/mZtcBkKgwu',\n",
              " \"RT @jimtrue48: @Treezilla @hereistheanswer I don't mind hardball questions but I don't like an ambush aimed at taking someone out of the ra…\",\n",
              " 'No one summed it up better than #BernieSanders. #GOPDebate  https://t.co/jL65PKp3Ua',\n",
              " 'RT @marksluckie: Just one #BlackLivesMatter question at #GOPDebate? But we spent a half hour talking about fences?? http://t.co/v7pqn2Qr84',\n",
              " 'Liberals went from experimenting on patients in mental institutions to working for #PlannedButcherhood  #GOPDebate',\n",
              " \"RT @RadioFreeTom: Look, Trumpkins, your hero didn't even win the steak knives last night, know what I'm sayin' here? #GOPDebate\",\n",
              " 'I\\'m impressed by @CarlyFiorina. She\\'s classy, inspires confidence &amp; trustworthiness. Everyone saw her dominate \"happy hour\". #GOPDebate',\n",
              " 'RT @larryfeltonj: It must be awful living with the paranoid worldview presented at the #GOPDebate.  These guys need therapy, not public off…',\n",
              " 'RT @JillBidenVeep: I hate the phrase \"I just can\\'t\" but I\\'m pretty close to feeling that way about this God question. #GOPDebate',\n",
              " 'RT @ShadowBard: American women take note: When @@realDonaldTrump justified his piggish attacks on women at the #GOPDebate, not 1 man on sta…',\n",
              " 'Here is another one! Poor Frank is taken a beating😩 LOL!😂😂😂 #GOPDebate @realDonaldTrump  https://t.co/FfkuAoetTM',\n",
              " \"RT @ctblogger: This image best sums up my thoughts regarding last night's #GOPDebate http://t.co/ko0eOisFJw\",\n",
              " 'How everyone watching the #GOPDebate last night felt after any of the candidates gave an answer to any question! 😒\\n https://t.co/Bmz0MvesEa',\n",
              " '#HalffullHalfMT? @FoxNews moderators prep #GOPDebate 4whats coming? Abc nbc CNBC cnn  willB more Nasty, #youvebeentargeted @realDonaldTrump',\n",
              " 'RT @becca0mae: I don\\'t know who won the debate, but @Writeintrump definitely won the award for \"best #GOPDebate live tweeting\"',\n",
              " \"RT @AwardsDaily: I don't think I've ever seen a bunch of dudes so afraid of one woman as during last night's debates. #GOPDebate\",\n",
              " 'The #GOPDebate as theater, made-for-TV (&amp; web) drama, (and, duh) reality TV, via @CharlesMcNulty @latimes http://t.co/lTZD4fxR8b',\n",
              " \"RT @LWilsonDarlene: #Hillary spent #GOPDebate night hanging out with a rude rapper &amp; reality show queen who's claim to fame is a sex video.…\",\n",
              " 'RT @SpudLovr: Fetus dies in womb after 20 weeks? No D&amp;C for you. #ScottWalker16 thinks you should carry it full term. #GOPDebate',\n",
              " '@RandPaul got his clock cleaned last night. Bye, bye. #debate #GOPDebate',\n",
              " '#GOPDebate  The order was to \"take out Trump\", but I wonder if FOX News was the one who took the \"order\" seriously. @HeidiL_RN',\n",
              " 'In-Depth Interview with Former Nurse @JillStanek on #PPSellsBabyParts Scandal: http://t.co/KVl3ydITDA \\n\\n#DefundPP #GOPDebate\\n@CtrMedProgress',\n",
              " 'http://t.co/wrmBJKVhNr.Candidate.Mentioned.Inequality! Not, one!!! #GOPDebate',\n",
              " 'RT @NerdyWonka: Aaaaaaaaaaaaaaand the winner of the #GOPDebate is: http://t.co/BMh8u80tyh',\n",
              " 'RT @ThePatriot143: Let me help @FoxNews they wanted proof from Trump RE: Illegal Mexican Criminals #GOPDebate http://t.co/6yqBHhngsE http:/…',\n",
              " 'RT @pattonoswalt: My daughter, just now: \"Can\\'t we watch CUPCAKE WARS?\"\\nMe: \"We are, sweetie. We are.\" #GOPDebate',\n",
              " \"RT @alexandraheuser: GOOD POINT  Wait 'til you hear him in a SERIOUS Debate! #GOPDebate #FoxNews  https://t.co/IGhQI3LgH9\",\n",
              " 'RT @reedfrich: Terms not mentioned tonight at #GOPDebate:\\n-income inequality\\n-minimum wage\\n-climate change\\n-voting rights\\n-parental leave\\n-…',\n",
              " \"RT @99AndThe2000: This is the biggest shit show I've ever seen.\\n\\nEverybody on stage looks like they got their ass kicked in the 10th grade.…\",\n",
              " 'RT @palmaceiahome1: If anyone thinks Jeb Bush is going to secure the border and stop sanctuary cities their smoking crack. #GOPDebate',\n",
              " '#GOPDebate #BlackTwitter about last night https://t.co/Zh9M8Bx4vb',\n",
              " '@GovMikeHuckabee Thought you did a good job articulating the issues. #GOPDebate',\n",
              " 'RT @amaraconda: me @ every republican ever #GOPDebate http://t.co/58imcbHrA7',\n",
              " 'RT @palmaceiahome1: Rush Limbaugh seems to think #FoxNews did a hit job on Trump. #GOPDebate',\n",
              " 'RT @ChrisJZullo: No substantive conversation about income inequality, declining wages, social security or race and minorities. #GOPDebate a…',\n",
              " 'RT @toddstarnes: Megyn Kelly: \"Would you really let a mother die rather than have an abortion?” Are you freaking kidding me? #GOPDebate',\n",
              " 'RT @revjaydub: Clown show. #GOPDebate http://t.co/uyWu9jQcEx',\n",
              " 'RT @JillStanek: \"I think future generations will look back and call us barbarians for killing millions of babies.\" ~@MarcoRubio #GOPDebate …',\n",
              " '@JonathanHoenig I thought this may be a reference to SOME candidates BS in the #GOPDebate last night ;)',\n",
              " \"RT @gregmepstein: As 501c3 non-profit exec @HarvardHumanist @HumanistHub I legally can't do partisan advocacy-but demonizing @PPact=morally…\",\n",
              " \"A colleague of mine handed out grades for last night's #GOPDebate check it out: http://t.co/muJedVszhG\",\n",
              " '#GOPDebate ignored America’s 45 million poor, but didn’t stop the candidates from mentioning “immigration” and “illegal” as the real threat',\n",
              " 'RT @gearhead81: #GOPDebate so the debate for POTUS comes down to who is the best insulter of + sized irrelevant lesbians? &amp; youre doing wha…',\n",
              " 'RT @lilwolf30: Rubio has spoken the #truth! #WakeUpAmerica #GOPDebate http://t.co/Cl2BuZXQYZ',\n",
              " 'RT @Momfullofhope: Bingo #GOPDebate #KochBrothers \\n#Puppets Wined and Dined last weekendas planned #Shameful \\n#MakeAmericaGreatAgain  https…',\n",
              " 'WSJThinkTank: RT rentamob: In #GOPDebate, John Kasich showed himself to be an alternative to Jeb Bush, says LindaJKillian:  …',\n",
              " 'RT @coryjcrowley: Oddest thing so far about #GOPDebate @IamStevenT is sitting three rows ahead of me http://t.co/oYfVREeiaX',\n",
              " \"It's good that Facebook had their logo all over the debate last night, otherwise their brand awareness might have suffered. #GOPDebate\",\n",
              " '@megynkelly showed at the #GOPDebate she has no biz being a moderator. She is an interviewer and nothing else. @FoxNews failed last night.',\n",
              " \"Why's THIS the most retweeted comment of the #GOPDebate? B/C it's more truthful than anything any GOP candidate said https://t.co/nicl3cYjPs\",\n",
              " 'I learned that i cant watch the #GOP before bed #nightmares #GOPDebate #GOPDebacle',\n",
              " '\"@FoxNews: .@brithume: “The best closing statement was @RealBenCarson\\'s.” #GOPDebate #KellyFile http://t.co/WKQIhlnXn4\" . . . i so agree!',\n",
              " \"Oooh, so Fox News also doesn't want Trump to be president. #GOPDebate\",\n",
              " \"RT @MSchmidtRTD: Va. GOP leaders praise debate performances. Trump's, not so much. http://t.co/Ul5pgAq4UH #Election2016 #GOPDebate\",\n",
              " '#GOPDebate constant: those who have already committed to a candidate believe it was their ox that was gored last night. #tcot',\n",
              " \"@YaleClimateComm @JerryBrownGov not a peep from them...  It's because they take $$ from oil &amp; gas!  Why would they #ActOnClimate #GOPDebate\",\n",
              " '@SteveDeaceShow\\nSince Ronald Reagan, @tedcruz is definitely the nominee #Conservatives have been waiting for!\\n\\n#tcot\\n#GOPDebate\\n#CruzCrew',\n",
              " 'Walker kept his points tight and clean but I want to see him run the clock longer in the next debate. #GOPDebate',\n",
              " 'They are trying to keep Rand Paul out of the debate like they did with his father. #GOPDebate #tcot #tlot http://t.co/cst2rRdnL7',\n",
              " \"RT @_HankRearden: Well, so much for Krauthammer's theory about the 'collapse of Trump' lol. #GOPDebate #Trump2016 http://t.co/xtMDUbZGnj\",\n",
              " 'RT @DanScavino: 2015 #GOPDebate Winner?\\nTime has @realDonaldTrump leading with 42%. \\n#Trump2016 #MakeAmericaGreatAgain 🇺🇸 http://t.co/dOckS…',\n",
              " '@realDonaldTrump has issues with women 4 ex wives &amp; a daughter -Obama has 2 daughters 1 wife &amp; is Very Respectful #gopdebate #msnbc #cnn',\n",
              " \"@tweetreachapp Of course. It'd be cool to see which users ranked highest for #GOPDebate tweets, too. After all, we're the tweeters.\",\n",
              " 'Best moment of the #GOPDebate last night: Rand telling Christie to go get another hug from Obama.',\n",
              " 'RT @alexandraheuser: #FF WHOA (WEIRD format -Any1 know about this?) https://t.co/Np8CjQWYJi #GOPDebate #GOP #RNC @Reince @rushlimbaugh @kil…',\n",
              " 'RT @JamilSmith: Ben Carson says that folks are trying to start a race war. Is he talking about #BlackLivesMatter, or folks like Dylann Roof…',\n",
              " 'Numbnuts! \"@FoxNews dedicated &lt; 2min of 2hr debate to Qs about ways black America has been under attack\" #GOPDebate http://t.co/TXMkGV9hIb',\n",
              " 'I was pretty impressed by Rubio, Kasich, and Cruz in the primetime debate last night. #GOPDebate',\n",
              " \"vicenews: Yes, there was a #GOPDebate last night but here's what happened at Canada's: http://t.co/jwUQeKDKjl http://t.co/jAOyjUTVF9\",\n",
              " \"I'm still convinced that no amount of sage in the world could've extinguished the bad energy and negative vibes at the #GOPDebate last night\",\n",
              " 'Bernie Sanders live-tweeted the #GOPDebate http://t.co/oz6UPiBXRp via @HuffPostPol',\n",
              " \"Finally watched the #GOPDebate, freakin' hilarious. Kelly killed it, and Trump definitely got his showboat. Was there anyone else there?\",\n",
              " \"RT @RedStateJake: Looking for a new candidate to support after last night's #GOPDebate?\\n\\nhttp://t.co/p7HNjW98Fn\\n\\n#Carly2016 #tcot #tlot htt…\",\n",
              " 'Hands up if you would want to read a sequel to David Brock\\'s \"The Republican Noise Machine\" covering the past 11 years. #GOPDebate',\n",
              " \"RT @stephenmengland: Just read @realDonaldTrump's early morning Twitter rants. . .there are reasons why it's not recommended to mix drugs a…\",\n",
              " 'Interesting. If nobody had fact checked, would the candidates have returned the funds? #GOPDebate. #BlackLivesMatter https://t.co/ZIRtDzlklA',\n",
              " 'RT @AmandaWills: Personally, this was my favorite moment from last night. #GOPDebate http://t.co/AIvDiPqw5r',\n",
              " 'RT @Franklin_Graham: As you watch the #GOPDebate, pray for the future of this nation and that America would turn back to God. #PrayforAmeri…',\n",
              " \"I'm quite certain that the @realDonaldTrump is working for @HillaryClinton. It is his mission to get her elected.\\n\\n#GOPDebate\",\n",
              " 'RT @blondieforkeeps: @Koolmoe21 I want a #trump for president shirt!!! #GOPDebate',\n",
              " 'RT @larryelder: Trump SHOULD have said, \"If that\\'s how you wish to begin, ask these gentlemen will THEY support ME when I win the nominatio…',\n",
              " 'RT @rabite: The winner is clear: @realDonaldTrump #GOPDebate http://t.co/w2gxqowO4P',\n",
              " 'RT @JaxT0520: Done with @FoxNews after last nights #GOPDebate @megynkelly showed her true colors but @realDonaldTrump shined! #Trump2016',\n",
              " 'RT @Pyrotoz: The #GOPDebate is like watching a bunch of chimps throw their own shit at each other.',\n",
              " 'My thoughts exactly.\\n#FrothyMixture\\n#GOPDebate \\n\\nhttp://t.co/xccj3HGJq8',\n",
              " \"Disappointed (not surprisingly) that the #GOPDebate didn't include talk about #gunviolence. This is unconscionable. http://t.co/FntnF5ZeNU\",\n",
              " 'The abortion portion of the #GOPDebate sure degenerated into one big \"Let Mommy Die\" Off, didn\\'t it?',\n",
              " '#GOPDebate: Ted Cruz’s Precious Daughters Steal The Show: There were certainly some\\xa0“did they really just say ... http://t.co/jzlh4Lrzh4',\n",
              " '#GOPDebate was a joke',\n",
              " 'After that hilarious #GOPDebate I think the only real candidates are \\n@HillaryClinton and @BernieSanders http://t.co/c6ulr4O8hE',\n",
              " \"RT @lesleyabravanel: My girl Hillary Clinton whips and nae naes like nobody's business. That's why Trump had to pay her to come to his wedd…\",\n",
              " 'RT @Dreamweasel: FOX NEWS: \"Why is a smug, sexist asshole that people support bc he\\'s a smug, sexist asshole acting like a smug, sexist ass…',\n",
              " \"RT @guypbenson: I predicted big ratings for Fox's #GOPDebate. I did not expect they'd be this big... http://t.co/IJseDrcUlZ\",\n",
              " \"I couldn't help myself... Why GOP Candidates Need a Pageant Coach. #GOPDEBATE #BLOG http://t.co/wj05xZksA0 http://t.co/Jpxno0Jo5A\",\n",
              " 'RT @k_mcq: Megyn Kelly is acting like an SJW repeating @PPact talking points &amp; taking insults against feminists personally. Waste of space!…',\n",
              " 'Absolutely terrifying. #Trump #GOPDebate http://t.co/m2leGhw8fJ',\n",
              " 'Ugh to think there were actually people sitting on their couch last night saying YES YES THIS IS REASONABLE. #GOPDebate',\n",
              " \"RT @goldengateblond: Megyn Kelly better be careful with her tone or she'll be called the worst thing possible: a feminist. #GOPDebate\",\n",
              " '@sallykohn @megynkelly Megyn you are now officially charted on the Moonbat Hit Parade.  \\n#MegynKelly #GOPDebate',\n",
              " 'Rand Paul came off as a little petty man with Napoleon complex. Blah #tcot #trump #GOPDebate  https://t.co/hzryAMnGsZ',\n",
              " \"RT @ergeekgoddess: Yo #GOPDebate, I'm really happy for you, I'mma let you finish. But #JonStewart had one of the best TV shows of all time.…\",\n",
              " 'Kasich making a better showing so far than I thought he would #GOPDebate',\n",
              " 'RT @ColinPClarke: Combating #ISIS big topic in #GOPDebate. Our analysis based on all insurgencies since WWII http://t.co/kpq07uPyrS http://…',\n",
              " \"RT @sarahbh319: @OneRationale I'm on the fence between Huckabee and Cruz. Honorable mention to Rubio. #GOPDebate\",\n",
              " 'How dare @megynkelly ask @realDonaldTrump his history of being a male chauvinist! Do we expect our president to have integrity?! #GOPDebate',\n",
              " 'RT @clairechansen: Hey Trump, refraining calling women \"fat pigs\" and \"whores\" isn\\'t being politically correct, it\\'s being a decent human. …',\n",
              " 'RT @JesseCox: This just in: women have less rights then babies. #GOPDebate',\n",
              " 'RT @AdamSmith_USA: democrats watching the #GOPDebate http://t.co/MuSUto1iRh',\n",
              " 'RT @NicoleT_E86: @megynkelly @FrankLuntz I used to like you but not anymore. You should read the tweets - you did an awful job tonight. #GO…',\n",
              " 'Jeb Bush: a proven conservative record &amp; proven record of winning #gopdebate https://t.co/vN45Hf6YEM',\n",
              " 'RT @samugranados: Robert Costa / David Weigel breaking down the #GOPdebate in this neat presentation by @Tan_Shelly  @SethBlanchard http://…',\n",
              " 'RT @hwrudulph: Take a break from the #GOPDebate and reminisce with me on the awesome, groundbreaking badassery of #QueenLatifah. http://t.c…',\n",
              " 'RT @TheBaxterBean: Scott Walker Forces Women To Carry Rapists’ Pregnancies &amp; Let Men Sue Over Abortion #GOPDebate http://t.co/yziVIpQAnx @B…',\n",
              " \"RT @monaeltahawy: And was cheered! Shame, #GOPDebate: Trump responds to Megyn Kelly's questions on misogyny – with more misogyny http://t.c…\",\n",
              " 'The #GOPDebate in 6 seconds: https://t.co/8hZOwUufpo',\n",
              " \"RT @TheBaxterBean: Marco Rubio Plans To Help Wall Street Profit Off College Students' Future Earnings http://t.co/KowXcW9IbC #GOPDebate htt…\",\n",
              " 'RT @ShannonBream: The donor class feeds the political class, govt keeps getting bigger - says @GovMikeHuckabee #GOPdebate',\n",
              " '@CarlyFiorina Magnificent at the first #GOPDebate. I support Ted Cruz as POTUS, but would support you as running mate or POTUS. HONESTY!',\n",
              " \"RT @einial: Did Rubio's ears get bigger during this debate? #GOPDebate\",\n",
              " 'Kasich/Williams 2016\\n#GOPDebate http://t.co/qdDoqyX0IP',\n",
              " 'The First #GOPDebate: Social Media Reaction and More http://t.co/sBvY8iiruF',\n",
              " \"RT @murphttam: Miss the #GOPDebate last night? Don't fear! I've got you covered with a recap https://t.co/mdI4JzVabp\",\n",
              " '\"Would you really let a mother die, rather than have an abortion?\"\\n\\nWas seriously being asked of a presidential hopeful in 2015. #GOPdebate',\n",
              " '.@TajMagruder Say it with me, GOP: Bashing .@HillaryClinton is not a campaign platform! #GOPDebate',\n",
              " 'RT @DanScavino: ICYMI: @realDonaldTrump on @Morning_Joe @morningmika discussing #GOPDebate #Trump2016 #MakeAmericaGreatAgain  https://t.co/…',\n",
              " \"@KyleBrandt in the #GOPDebate Fox made @megynkelly play the womens victim she wasn't professional. She was a raging B all night\",\n",
              " 'Early2000s: I did political theater w/\"Billionaires for Bush (or Gore)\" re corruption of $ in politics. #GOPDebate Trump: \"I buy \\'em all!\"',\n",
              " 'RT @realOBF: God is up next on the #GOPDebate ... http://t.co/tUdL2F7Zs1',\n",
              " \"RT @WStachelberg: Last night's #GOPDebate: what topics merited attention, and which were ignored #GOPtbt http://t.co/1mbeTsRSrI\",\n",
              " \"RT @TinyMuslimah: Everybody wanna be a Jesus freak till it's time to feed the poor. #GOPDebate\",\n",
              " 'RT @johneberkowitz: This sums up the #GOPDebate perfectly. http://t.co/d6p2W69Ea5',\n",
              " 'RT @BBCJonSopel: Listening to Donald #Trump2016 you get impression he could start a fight in an empty room #GOPDebate',\n",
              " 'RT @TheFriddle: I miss the days when conservatives wanted a @GOP Presidential candidate who was, you know, a conservative... #Trump #GOPDeb…',\n",
              " 'Heard clip from #GopDebate about #NSA w/ #Christie &amp; #Paul . #Christie supports #NSA past actions.So he agrees w/#Obama &amp; #Democrats right?',\n",
              " \"RT @Tombx7M: Will someone please tell Megyn it's not about her.\\n#kellyfile #GOPDebate\",\n",
              " '\"But what about the next 10 words?\" - @Pres_Bartlet #GOPDebate',\n",
              " 'THIS. #GOPDebate #GOPClownCar  https://t.co/ED40f1ZIFY',\n",
              " 'I hate that I missed the #GOPDebate last night but these @FoxNews high lights are on point. 🐘🇺🇸',\n",
              " \"Fuck it last one and I'm done #GOPDebate #ChrisChristie http://t.co/QAmUqbetDc\",\n",
              " 'RT @brian_mcgill: Fantastic statistical breakdown of the #GOPdebate from @randyyeip, @stuartathompson last night.http://t.co/dbGL8GdFPb htt…',\n",
              " 'RT @k_mcq: Megyn Kelly on Trump: “He can’t just keep just going after everyone attacks him!” Yes, he can, Ms. \"I’m Offended!\" Feminist. #GO…',\n",
              " \"beeteedubs.  If you have to play 'Lesser-of-17-Evils' with your party ... perhaps you need a new party.  #p2 #tcot #GOPDebate\",\n",
              " 'Two debates, one winner: Carly http://t.co/piewA1JCcc #Carly2016 #GOPDebate',\n",
              " 'RT @FreedomJames7: John Kasich Is A RINO.\\n#GOPDebate',\n",
              " 'RT @LeticiaEstrada: Did anyone see this last night #gopdebate #trump https://t.co/aU20dYdoWh',\n",
              " 'RT @alicetweet: Coming up: @govmikehuckabee on @FoxBusiness re: #GOPDebate http://t.co/jSLiarDFCO',\n",
              " \"RT @Number10cat: I'm just glad there isn't a swimsuit round #GOPDebate http://t.co/tiTzlo93OF\",\n",
              " '#Petition: Exclude Megyn Kelly As A Host From Future Fox News Debates: https://t.co/DxnjJUXeLe (@change) #GOPDebate #debate #MegynKelly #GOP',\n",
              " \"Why can't our debates be more like the Founding Fathers?\\n\\nhttp://t.co/01KulhlXSK\\n\\n#GOPDebate\\n#LNYHBT #TLOT #TCOT #P2\",\n",
              " \"@TheRightScoop well @FrankLuntz focus group certainly doesn't match today's #GOPDebate polls\",\n",
              " 'RT @docrocktex26: This is who wants to \"lead\" your country. This is who wants to make decisions on your behalf. This was their opening case…',\n",
              " 'RT @deray: Scott Walker is dangerous. He is deep in his own world and is most comfortable there, it seems. Dangerous. #GOPDebate',\n",
              " 'Lets not pretend the bar for POTUS is very high now.  Its somewhere between sh*t and syphilis\\n#GOPDebate #tcot',\n",
              " 'S/O to the GOP for being proud of defeating teachers union even though they just wanted higher wages #GOPDebate',\n",
              " \"GOOD POINT  Wait 'til you hear him in a SERIOUS Debate! #GOPDebate #FoxNews  https://t.co/IGhQI3LgH9\",\n",
              " 'RT @TananariveDue: As @ShaunKing pointed out, #GOPDebate had a huge audience of POC ready to learn. What we learned was mostly just scary. …',\n",
              " \"RT @theblaze: Pundits incensed over @megynkelly's abortion question for @ScottWalker during #GOPDebate: http://t.co/m8hAmUusrZ\",\n",
              " \"I don't give a flying fuck about what Hollywood celebs think about last night's #GOPDebate. They know who they want to win already. F-them.\",\n",
              " 'RT @fakedansavage: Trump: \"If I\\'m the nominee, I will not run as an independent.\" #GOPDebate',\n",
              " \"RT @PersianPolitik: @woodruffbets @thedailybeast And you just proved @realDonaldTrump point on bad journalists from the #GOPDebate can't ev…\",\n",
              " 'RT @ChadHastyRadio: Really, the only people who seem upset with @BretBaier &amp; @megynkelly &amp; FOX are the people who backed Trump. #GOPDebate',\n",
              " '@Deb_Libby Half the Republican base has dementia. They probably found it riveting (when not confusing the TV w/the toaster). #GOPDebate',\n",
              " 'RT @marcorubio: This election better be about the future, not the past. #GOPDebate',\n",
              " \"I don't agree with @megynkelly but she is by no means a bimbo, #DonaldTrump.\\nAs a woman, I find Trump's comments disgusting.\\n#GOPDebate\",\n",
              " \"RT @deray: Christie comes across as a bully. But the bully that reminds you that he hurts people because it's in their best interests. #GOP…\",\n",
              " 'Chris Christie tried to wrap himself in 9/11 (Giuliani-style) during the #GOPdebate. In doing so, he lied, twice. http://t.co/y6mUdmr66P',\n",
              " 'RT @k_mcq: It’s embarrassing that a brilliant, stunning woman like Megyn Kelly uses SJW, feminist propaganda to attack Republicans. #GOPDeb…',\n",
              " 'RT @Kerryepp: A debate should be between 2 candidates. Not between a candidate and a moderator. The moderators should be time keepers only.…',\n",
              " '#GOPDebate why do politicians stick to the same old topics, pro-life, pro-choice? gay marriage. Let it go..These are personal choices!',\n",
              " \"I mean, why should it matter if the questions were unfair? You didn't bother answering them anyway @realDonaldTrump #GOPDebate\",\n",
              " 'RT @peddoc63: Go Carly📢\\nGo Carly📢\\nGo Carly📢\\n@CarlyFiorina #Carly2016 #GOPDebate\\n@steph93065 @MaydnUSA http://t.co/Pk45i5Zvk0',\n",
              " 'Todd Palin &amp; Rand Paul have closed down a Senor Frogs in Puerto Vallarta together after a day of rigorous jet skiing #GOPDebate',\n",
              " 'RT @Didikatz: Mistake to think #GOPDebate would be fun. Seeing deep sickness US conservatism has become bastardized &amp; spawned by @FoxNews v…',\n",
              " '#GOPDebate  Was interesting to watch, some candidates had some good points about the how the economy has change in the 10 yrs .',\n",
              " 'Debate Preformances:\\nKasich A-\\nRubio A-\\nCarson B+\\nChristie B+\\nTrump B\\nBush B\\nCruz B-\\nHuckabee B-\\nPaul C+\\nWalker C\\n#GOPDebate #Kasich #Rubio',\n",
              " 'RT @WND_TXT: #Trump is a man  who is Substance.A fighter.The Intellectual Class will never be able to understand a hands on person like Tru…',\n",
              " 'Donald Trump Clashes With Megyn Kelly During #GOPDebate  (Video)   https://t.co/k8h5CZrYMW',\n",
              " 'RT @PhillyD: I went to a gay wedding. \\n\"Applause\"\\nAnd there were black people there too!\\n\"Standing ovation\"\\n#GOPDebate',\n",
              " 'After #GOPDebate, @realDonaldTrump still #1 with Twitter but loosing ground. http://t.co/tXiMY82SOQ http://t.co/cVclcb6UBM',\n",
              " 'RT @kumailn: \"We have the military for a reason. To fuck shit up!!!\" #GOPDebate',\n",
              " \"@joshtpm #GOPDebate https://t.co/AyxbtXwsKR … Money Can't Buy Me Love? Or Can It? -D Trump #Quote\",\n",
              " 'RT @Writeintrump: Jeb Bush refers to himself as Vito Corleone. I always thought he was Fredo.  #GOPDebate',\n",
              " 'RT @maureenjohnson: \"Women or guns? Which are the most people?\" #GOPDebate',\n",
              " 'RT @TamaraCG: My new favorite gif is perfect. #GOPDebate http://t.co/uKdZ8O85Av',\n",
              " 'RT @Wordplay4Days: @Dreamdefenders were censored for taking these candidates ACTUAL words and posting these. #KKKorGOP #GOPDebate http://t.…',\n",
              " \"RT @learjetter: #FOXNEWS used crazy&gt; @DWStweets to stir the #drama pot, and that's unprofessional! @FoxNews #GOPDebate \\n\\n@JulietteIsabell @…\",\n",
              " 'RT @ykhong: Instagram took down @dreamdefenders website for posting real quotes from the #GOPdebate wi… http://t.co/5rEByRJgcK http://t.co/…',\n",
              " 'RT @TheMattFowler: “Mr. Trump, this next question is for you. Please explain this pathetic taking of the Stone Cold Stunner” #GOPDebate htt…',\n",
              " 'RT @AmyMek: The ONLY way @realDonaldTrump will ever be treated fairly by the media -&gt; \\n\\n#GOPDebate http://t.co/5wYduo9v2K',\n",
              " '@realDonaldTrump hires actors for his announcement. How many did he pay to click the @DRUDGE_REPORT survey ? #GOPDebate #Trump',\n",
              " \"RT @libertyladyusa: Yes ma'am @ConservVoice @KerryPicket ~&gt; @megynkelly Megyn you disappointed me! \\n\\n#GOPDebate 🇺🇸\",\n",
              " \"RT @theLadyGrantham: Don't be Donald Trump dear, it's very middle class. #GOPDebate\",\n",
              " '#GOPdebate: Trump trumps Trump. @realDonaldTrump was biggest loser.    http://t.co/I4T3C2GMZO via @SFGate',\n",
              " 'I want to point on one more time, that a real question, in a real presidential debate was \"what did God say to you?\" #GOPDebate',\n",
              " \"RT @TheBaxterBean: Marco Rubio: Constitutional Right To Choose Was 'Egregiously Flawed Decision' http://t.co/U63WRh7mXN #GOPDebate http://t…\",\n",
              " \"Scott Walker's Wisconsin Is Seeing The Fastest Shrinking Middle Class In America http://t.co/zoPokedb8L #GOPDebate #VotersFirst #Trump2016\",\n",
              " \"His supporters don't seem to care he's just as corrupt as the politicians he calls stupid. #GOPDebate  https://t.co/8jnMnzSZBk\",\n",
              " '#gopdebate Carly Fiorina called Hillary a liar 3x on @Hardball_Chris \\nThen not more than 5 minutes later, she says she never did that\\n#Liar',\n",
              " 'I know the audience erupted last night re: @realDonaldTrump and Rosie line of ques, but how could you want that guy for a Prez? #GOPDebate',\n",
              " 'Winners of #GOPDebate Sen. @MarcoRubio &amp; Former @HP CEO @CarlyFiorina by far best Republican Presidential Candidates http://t.co/v9QDpMpkK4',\n",
              " 'RT @NancyLeeGrahn: This #GOPDebate is a giant commercial for @HillaryClinton for President. Thank you God.',\n",
              " 'RT @daveanthony: Chewbacca should be up there just roaring every once in a while.  Would fit right in.  #GOPDebate',\n",
              " '#GOPDebate Field seems terrified of mentioning Obama in a negative light.',\n",
              " \"'Political Correctness' is a vile term, and people who invoke it as a slur are cowards. #GOPDebate http://t.co/n8pu1zOVBh\",\n",
              " 'established #GOPDebate afraid someone willing to tell the truth would shake DC up https://t.co/MIa5T8YSWP',\n",
              " \"RT @Writeintrump: I knew the war in Iraq was a bad idea, just like I knew letting that blind guy cut Rand Paul's hair was a bad idea.  #GOP…\",\n",
              " 'Yay, social issues next!!! #GOPDebate',\n",
              " 'RT @ArtIsWarUSA: #Democrats say Hail Hitlery #Socialist #DeathByDemocrat #Election2016 #StopHillary #GOPDebate #nazi #liberallogic http://t…',\n",
              " 'RT @Elevat0rLady: Hopped on FB, and saw my friends recap of the #GOPDebate ... She wins. http://t.co/tpszBViD8O',\n",
              " 'RT @Mammals_Suck: I am shocked* that over an hour into the #GOPDebate &amp; there have been no Qs about Police Brutality &amp; #BlackLivesMatter \\n\\n…',\n",
              " \"Maybe tweeting is just not your game. I know! Let's have a spelling contest with #profanity..U win #GOPDebate \\n https://t.co/9TaLiqmeZH\",\n",
              " 'RT @JeffSimmons2050: #GOPDebate takeaway – Presence Matters. I see presence as a blend of believability,  articulation of #integrity w/ edg…',\n",
              " \"Carly Fiorina Runs Circles Around Chris Matthews Over Hillary's Record - YouTube https://t.co/B9P8WG3ixz #GOPDebate\",\n",
              " 'RT @JRehling: #GOPDebate Donald Trump is what Bruce Wayne would have turned into if his parents lived.',\n",
              " 'RT @jphoganorg: After #GOPDebate #FeelTheBern can step over fallen #Hillary2016\\n#Justice #FBI #FEC to dissect too of 22nd Amendment: http:/…',\n",
              " \"RT @ali: I've compiled a chart based on polling rank versus time allotted to speak at the #GOPDebate. Walker, Paul most robbed http://t.co/…\",\n",
              " '\"Was GOP Debate a Campaign Preview or Rearview?\" by @BradBannon on @LinkedIn https://t.co/n0mko8qQIE #UniteBlue #P2 #POTUS #GOPDebate #RSG15',\n",
              " 'RT @richardhine: Joe Biden watching the #GOPDebate http://t.co/6y2aXgITms',\n",
              " 'American women take note: When @@realDonaldTrump justified his piggish attacks on women at the #GOPDebate, not 1 man on stage called him out',\n",
              " 'RT @feministabulous: If you \"hate abortion\" then you shouldn\\'t defund Planned Parenthood because that\\'s a surefire way to increase abortion…',\n",
              " \"RT @LeahRBoss: @CarlyFiorina spanked the boys tonight. She wasn't even on my radar. Is now. #GOPDebate\",\n",
              " 'RT @indranibala: Chris Christie currently using this case to bolster his campaign for presidency. #GOPDebate https://t.co/YGMULdG8N2',\n",
              " 'Jeb looks like Beavis when he smiles. #GOPdebate',\n",
              " 'Who needs comedy shows when you have the #GOPDebate?! Meanwhile #macdebate was kinda a snore 😴 Sorry Canada!  https://t.co/QIQvue3FSr',\n",
              " 'RT @TheBaxterBean: REMINDER: Family is important to Republican 2016 candidates, just not gay families. http://t.co/Cs0UsasSQS #GOPDebate ht…',\n",
              " \"Why can't our debates be more like the Founding Fathers, and less like game shows?\\n\\nhttp://t.co/01KulhlXSK\\n\\n#GOPDebate\",\n",
              " '@BernieSanders @ScottWalker that man did not say one intelligent thing. I mean... None of them did. #BernieSanders #GOPDebate #FeelTheBern',\n",
              " 'I have a serious #GOPDebate hangover today.',\n",
              " \"RT @cfjwagner: The 4 scariest bugs. And I don't mean GOP candidates (RIMSHOT!) http://t.co/okC1TFczwW #GOPDebate #blog #writerslife http://…\",\n",
              " 'RT @Marnus3: The perfect remedy for a #GOPDebate hangover is to #FF @pharris830 @mharvey816  @comebackdecade  @GlenThePlumber  @RFSchatten',\n",
              " '@realDonaldTrump got \"trumped\" by @megynkelly #GOPDebate',\n",
              " 'RT @mydaughtersarmy: The debate has been hard on Ted Cruz.\\n\\n#GOPDebate http://t.co/9hmr7Num6N',\n",
              " 'RT @KEEMSTARx: The black guy is smart as fuck! #GOPDebate Trump should make him his VP.',\n",
              " 'I thought @megynkelly did an awesome job at the #GOPDebate personally',\n",
              " \"@megynkelly U disappointed me in last night's #GOPDebate. U should've asked @realDonaldTrump Q's that are pertinent 2 duties of a President.\",\n",
              " 'RT @gahtbomb: Mike Huckabee: \"the purpose of the military is to kill people and break things\" #GOPDebate',\n",
              " \"RT @ag_texas: Hillary Clinton's response to the #GOPdebate: those guys are ok, but can they secure thousands of votes from illegals?\",\n",
              " \"RT @Writeintrump: Every time that bell rings Rand Paul's little poodle ears keep perking up.  #GOPDebate\",\n",
              " 'RT @WhineNot: Rush: \"Not one of the 9 other candidates on the stage joined Megan Kelly in going after Donald Trump\" #GOPDebate',\n",
              " 'RT @Writeintrump: Rand Paul\\'s haircut is really distracting. I almost yelled \"Rand get your leash it\\'s time for your walk.\"  #GOPDebate',\n",
              " 'Tired of the shills in media for Hillary.  Will henceforth be known to me as #shillary.  #GOPDebate',\n",
              " 'RT @almightygod: Ben Carson: \"God\\'s a pretty fair guy.\" I guess he\\'s never read the Bible. #job #pharaoh #shebears  #GOPDebate',\n",
              " 'RT @Writeintrump: Cheap tactic by Rand Paul getting the same haircut as my poodle to distract me.  #GOPDebate',\n",
              " 'RT → theblaze: .MattWalshBlog to Republicans after #GOPDebate: \"Maybe We Should Think About Electing Someone With … http://t.co/BRx74IldWM',\n",
              " \"John Kasich seems like a decent guy. Pity he's a republican. #GOPDebate\",\n",
              " '#GOPDebate Bingo! From @atavist https://t.co/hKEW4F0Kb2 http://t.co/pwaoz6kVOp',\n",
              " \"RT @RMConservative: Cruz's line about #CampaignConservative cuts 2 the core of the issue with GOP &amp; also the shortcomings of #GOPDebate htt…\",\n",
              " 'RT @pulmyears: Official photo from the big #FoxNews #GOPDebate last night: http://t.co/9YQGzvC2qV',\n",
              " \"Last night's #GOPDebate proved everything we already knew about the white patriarchal elitist homophobic party the GOP is.\",\n",
              " '\"[Trump] has no integrity, no character, and no principles, and he\\'s proud of it.\" - @MattWalshBlog\\n\\nAgreed \\n\\n#GOPDebate #Trump',\n",
              " 'RT @linnyitssn: Also funny how Constitution loving Republicans structurally violate the Constitution by bringing religion into politics. #G…',\n",
              " \"RT @oaaselect: I'm a radical for Capitalism and Individual Rights looking for a heroic candidate. \\n\\n #GOPDebate\",\n",
              " 'BLOWTORCH IRS!! I LIKE the sound of that!! #CriminalAbusesNOWPoised2POLICEOurHealthCare  GO Rick!!! #GOPDebate  https://t.co/ZFlcfHEe3J',\n",
              " 'RT @megynkelly: Who is your favorite from tonight’s #GOPDebate on @FoxNews?',\n",
              " '#gopdebate the fix was in from the get-go.First off, Question about pledging support should have been addressed directly 2 @realDonaldTrump',\n",
              " 'The First #GOPDebate: Social Media Reaction and More:  http://t.co/UH06EzXXfG #Socialmedia #SMO',\n",
              " '@RealBenCarson Excellent job last night at the #GOPDebate. Class act all around. Proud to have you as a Republican candidate. #BenCarson',\n",
              " 'RT @KoryStamper: Lookups! \"Misogynist\" spiking @MerriamWebster (http://t.co/k7RBb12RLC). Trump, women, and the #GOPDebate: http://t.co/yXsj…',\n",
              " 'God is not speaking to you looney tunes. How about some real questions? #GOPDebate  https://t.co/FBO00Cn461',\n",
              " \"RT @marcorubio: .@Skye820 If we're going to make this an American Century, we've got to empower small businesses. Thanks for your question …\",\n",
              " 'RT @pattonoswalt: \"My God is named \\'Bruce Springsteen\\'. Go listen to \\'Jungleland\\' and get a fucking clue,\" -- Christie. #GOPDebate',\n",
              " 'I saw @megynkelly reach down and scratch her balls once after she picked about her 10th fight with @realDonaldTrump #GOPDebate #tcot',\n",
              " \"RT @ThePatriot143: My winner overall of today's #GOPDebate 's is @CarlyFiorina She really stood out among ALL GOP Candidates\",\n",
              " 'Republicans Hate Gun-Free Zones But Held #GOPDebate In Gun-Free Zone  https://t.co/0rlAyowQW1',\n",
              " 'RT @peddoc63: If Your embassy was attacked, which Woman would You trust?\\nRT for @CarlyFiorina \\nFav for @HillaryClinton  #GOPDebate http://t…',\n",
              " 'RT @lizadonnelly: Political nonsense last night. #GOPdebate (See all on my http://t.co/MOcgZtHBdZ site.)… https://t.co/xyaHGrr5vH',\n",
              " \"RT “@TeaTraitors: #GOPDebate was still Clown Show! I'm glad Head Clown Trump helping destroy GOP. http://t.co/pRy2QPCWfu””\",\n",
              " 'You must admit, @realDonaldTrump throws #shade like #RHOA LOL! 😂😂😂 #GOPDebate  https://t.co/c9LUq1dwW3',\n",
              " 'So looking forward to listening to @DRShow\\'s news roundup this morning! \\n\"You couldn\\'t look away\" #GOPDebate \\nhttp://t.co/o8rTITVGdt',\n",
              " 'RT @MolonLabe1776us: This is how last night should have looked...\\n@megynkelly @BretBaier #GOPDebate #TCOT @realDonaldTrump http://t.co/K2TK…',\n",
              " \"I don't know if I should laugh or cry after last nights #GOPDebate.\",\n",
              " \"RT @pillary56: There's a difference between not being politically correct and being a massive jerk, Mr. Trump #GOPDebate\",\n",
              " 'My thoughts: Perry and Fiorina must replace Paul and Kasich in the top ten. Jindal needs to step it up and replace Christie. #GOPDebate',\n",
              " \"RT @marcorubio: If I'm our nominee, we'll be the party of the future. #GOPDebate\",\n",
              " '@SenTedCruz had best answer of night in response to immigration. Its not stupidity, it is how both sides want it.  #GOPDebate',\n",
              " \"RT @TheBloggess: Rather than watching the #GOPDebate I'm just watching @maureenjohnson live-tweet it.  I've made the right decision. https:…\",\n",
              " 'Interesting #GOPDebate analysis. @marcorubio clearly excelled as conservative leader we need. Go @TeamMarco! #tcot https://t.co/pve8wuodke',\n",
              " '@krauthammer Sorry the downfall of Trump in last nights debate is greatly exaggerated #GOPDebate',\n",
              " 'Moderator: \"@ScottWalker,when you \\'rip up the Iran deal on day 1\\',what then?\" Walker: \"I remember tying yellow ribbons on trees.\" #GOPDebate',\n",
              " 'RT @CCalbos: \"Tell us how god speaks to you..\" What is happening? Is this real life?  #GOPDebate',\n",
              " \"RT @GusRamsey: SNL doesn't have a big enough cast to spoof this. \\n#GOPDebate\",\n",
              " 'BBCWorld: RT BBCJonSopel: In midst of #GOPDebate came big blow to BarackObama with announcement that leading Jewish Democrat, Sen. Schumer,…',\n",
              " 'RT @CCalbos: Huckabee: \"the military is to kill people and break things.\" On behalf of military families...F you. #GOPDebate',\n",
              " 'RT @PerezHilton: While you were watching the #GOPDebate @HillaryClinton was taking selfies with @KimKardashian! http://t.co/hYTSDeMr64 http…',\n",
              " \"RT @RealBenCarson: My Pre #GOPDebate 'ritual'. #BC2DC16  https://t.co/agbMc4nBM5\",\n",
              " '@realDonaldTrump\\'s arrogance at the #GOPDebate: \"I’ve used the laws of the country to my advantage.\" #NotThatGuy http://t.co/Rjtjr9iOAC',\n",
              " '18 hours later looking back: My biggest gaffe of the #GOPDebate was repeatedly tagging Victor Cruz (@TeamVic) instead of Ted Cruz (@tedcruz)',\n",
              " \"It's real scary that liberals are allowed 2 walk around after committing horrific crimes against humanity. #GOPDebate  #PlannedButcherhood\",\n",
              " \"I'd like to thank the other 9 candidates at the #GOPDebate who took Trump to task for once again trying to #FatShame @Rosie. But, I can't...\",\n",
              " 'Gotta love @megynkelly #GOPDebate',\n",
              " \"RT @NumbersMuncher: Donald Trump is the guy who flips the Risk board over once he realizes he can't overtake Asia. #GOPDebate\",\n",
              " '@brendohare great battle last night by premier teenage athletes. #GOPDebate http://t.co/pLGp4Aai2y',\n",
              " '.@FoxNews should replace @megynkelly with @marthamaccallum in future debates. MacCallum did a MUCH better job in early debate. #GOPDebate',\n",
              " 'Donald Trump, Democratic Spy? http://t.co/8N9MvTKN4u @realDonaldTrump @SenSanders #trump #DonaldTrump #Hillary2016 #GOPDebate',\n",
              " 'RT @jjosephwilliams: 16% of United States homes with TV sets tuned in to #GOPDebate. Wow. http://t.co/TRs8vMWJYg',\n",
              " \"#GOPDebate or Old White Rich Conservative Dudes on Parade. That's a childhood nightmare of mine.\",\n",
              " \".@ljcambria @realDonaldTrump Don't forget to vote for him! Especislly when he has to go Independent! #LULZ  #HUCKSTER #RNC #GOP #GOPDebate\",\n",
              " 'Recap of the #GOPdebate: these #TenMen want to make choices for all women. #GOPtbt http://t.co/v1desifyee',\n",
              " 'RT @Writeintrump: I not only made Hillary Clinton go to my wedding, but I also made her be my Best Man.  #GOPDebate',\n",
              " 'Rand Paul could drop out of top 10 w dreadful, petulent debate. Fiorina moves up #gopdebate #tcot',\n",
              " 'RT @nerdist: I gotta say it\\'s refreshing to hear a presidential debate where everyone is correctly pronouncing \"nuclear\" #GOPDebate',\n",
              " 'RT @GogoAleee: IG Deleted DD Account after we participated in the #KKKorGOP hashtag during the #GOPDebate http://t.co/jNYRNOPngx via @Dream…',\n",
              " 'RT @CrazyClarine: lol! RT @The3o5FlyGuy: Watching the #GOPDebate like... http://t.co/zOwJcU2baZ',\n",
              " 'RT @sjadetx: My thoughts on the #GOPDebate http://t.co/BT7glNYUoN',\n",
              " 'RT @FreedomTexasMom: My LOVE for @megynkelly died tonight at the #GOPDebate #FoxNews #TrumpCruz2016 #MakeAmericaGreatAgain',\n",
              " ...]"
            ]
          },
          "metadata": {},
          "execution_count": 5
        }
      ],
      "source": [
        "corpus"
      ]
    },
    {
      "cell_type": "code",
      "execution_count": null,
      "id": "f46effc3",
      "metadata": {
        "id": "f46effc3"
      },
      "outputs": [],
      "source": []
    },
    {
      "cell_type": "code",
      "execution_count": null,
      "id": "0234bf53",
      "metadata": {
        "id": "0234bf53",
        "outputId": "0f38268a-8aa2-4df0-819a-51f9b4da290d",
        "colab": {
          "base_uri": "https://localhost:8080/"
        }
      },
      "outputs": [
        {
          "output_type": "execute_result",
          "data": {
            "text/plain": [
              "array(['00', '000', '00pm', ..., 'zygote', 'zzcrane', '⁰capable'],\n",
              "      dtype=object)"
            ]
          },
          "metadata": {},
          "execution_count": 6
        }
      ],
      "source": [
        "from sklearn.feature_extraction.text import CountVectorizer\n",
        "vectorizer= CountVectorizer()\n",
        "X = vectorizer.fit_transform(corpus)\n",
        "vectorizer.get_feature_names_out()"
      ]
    },
    {
      "cell_type": "code",
      "execution_count": null,
      "id": "f1cb00a4",
      "metadata": {
        "id": "f1cb00a4",
        "outputId": "15462276-8ec5-4024-f849-4e567e5d31b2",
        "colab": {
          "base_uri": "https://localhost:8080/"
        }
      },
      "outputs": [
        {
          "output_type": "stream",
          "name": "stdout",
          "text": [
            "[[0 0 0 ... 0 0 0]\n",
            " [0 0 0 ... 0 0 0]\n",
            " [0 0 0 ... 0 0 0]\n",
            " ...\n",
            " [0 0 0 ... 0 0 0]\n",
            " [0 0 0 ... 0 0 0]\n",
            " [0 0 0 ... 0 0 0]]\n"
          ]
        }
      ],
      "source": [
        "print(X.toarray())"
      ]
    },
    {
      "cell_type": "code",
      "execution_count": null,
      "id": "b0663182",
      "metadata": {
        "id": "b0663182"
      },
      "outputs": [],
      "source": [
        "vectorizer2 = CountVectorizer(analyzer='word', ngram_range=(1, 1))"
      ]
    },
    {
      "cell_type": "code",
      "execution_count": null,
      "id": "c31be4fd",
      "metadata": {
        "id": "c31be4fd"
      },
      "outputs": [],
      "source": [
        "X2 = vectorizer2.fit_transform(corpus)"
      ]
    },
    {
      "cell_type": "code",
      "execution_count": null,
      "id": "cd10e448",
      "metadata": {
        "id": "cd10e448",
        "outputId": "a4781f1e-4aca-464a-9acc-10d0480a7f0e",
        "colab": {
          "base_uri": "https://localhost:8080/"
        }
      },
      "outputs": [
        {
          "output_type": "execute_result",
          "data": {
            "text/plain": [
              "array(['00', '000', '00pm', ..., 'zygote', 'zzcrane', '⁰capable'],\n",
              "      dtype=object)"
            ]
          },
          "metadata": {},
          "execution_count": 10
        }
      ],
      "source": [
        "vectorizer2.get_feature_names_out()"
      ]
    },
    {
      "cell_type": "code",
      "execution_count": null,
      "id": "9426db1d",
      "metadata": {
        "id": "9426db1d",
        "outputId": "f529886b-dc00-4202-ff56-df9c20bafd4a",
        "colab": {
          "base_uri": "https://localhost:8080/"
        }
      },
      "outputs": [
        {
          "output_type": "stream",
          "name": "stdout",
          "text": [
            "[[0 0 0 ... 0 0 0]\n",
            " [0 0 0 ... 0 0 0]\n",
            " [0 0 0 ... 0 0 0]\n",
            " ...\n",
            " [0 0 0 ... 0 0 0]\n",
            " [0 0 0 ... 0 0 0]\n",
            " [0 0 0 ... 0 0 0]]\n"
          ]
        }
      ],
      "source": [
        "print(X2.toarray())"
      ]
    },
    {
      "cell_type": "markdown",
      "id": "42935114",
      "metadata": {
        "id": "42935114"
      },
      "source": [
        "# Decision Tree and logistic regression- word ngram(1,1)"
      ]
    },
    {
      "cell_type": "markdown",
      "id": "96d070f8",
      "metadata": {
        "id": "96d070f8"
      },
      "source": [
        "DECISION TREE"
      ]
    },
    {
      "cell_type": "code",
      "execution_count": null,
      "id": "6525c7ca",
      "metadata": {
        "id": "6525c7ca"
      },
      "outputs": [],
      "source": [
        "y = data[\"sentiment\"]"
      ]
    },
    {
      "cell_type": "code",
      "execution_count": null,
      "id": "410332c3",
      "metadata": {
        "id": "410332c3"
      },
      "outputs": [],
      "source": [
        "\n",
        "X_train, X_test, y_train, y_test = train_test_split(X2, y, test_size=0.2, random_state=0)\n",
        "clf_gini = DecisionTreeClassifier(criterion='gini', max_depth=4, random_state=0,max_features='sqrt')\n",
        "\n",
        "\n",
        "# fit the model\n",
        "clf_gini.fit(X_train, y_train)\n",
        "ypred2 = clf_gini.predict(X_test)\n",
        "from sklearn.metrics import accuracy_score"
      ]
    },
    {
      "cell_type": "code",
      "execution_count": null,
      "id": "211bbb43",
      "metadata": {
        "id": "211bbb43",
        "outputId": "edd214bf-682c-4838-f69c-fb87cdec0223",
        "colab": {
          "base_uri": "https://localhost:8080/"
        }
      },
      "outputs": [
        {
          "output_type": "stream",
          "name": "stdout",
          "text": [
            "Model accuracy score with criterion gini index: 0.6047\n"
          ]
        }
      ],
      "source": [
        "print('Model accuracy score with criterion gini index: {0:0.4f}'. format(accuracy_score(y_test, ypred2)))\n"
      ]
    },
    {
      "cell_type": "markdown",
      "id": "76b52b35",
      "metadata": {
        "id": "76b52b35"
      },
      "source": [
        "LOGISTIC REGRESSION"
      ]
    },
    {
      "cell_type": "code",
      "execution_count": null,
      "id": "e8408f2f",
      "metadata": {
        "id": "e8408f2f",
        "outputId": "6d94ae65-3cbd-4365-c666-557f4c8d6c4e",
        "colab": {
          "base_uri": "https://localhost:8080/"
        }
      },
      "outputs": [
        {
          "output_type": "execute_result",
          "data": {
            "text/plain": [
              "0.6864864864864865"
            ]
          },
          "metadata": {},
          "execution_count": 15
        }
      ],
      "source": [
        "from sklearn.linear_model import LogisticRegression\n",
        "LRM2 = LogisticRegression(random_state=0,max_iter=500)\n",
        "LRM2.fit(X_train,y_train)\n",
        "y_pred2 = LRM2.predict(X_test)\n",
        "accuracy_score(y_pred2,y_test)"
      ]
    },
    {
      "cell_type": "markdown",
      "id": "f374a078",
      "metadata": {
        "id": "f374a078"
      },
      "source": [
        "# Decision Tree and logistic regression- word ngram(1,2)"
      ]
    },
    {
      "cell_type": "markdown",
      "id": "77cba828",
      "metadata": {
        "id": "77cba828"
      },
      "source": [
        "DECISION TREE"
      ]
    },
    {
      "cell_type": "code",
      "execution_count": null,
      "id": "ddbf8a18",
      "metadata": {
        "id": "ddbf8a18",
        "outputId": "22381b9a-e96d-48bc-d1a2-76422a2cb647",
        "colab": {
          "base_uri": "https://localhost:8080/"
        }
      },
      "outputs": [
        {
          "output_type": "execute_result",
          "data": {
            "text/plain": [
              "array(['00', '00 crowd', '00 edt', ..., 'zzcrane me', '⁰capable',\n",
              "       '⁰capable fighting'], dtype=object)"
            ]
          },
          "metadata": {},
          "execution_count": 17
        }
      ],
      "source": [
        "vectorizer3 = CountVectorizer(analyzer='word', ngram_range=(1, 2))\n",
        "X3 = vectorizer3.fit_transform(corpus)\n",
        "vectorizer3.get_feature_names_out()\n"
      ]
    },
    {
      "cell_type": "code",
      "execution_count": null,
      "id": "d439cffe",
      "metadata": {
        "id": "d439cffe",
        "outputId": "21659286-9644-45aa-b3b6-222ad4c7a4dd",
        "colab": {
          "base_uri": "https://localhost:8080/"
        }
      },
      "outputs": [
        {
          "output_type": "stream",
          "name": "stdout",
          "text": [
            "[[0 0 0 ... 0 0 0]\n",
            " [0 0 0 ... 0 0 0]\n",
            " [0 0 0 ... 0 0 0]\n",
            " ...\n",
            " [0 0 0 ... 0 0 0]\n",
            " [0 0 0 ... 0 0 0]\n",
            " [0 0 0 ... 0 0 0]]\n"
          ]
        }
      ],
      "source": [
        "print(X3.toarray())"
      ]
    },
    {
      "cell_type": "code",
      "execution_count": null,
      "id": "120c5c26",
      "metadata": {
        "id": "120c5c26"
      },
      "outputs": [],
      "source": []
    },
    {
      "cell_type": "code",
      "execution_count": null,
      "id": "84df41fe",
      "metadata": {
        "id": "84df41fe",
        "outputId": "f7bef972-d83c-4e55-fd34-af9044e4dde3",
        "colab": {
          "base_uri": "https://localhost:8080/"
        }
      },
      "outputs": [
        {
          "output_type": "stream",
          "name": "stdout",
          "text": [
            "Model accuracy score with criterion gini index: 0.6101\n"
          ]
        }
      ],
      "source": [
        "X_train, X_test, y_train, y_test = train_test_split(X3, y, test_size=0.2, random_state=0)\n",
        "clf_gini = DecisionTreeClassifier(criterion='gini', max_depth=4, random_state=0,max_features='sqrt')\n",
        "\n",
        "\n",
        "# fit the model\n",
        "clf_gini.fit(X_train, y_train)\n",
        "y3 = clf_gini.predict(X_test)\n",
        "from sklearn.metrics import accuracy_score\n",
        "print('Model accuracy score with criterion gini index: {0:0.4f}'. format(accuracy_score(y_test, y3)))\n"
      ]
    },
    {
      "cell_type": "markdown",
      "id": "04873a48",
      "metadata": {
        "id": "04873a48"
      },
      "source": [
        "LOGISTIC REGRESSION"
      ]
    },
    {
      "cell_type": "code",
      "execution_count": null,
      "id": "2b5e0614",
      "metadata": {
        "id": "2b5e0614",
        "outputId": "29f66c2f-ee29-4d76-f23c-81376714e692",
        "colab": {
          "base_uri": "https://localhost:8080/"
        }
      },
      "outputs": [
        {
          "output_type": "execute_result",
          "data": {
            "text/plain": [
              "0.705945945945946"
            ]
          },
          "metadata": {},
          "execution_count": 20
        }
      ],
      "source": [
        "\n",
        "LRM3 = LogisticRegression(random_state=0,max_iter=500)\n",
        "LRM3.fit(X_train,y_train)\n",
        "y_pred3 = LRM3.predict(X_test)\n",
        "accuracy_score(y_pred3,y_test)"
      ]
    },
    {
      "cell_type": "code",
      "execution_count": null,
      "id": "514f34be",
      "metadata": {
        "id": "514f34be"
      },
      "outputs": [],
      "source": []
    },
    {
      "cell_type": "code",
      "execution_count": null,
      "id": "b8a435e4",
      "metadata": {
        "id": "b8a435e4"
      },
      "outputs": [],
      "source": []
    },
    {
      "cell_type": "markdown",
      "id": "1d9293e1",
      "metadata": {
        "id": "1d9293e1"
      },
      "source": [
        "# DT and LR char-ngram(1,1)\n"
      ]
    },
    {
      "cell_type": "code",
      "execution_count": null,
      "id": "06c3f82d",
      "metadata": {
        "id": "06c3f82d",
        "outputId": "69da7555-1c07-4337-be6d-fc77e1402e66",
        "colab": {
          "base_uri": "https://localhost:8080/"
        }
      },
      "outputs": [
        {
          "output_type": "execute_result",
          "data": {
            "text/plain": [
              "array(['\\n', ' ', '!', '\"', '#', '$', '%', '&', \"'\", '(', ')', '*', '+',\n",
              "       ',', '-', '.', '/', '0', '1', '2', '3', '4', '5', '6', '7', '8',\n",
              "       '9', ':', ';', '=', '?', '@', '[', '\\\\', ']', '^', '_', '`', 'a',\n",
              "       'b', 'c', 'd', 'e', 'f', 'g', 'h', 'i', 'j', 'k', 'l', 'm', 'n',\n",
              "       'o', 'p', 'q', 'r', 's', 't', 'u', 'v', 'w', 'x', 'y', 'z', '|',\n",
              "       '~', '\\xa0', '¯', '·', '»', 'à', 'é', 'î', 'ā', 'ł', 'ə', 'ˈ', 'ˌ',\n",
              "       'ٌ', '–', '—', '―', '‘', '’', '“', '”', '•', '…', '‼', '⁰', '↑',\n",
              "       '→', '↓', '↔', '⇒', '▀', '█', '►', '◄', '☑', '☜', '☞', '☢', '♀',\n",
              "       '⚡', '✅', '✋', '✔', '✯', '❤', '➡', '⬆', '⬇', '》', 'ツ', '・', '️',\n",
              "       '�', '🇸', '🇺', '🌍', '🌷', '🍔', '🍷', '🍺', '🎀', '🎉', '🎤', '🎪', '🏻',\n",
              "       '🏼', '🏽', '🏾', '🏿', '🐍', '🐘', '👀', '👉', '👊', '👋', '👌', '👍', '👎',\n",
              "       '👏', '👑', '👓', '👨', '👭', '👴', '👶', '👸', '👺', '💀', '💁', '💛', '💢',\n",
              "       '💣', '💥', '💧', '💨', '💩', '💪', '💰', '💸', '📢', '📲', '📷', '🔇', '🔥',\n",
              "       '🔨', '🔪', '🔫', '🗽', '😀', '😁', '😂', '😄', '😆', '😉', '😊', '😋', '😍',\n",
              "       '😎', '😏', '😐', '😑', '😒', '😕', '😜', '😞', '😠', '😡', '😢', '😩', '😬',\n",
              "       '😭', '😯', '😰', '😲', '😳', '😴', '😶', '😻', '🙈', '🙊', '🙌', '🙏', '🚀',\n",
              "       '🚔', '🚧', '🚷', '🚺', '🛃', '\\U000fe320', '\\U000fe327', '\\U000fe4e6',\n",
              "       '\\U000fe4ec'], dtype=object)"
            ]
          },
          "metadata": {},
          "execution_count": 21
        }
      ],
      "source": [
        "vectorizer4 = CountVectorizer(analyzer='char', ngram_range=(1, 1))\n",
        "X4 = vectorizer4.fit_transform(corpus)\n",
        "vectorizer4.get_feature_names_out()"
      ]
    },
    {
      "cell_type": "code",
      "execution_count": null,
      "id": "e7744bd0",
      "metadata": {
        "id": "e7744bd0",
        "outputId": "8f86ebe1-5496-4c2e-87c3-9322d81ad278",
        "colab": {
          "base_uri": "https://localhost:8080/"
        }
      },
      "outputs": [
        {
          "output_type": "stream",
          "name": "stdout",
          "text": [
            "[[ 0 14  0 ...  0  0  0]\n",
            " [ 0 20  0 ...  0  0  0]\n",
            " [ 0 14  0 ...  0  0  0]\n",
            " ...\n",
            " [ 0 19  0 ...  0  0  0]\n",
            " [ 0 22  0 ...  0  0  0]\n",
            " [ 0 11  2 ...  0  0  0]]\n"
          ]
        }
      ],
      "source": [
        "print(X4.toarray())"
      ]
    },
    {
      "cell_type": "markdown",
      "id": "479b29fc",
      "metadata": {
        "id": "479b29fc"
      },
      "source": [
        "DT"
      ]
    },
    {
      "cell_type": "code",
      "execution_count": null,
      "id": "5db5f217",
      "metadata": {
        "id": "5db5f217",
        "outputId": "e7e4a264-e39a-419c-f252-fcb69379a027",
        "colab": {
          "base_uri": "https://localhost:8080/"
        }
      },
      "outputs": [
        {
          "output_type": "stream",
          "name": "stdout",
          "text": [
            "Model accuracy score with criterion gini index: 0.6086\n"
          ]
        }
      ],
      "source": [
        "X_train, X_test, y_train, y_test = train_test_split(X4, y, test_size=0.2, random_state=0)\n",
        "clf_gini = DecisionTreeClassifier(criterion='gini', max_depth=4, random_state=0,max_features='sqrt')\n",
        "\n",
        "\n",
        "# fit the model\n",
        "clf_gini.fit(X_train, y_train)\n",
        "y4 = clf_gini.predict(X_test)\n",
        "from sklearn.metrics import accuracy_score\n",
        "print('Model accuracy score with criterion gini index: {0:0.4f}'. format(accuracy_score(y_test, y4)))"
      ]
    },
    {
      "cell_type": "markdown",
      "id": "d1ed311d",
      "metadata": {
        "id": "d1ed311d"
      },
      "source": [
        "LR"
      ]
    },
    {
      "cell_type": "code",
      "execution_count": null,
      "id": "3eaf337d",
      "metadata": {
        "id": "3eaf337d",
        "outputId": "135745e3-1f7f-4979-dbb0-6f0e7f01c808",
        "colab": {
          "base_uri": "https://localhost:8080/"
        }
      },
      "outputs": [
        {
          "output_type": "stream",
          "name": "stderr",
          "text": [
            "/usr/local/lib/python3.9/dist-packages/sklearn/linear_model/_logistic.py:458: ConvergenceWarning: lbfgs failed to converge (status=1):\n",
            "STOP: TOTAL NO. of ITERATIONS REACHED LIMIT.\n",
            "\n",
            "Increase the number of iterations (max_iter) or scale the data as shown in:\n",
            "    https://scikit-learn.org/stable/modules/preprocessing.html\n",
            "Please also refer to the documentation for alternative solver options:\n",
            "    https://scikit-learn.org/stable/modules/linear_model.html#logistic-regression\n",
            "  n_iter_i = _check_optimize_result(\n"
          ]
        },
        {
          "output_type": "execute_result",
          "data": {
            "text/plain": [
              "0.6263063063063063"
            ]
          },
          "metadata": {},
          "execution_count": 24
        }
      ],
      "source": [
        "from sklearn.linear_model import LogisticRegression\n",
        "LRM4 = LogisticRegression(random_state=0,max_iter=900)\n",
        "LRM4.fit(X_train,y_train)\n",
        "y_pred4 = LRM4.predict(X_test)\n",
        "accuracy_score(y_pred4,y_test)"
      ]
    },
    {
      "cell_type": "code",
      "execution_count": null,
      "id": "f725c230",
      "metadata": {
        "id": "f725c230"
      },
      "outputs": [],
      "source": []
    },
    {
      "cell_type": "markdown",
      "id": "4c5c3039",
      "metadata": {
        "id": "4c5c3039"
      },
      "source": [
        "# DT and LR  char-ngram(1,2)"
      ]
    },
    {
      "cell_type": "code",
      "execution_count": null,
      "id": "cd76a0cd",
      "metadata": {
        "id": "cd76a0cd"
      },
      "outputs": [],
      "source": []
    },
    {
      "cell_type": "code",
      "execution_count": null,
      "id": "94b3dfde",
      "metadata": {
        "id": "94b3dfde",
        "outputId": "ba97a66f-d757-4931-cddf-a1f7d6a8268c",
        "colab": {
          "base_uri": "https://localhost:8080/"
        }
      },
      "outputs": [
        {
          "output_type": "execute_result",
          "data": {
            "text/plain": [
              "array(['\\n', '\\n\"', '\\n#', ..., '\\U000fe4e6 ', '\\U000fe4ec',\n",
              "       '\\U000fe4ec\\U000fe4e6'], dtype=object)"
            ]
          },
          "metadata": {},
          "execution_count": 25
        }
      ],
      "source": [
        "vectorizer5 = CountVectorizer(analyzer='char', ngram_range=(1, 2))\n",
        "X5 = vectorizer5.fit_transform(corpus)\n",
        "vectorizer5.get_feature_names_out()"
      ]
    },
    {
      "cell_type": "code",
      "execution_count": null,
      "id": "d994bbb7",
      "metadata": {
        "id": "d994bbb7",
        "outputId": "c066fdb2-d4d4-489f-c1c0-68dbb0b5dda4",
        "colab": {
          "base_uri": "https://localhost:8080/"
        }
      },
      "outputs": [
        {
          "output_type": "stream",
          "name": "stdout",
          "text": [
            "[[0 0 0 ... 0 0 0]\n",
            " [0 0 0 ... 0 0 0]\n",
            " [0 0 0 ... 0 0 0]\n",
            " ...\n",
            " [0 0 0 ... 0 0 0]\n",
            " [0 0 0 ... 0 0 0]\n",
            " [0 0 0 ... 0 0 0]]\n"
          ]
        }
      ],
      "source": [
        "print(X5.toarray())"
      ]
    },
    {
      "cell_type": "code",
      "execution_count": null,
      "id": "937d1d10",
      "metadata": {
        "id": "937d1d10",
        "outputId": "e2d0a3ec-b6c5-4e96-86e9-582c01ce26d6",
        "colab": {
          "base_uri": "https://localhost:8080/"
        }
      },
      "outputs": [
        {
          "output_type": "stream",
          "name": "stdout",
          "text": [
            "Model accuracy score with criterion gini index: 0.6141\n"
          ]
        }
      ],
      "source": [
        "X_train, X_test, y_train, y_test = train_test_split(X5, y, test_size=0.2, random_state=0)\n",
        "clf_gini = DecisionTreeClassifier(criterion='gini', max_depth=4, random_state=0,max_features='sqrt')\n",
        "\n",
        "\n",
        "# fit the model\n",
        "clf_gini.fit(X_train, y_train)\n",
        "y5 = clf_gini.predict(X_test)\n",
        "from sklearn.metrics import accuracy_score\n",
        "print('Model accuracy score with criterion gini index: {0:0.4f}'. format(accuracy_score(y_test, y5)))"
      ]
    },
    {
      "cell_type": "markdown",
      "id": "6711a4b5",
      "metadata": {
        "id": "6711a4b5"
      },
      "source": [
        "LR"
      ]
    },
    {
      "cell_type": "code",
      "execution_count": null,
      "id": "98c3e28a",
      "metadata": {
        "id": "98c3e28a",
        "outputId": "02568175-585f-465a-f0b6-7e61ba324d10",
        "colab": {
          "base_uri": "https://localhost:8080/"
        }
      },
      "outputs": [
        {
          "output_type": "stream",
          "name": "stderr",
          "text": [
            "/usr/local/lib/python3.9/dist-packages/sklearn/linear_model/_logistic.py:458: ConvergenceWarning: lbfgs failed to converge (status=1):\n",
            "STOP: TOTAL NO. of ITERATIONS REACHED LIMIT.\n",
            "\n",
            "Increase the number of iterations (max_iter) or scale the data as shown in:\n",
            "    https://scikit-learn.org/stable/modules/preprocessing.html\n",
            "Please also refer to the documentation for alternative solver options:\n",
            "    https://scikit-learn.org/stable/modules/linear_model.html#logistic-regression\n",
            "  n_iter_i = _check_optimize_result(\n"
          ]
        },
        {
          "output_type": "execute_result",
          "data": {
            "text/plain": [
              "0.6533333333333333"
            ]
          },
          "metadata": {},
          "execution_count": 28
        }
      ],
      "source": [
        "from sklearn.linear_model import LogisticRegression\n",
        "LRM5 = LogisticRegression(random_state=0,max_iter=800)\n",
        "LRM5.fit(X_train,y_train)\n",
        "y_pred5 = LRM5.predict(X_test)\n",
        "accuracy_score(y_pred5,y_test)"
      ]
    },
    {
      "cell_type": "code",
      "execution_count": null,
      "id": "92f9def9",
      "metadata": {
        "id": "92f9def9"
      },
      "outputs": [],
      "source": []
    },
    {
      "cell_type": "code",
      "execution_count": null,
      "id": "ac622325",
      "metadata": {
        "id": "ac622325"
      },
      "outputs": [],
      "source": []
    },
    {
      "cell_type": "code",
      "execution_count": null,
      "id": "7abfc520",
      "metadata": {
        "id": "7abfc520"
      },
      "outputs": [],
      "source": []
    },
    {
      "cell_type": "markdown",
      "id": "21f98e82",
      "metadata": {
        "id": "21f98e82"
      },
      "source": [
        "# TF-IDF Vectorizer"
      ]
    },
    {
      "cell_type": "code",
      "execution_count": null,
      "id": "aafce296",
      "metadata": {
        "id": "aafce296",
        "outputId": "86cd05ac-11d6-4d71-cdc7-15909bad42a2",
        "colab": {
          "base_uri": "https://localhost:8080/"
        }
      },
      "outputs": [
        {
          "output_type": "execute_result",
          "data": {
            "text/plain": [
              "array(['00', '000', '00pm', ..., 'zygote', 'zzcrane', '⁰capable'],\n",
              "      dtype=object)"
            ]
          },
          "metadata": {},
          "execution_count": 29
        }
      ],
      "source": [
        "from sklearn.feature_extraction.text import TfidfVectorizer\n",
        "\n",
        "vectorizer0= TfidfVectorizer()\n",
        "X = vectorizer0.fit_transform(corpus)\n",
        "vectorizer0.get_feature_names_out()"
      ]
    },
    {
      "cell_type": "code",
      "execution_count": null,
      "id": "dbf75e3f",
      "metadata": {
        "id": "dbf75e3f",
        "outputId": "59dc5ccf-8d17-4eeb-9f40-e1f950039bc9",
        "colab": {
          "base_uri": "https://localhost:8080/"
        }
      },
      "outputs": [
        {
          "output_type": "stream",
          "name": "stdout",
          "text": [
            "[[0. 0. 0. ... 0. 0. 0.]\n",
            " [0. 0. 0. ... 0. 0. 0.]\n",
            " [0. 0. 0. ... 0. 0. 0.]\n",
            " ...\n",
            " [0. 0. 0. ... 0. 0. 0.]\n",
            " [0. 0. 0. ... 0. 0. 0.]\n",
            " [0. 0. 0. ... 0. 0. 0.]]\n"
          ]
        }
      ],
      "source": [
        "print(X.toarray())"
      ]
    },
    {
      "cell_type": "code",
      "execution_count": null,
      "id": "090ef9a3",
      "metadata": {
        "id": "090ef9a3"
      },
      "outputs": [],
      "source": []
    },
    {
      "cell_type": "code",
      "execution_count": null,
      "id": "b1a7acf1",
      "metadata": {
        "id": "b1a7acf1",
        "outputId": "3b5117f3-f53b-4617-ec35-1603ed61518d",
        "colab": {
          "base_uri": "https://localhost:8080/"
        }
      },
      "outputs": [
        {
          "output_type": "execute_result",
          "data": {
            "text/plain": [
              "array(['00', '000', '00pm', ..., 'zygote', 'zzcrane', '⁰capable'],\n",
              "      dtype=object)"
            ]
          },
          "metadata": {},
          "execution_count": 31
        }
      ],
      "source": [
        "vectorizer6 = TfidfVectorizer(analyzer='word', ngram_range=(1, 1))\n",
        "X6 = vectorizer6.fit_transform(corpus)\n",
        "vectorizer6.get_feature_names_out()"
      ]
    },
    {
      "cell_type": "code",
      "execution_count": null,
      "id": "1586b6b2",
      "metadata": {
        "id": "1586b6b2",
        "outputId": "2125dba4-6e9e-413d-8b4d-6f5840c2f2a4",
        "colab": {
          "base_uri": "https://localhost:8080/"
        }
      },
      "outputs": [
        {
          "output_type": "stream",
          "name": "stdout",
          "text": [
            "[[0. 0. 0. ... 0. 0. 0.]\n",
            " [0. 0. 0. ... 0. 0. 0.]\n",
            " [0. 0. 0. ... 0. 0. 0.]\n",
            " ...\n",
            " [0. 0. 0. ... 0. 0. 0.]\n",
            " [0. 0. 0. ... 0. 0. 0.]\n",
            " [0. 0. 0. ... 0. 0. 0.]]\n"
          ]
        }
      ],
      "source": [
        "print(X6.toarray())"
      ]
    },
    {
      "cell_type": "markdown",
      "id": "0bd0d4b8",
      "metadata": {
        "id": "0bd0d4b8"
      },
      "source": [
        "# DT and LR word ngram(1,1)"
      ]
    },
    {
      "cell_type": "code",
      "execution_count": null,
      "id": "81e69407",
      "metadata": {
        "id": "81e69407"
      },
      "outputs": [],
      "source": [
        "y = data[\"sentiment\"]"
      ]
    },
    {
      "cell_type": "markdown",
      "id": "ee4fff25",
      "metadata": {
        "id": "ee4fff25"
      },
      "source": [
        " DT"
      ]
    },
    {
      "cell_type": "code",
      "execution_count": null,
      "id": "41dc0444",
      "metadata": {
        "id": "41dc0444"
      },
      "outputs": [],
      "source": [
        "X_train, X_test, y_train, y_test = train_test_split(X6, y, test_size=0.2, random_state=0)\n",
        "clf_gini = DecisionTreeClassifier(criterion='gini', max_depth=4, random_state=0,max_features='sqrt')\n",
        "\n",
        "\n",
        "# fit the model\n",
        "clf_gini.fit(X_train, y_train)\n",
        "ypred6 = clf_gini.predict(X_test)"
      ]
    },
    {
      "cell_type": "code",
      "execution_count": null,
      "id": "e7d9924d",
      "metadata": {
        "id": "e7d9924d",
        "outputId": "a1475ff5-54cf-48c7-fae8-5b1b4903b10b",
        "colab": {
          "base_uri": "https://localhost:8080/"
        }
      },
      "outputs": [
        {
          "output_type": "stream",
          "name": "stdout",
          "text": [
            "Model accuracy score with criterion gini index: 0.6112\n"
          ]
        }
      ],
      "source": [
        "print('Model accuracy score with criterion gini index: {0:0.4f}'. format(accuracy_score(y_test, ypred6)))"
      ]
    },
    {
      "cell_type": "markdown",
      "id": "14e2e069",
      "metadata": {
        "id": "14e2e069"
      },
      "source": [
        "LR"
      ]
    },
    {
      "cell_type": "code",
      "execution_count": null,
      "id": "7f037ba9",
      "metadata": {
        "id": "7f037ba9",
        "outputId": "23c81b40-07b5-44f0-e799-5f0ebc2a3df7",
        "colab": {
          "base_uri": "https://localhost:8080/"
        }
      },
      "outputs": [
        {
          "output_type": "execute_result",
          "data": {
            "text/plain": [
              "0.7009009009009008"
            ]
          },
          "metadata": {},
          "execution_count": 36
        }
      ],
      "source": [
        "LRM6 = LogisticRegression(random_state=0,max_iter=800)\n",
        "LRM6.fit(X_train,y_train)\n",
        "y_pred6 = LRM6.predict(X_test)\n",
        "accuracy_score(y_pred6,y_test)"
      ]
    },
    {
      "cell_type": "code",
      "execution_count": null,
      "id": "9eec51fb",
      "metadata": {
        "scrolled": true,
        "id": "9eec51fb",
        "outputId": "2d0e743b-0106-451c-c5f9-7602d09509fb",
        "colab": {
          "base_uri": "https://localhost:8080/"
        }
      },
      "outputs": [
        {
          "output_type": "stream",
          "name": "stdout",
          "text": [
            "Model accuracy score with criterion gini index: 0.7009\n"
          ]
        }
      ],
      "source": [
        "print('Model accuracy score with criterion gini index: {0:0.4f}'. format(accuracy_score(y_test, y_pred6)))"
      ]
    },
    {
      "cell_type": "markdown",
      "id": "b801cc9c",
      "metadata": {
        "id": "b801cc9c"
      },
      "source": [
        "# DT-LR word ngram (1,2)"
      ]
    },
    {
      "cell_type": "code",
      "execution_count": null,
      "id": "e2c6a0e8",
      "metadata": {
        "id": "e2c6a0e8",
        "outputId": "86384bc1-3962-4bf0-b0ca-b4bde171d89c",
        "colab": {
          "base_uri": "https://localhost:8080/"
        }
      },
      "outputs": [
        {
          "output_type": "execute_result",
          "data": {
            "text/plain": [
              "array(['00', '00 crowd', '00 edt', ..., 'zzcrane me', '⁰capable',\n",
              "       '⁰capable fighting'], dtype=object)"
            ]
          },
          "metadata": {},
          "execution_count": 38
        }
      ],
      "source": [
        "vectorizer7 = TfidfVectorizer(analyzer='word', ngram_range=(1, 2))\n",
        "X7 = vectorizer7.fit_transform(corpus)\n",
        "vectorizer7.get_feature_names_out()"
      ]
    },
    {
      "cell_type": "code",
      "execution_count": null,
      "id": "48d3cea5",
      "metadata": {
        "id": "48d3cea5",
        "outputId": "2fb4876a-d3b5-4637-e666-70e015827af4",
        "colab": {
          "base_uri": "https://localhost:8080/"
        }
      },
      "outputs": [
        {
          "output_type": "stream",
          "name": "stdout",
          "text": [
            "[[0. 0. 0. ... 0. 0. 0.]\n",
            " [0. 0. 0. ... 0. 0. 0.]\n",
            " [0. 0. 0. ... 0. 0. 0.]\n",
            " ...\n",
            " [0. 0. 0. ... 0. 0. 0.]\n",
            " [0. 0. 0. ... 0. 0. 0.]\n",
            " [0. 0. 0. ... 0. 0. 0.]]\n"
          ]
        }
      ],
      "source": [
        "print(X7.toarray())"
      ]
    },
    {
      "cell_type": "markdown",
      "id": "e6c1f32c",
      "metadata": {
        "id": "e6c1f32c"
      },
      "source": [
        "DT"
      ]
    },
    {
      "cell_type": "code",
      "execution_count": null,
      "id": "716852e4",
      "metadata": {
        "id": "716852e4",
        "outputId": "cd666bca-ff99-452c-9652-b73d6664f8c0",
        "colab": {
          "base_uri": "https://localhost:8080/"
        }
      },
      "outputs": [
        {
          "output_type": "stream",
          "name": "stdout",
          "text": [
            "Model accuracy score with criterion gini index: 0.6105\n"
          ]
        }
      ],
      "source": [
        "X_train, X_test, y_train, y_test = train_test_split(X7, y, test_size=0.2, random_state=0)\n",
        "clf_gini = DecisionTreeClassifier(criterion='gini', max_depth=4, random_state=0,max_features='sqrt')\n",
        "\n",
        "\n",
        "# fit the model\n",
        "clf_gini.fit(X_train, y_train)\n",
        "ypred7 = clf_gini.predict(X_test)\n",
        "print('Model accuracy score with criterion gini index: {0:0.4f}'. format(accuracy_score(y_test, ypred7)))"
      ]
    },
    {
      "cell_type": "markdown",
      "id": "e5fc7a2e",
      "metadata": {
        "id": "e5fc7a2e"
      },
      "source": [
        "LR"
      ]
    },
    {
      "cell_type": "code",
      "execution_count": null,
      "id": "bba07262",
      "metadata": {
        "id": "bba07262",
        "outputId": "3e3b3092-8244-42ae-a133-9db3a8dd6f4b",
        "colab": {
          "base_uri": "https://localhost:8080/"
        }
      },
      "outputs": [
        {
          "output_type": "execute_result",
          "data": {
            "text/plain": [
              "0.6962162162162162"
            ]
          },
          "metadata": {},
          "execution_count": 41
        }
      ],
      "source": [
        "LRM7 = LogisticRegression(random_state=0,max_iter=800)\n",
        "LRM7.fit(X_train,y_train)\n",
        "y_pred7 = LRM7.predict(X_test)\n",
        "accuracy_score(y_pred7,y_test)"
      ]
    },
    {
      "cell_type": "code",
      "execution_count": null,
      "id": "1405db3a",
      "metadata": {
        "id": "1405db3a"
      },
      "outputs": [],
      "source": []
    },
    {
      "cell_type": "markdown",
      "id": "b5a5f15c",
      "metadata": {
        "id": "b5a5f15c"
      },
      "source": [
        "# DT-LR char ngram (1,1)"
      ]
    },
    {
      "cell_type": "code",
      "execution_count": null,
      "id": "2eedaf6b",
      "metadata": {
        "id": "2eedaf6b",
        "outputId": "b4fbb98c-eef5-43fb-b3aa-079eb6d5d65c",
        "colab": {
          "base_uri": "https://localhost:8080/"
        }
      },
      "outputs": [
        {
          "output_type": "execute_result",
          "data": {
            "text/plain": [
              "array(['\\n', ' ', '!', '\"', '#', '$', '%', '&', \"'\", '(', ')', '*', '+',\n",
              "       ',', '-', '.', '/', '0', '1', '2', '3', '4', '5', '6', '7', '8',\n",
              "       '9', ':', ';', '=', '?', '@', '[', '\\\\', ']', '^', '_', '`', 'a',\n",
              "       'b', 'c', 'd', 'e', 'f', 'g', 'h', 'i', 'j', 'k', 'l', 'm', 'n',\n",
              "       'o', 'p', 'q', 'r', 's', 't', 'u', 'v', 'w', 'x', 'y', 'z', '|',\n",
              "       '~', '\\xa0', '¯', '·', '»', 'à', 'é', 'î', 'ā', 'ł', 'ə', 'ˈ', 'ˌ',\n",
              "       'ٌ', '–', '—', '―', '‘', '’', '“', '”', '•', '…', '‼', '⁰', '↑',\n",
              "       '→', '↓', '↔', '⇒', '▀', '█', '►', '◄', '☑', '☜', '☞', '☢', '♀',\n",
              "       '⚡', '✅', '✋', '✔', '✯', '❤', '➡', '⬆', '⬇', '》', 'ツ', '・', '️',\n",
              "       '�', '🇸', '🇺', '🌍', '🌷', '🍔', '🍷', '🍺', '🎀', '🎉', '🎤', '🎪', '🏻',\n",
              "       '🏼', '🏽', '🏾', '🏿', '🐍', '🐘', '👀', '👉', '👊', '👋', '👌', '👍', '👎',\n",
              "       '👏', '👑', '👓', '👨', '👭', '👴', '👶', '👸', '👺', '💀', '💁', '💛', '💢',\n",
              "       '💣', '💥', '💧', '💨', '💩', '💪', '💰', '💸', '📢', '📲', '📷', '🔇', '🔥',\n",
              "       '🔨', '🔪', '🔫', '🗽', '😀', '😁', '😂', '😄', '😆', '😉', '😊', '😋', '😍',\n",
              "       '😎', '😏', '😐', '😑', '😒', '😕', '😜', '😞', '😠', '😡', '😢', '😩', '😬',\n",
              "       '😭', '😯', '😰', '😲', '😳', '😴', '😶', '😻', '🙈', '🙊', '🙌', '🙏', '🚀',\n",
              "       '🚔', '🚧', '🚷', '🚺', '🛃', '\\U000fe320', '\\U000fe327', '\\U000fe4e6',\n",
              "       '\\U000fe4ec'], dtype=object)"
            ]
          },
          "metadata": {},
          "execution_count": 42
        }
      ],
      "source": [
        "vectorizer8 = TfidfVectorizer(analyzer='char', ngram_range=(1, 1))\n",
        "X8 = vectorizer8.fit_transform(corpus)\n",
        "vectorizer8.get_feature_names_out()"
      ]
    },
    {
      "cell_type": "code",
      "execution_count": null,
      "id": "124051e7",
      "metadata": {
        "id": "124051e7",
        "outputId": "d752c0e2-23e2-47b8-f98e-301dccd02f2d",
        "colab": {
          "base_uri": "https://localhost:8080/"
        }
      },
      "outputs": [
        {
          "output_type": "execute_result",
          "data": {
            "text/plain": [
              "(13871, 217)"
            ]
          },
          "metadata": {},
          "execution_count": 43
        }
      ],
      "source": [
        "X8.shape\n"
      ]
    },
    {
      "cell_type": "code",
      "execution_count": null,
      "id": "aa8ae666",
      "metadata": {
        "id": "aa8ae666",
        "outputId": "afaab469-21de-4741-ec76-7e6237b985ff",
        "colab": {
          "base_uri": "https://localhost:8080/"
        }
      },
      "outputs": [
        {
          "output_type": "stream",
          "name": "stdout",
          "text": [
            "[[0.         0.49473724 0.         ... 0.         0.         0.        ]\n",
            " [0.         0.54238977 0.         ... 0.         0.         0.        ]\n",
            " [0.         0.61009465 0.         ... 0.         0.         0.        ]\n",
            " ...\n",
            " [0.         0.62146799 0.         ... 0.         0.         0.        ]\n",
            " [0.         0.59983725 0.         ... 0.         0.         0.        ]\n",
            " [0.         0.37425118 0.22127681 ... 0.         0.         0.        ]]\n"
          ]
        }
      ],
      "source": [
        "print(X8.toarray())"
      ]
    },
    {
      "cell_type": "markdown",
      "id": "c8cf4f0e",
      "metadata": {
        "id": "c8cf4f0e"
      },
      "source": [
        "DT"
      ]
    },
    {
      "cell_type": "code",
      "execution_count": null,
      "id": "de41c5b3",
      "metadata": {
        "id": "de41c5b3",
        "outputId": "a4933517-33de-4d54-aeda-145c1fb21e6c",
        "colab": {
          "base_uri": "https://localhost:8080/"
        }
      },
      "outputs": [
        {
          "output_type": "stream",
          "name": "stdout",
          "text": [
            "Model accuracy score with criterion gini index: 0.6133\n"
          ]
        }
      ],
      "source": [
        "X_train, X_test, y_train, y_test = train_test_split(X8, y, test_size=0.2, random_state=0)\n",
        "clf_gini = DecisionTreeClassifier(criterion='gini', max_depth=4, random_state=0,max_features='sqrt')\n",
        "\n",
        "\n",
        "# fit the model\n",
        "clf_gini.fit(X_train, y_train)\n",
        "ypred8 = clf_gini.predict(X_test)\n",
        "print('Model accuracy score with criterion gini index: {0:0.4f}'. format(accuracy_score(y_test, ypred8)))"
      ]
    },
    {
      "cell_type": "markdown",
      "id": "4b41302d",
      "metadata": {
        "id": "4b41302d"
      },
      "source": [
        "LR"
      ]
    },
    {
      "cell_type": "code",
      "execution_count": null,
      "id": "7e2dd96e",
      "metadata": {
        "id": "7e2dd96e",
        "outputId": "25cca334-2673-40a9-fa87-f9b64cae8025",
        "colab": {
          "base_uri": "https://localhost:8080/"
        }
      },
      "outputs": [
        {
          "output_type": "execute_result",
          "data": {
            "text/plain": [
              "0.6136936936936936"
            ]
          },
          "metadata": {},
          "execution_count": 46
        }
      ],
      "source": [
        "LRM8 = LogisticRegression(random_state=0,max_iter=800)\n",
        "LRM8.fit(X_train,y_train)\n",
        "y_pred8 = LRM8.predict(X_test)\n",
        "accuracy_score(y_pred8,y_test)"
      ]
    },
    {
      "cell_type": "markdown",
      "id": "9fe760a4",
      "metadata": {
        "id": "9fe760a4"
      },
      "source": [
        "# DT and LR for char-ngram(1,2)"
      ]
    },
    {
      "cell_type": "code",
      "execution_count": null,
      "id": "068f4157",
      "metadata": {
        "id": "068f4157"
      },
      "outputs": [],
      "source": []
    },
    {
      "cell_type": "code",
      "execution_count": null,
      "id": "7e400548",
      "metadata": {
        "id": "7e400548",
        "outputId": "7dccf470-4f25-40ee-eb14-8289e564ffd6",
        "colab": {
          "base_uri": "https://localhost:8080/"
        }
      },
      "outputs": [
        {
          "output_type": "execute_result",
          "data": {
            "text/plain": [
              "array(['\\n', '\\n\"', '\\n#', ..., '\\U000fe4e6 ', '\\U000fe4ec',\n",
              "       '\\U000fe4ec\\U000fe4e6'], dtype=object)"
            ]
          },
          "metadata": {},
          "execution_count": 47
        }
      ],
      "source": [
        "vectorizer9 = TfidfVectorizer(analyzer='char', ngram_range=(1, 2))\n",
        "X9 = vectorizer9.fit_transform(corpus)\n",
        "vectorizer9.get_feature_names_out()"
      ]
    },
    {
      "cell_type": "code",
      "execution_count": null,
      "id": "ca4710bd",
      "metadata": {
        "id": "ca4710bd",
        "outputId": "d6acc34e-637c-4149-b5f2-c084bb955bdc",
        "colab": {
          "base_uri": "https://localhost:8080/"
        }
      },
      "outputs": [
        {
          "output_type": "stream",
          "name": "stdout",
          "text": [
            "[[0. 0. 0. ... 0. 0. 0.]\n",
            " [0. 0. 0. ... 0. 0. 0.]\n",
            " [0. 0. 0. ... 0. 0. 0.]\n",
            " ...\n",
            " [0. 0. 0. ... 0. 0. 0.]\n",
            " [0. 0. 0. ... 0. 0. 0.]\n",
            " [0. 0. 0. ... 0. 0. 0.]]\n"
          ]
        }
      ],
      "source": [
        "print(X9.toarray())"
      ]
    },
    {
      "cell_type": "markdown",
      "id": "10e31001",
      "metadata": {
        "id": "10e31001"
      },
      "source": [
        "DT"
      ]
    },
    {
      "cell_type": "code",
      "execution_count": null,
      "id": "0c102b43",
      "metadata": {
        "id": "0c102b43",
        "outputId": "bd710768-0af1-4c35-f457-3a4c889d6e3c"
      },
      "outputs": [
        {
          "name": "stdout",
          "output_type": "stream",
          "text": [
            "Model accuracy score with criterion gini index: 0.6216\n"
          ]
        }
      ],
      "source": [
        "X_train, X_test, y_train, y_test = train_test_split(X9, y, test_size=0.2, random_state=0)\n",
        "clf_gini = DecisionTreeClassifier(criterion='gini', max_depth=4, random_state=0,max_features='sqrt')\n",
        "\n",
        "\n",
        "# fit the model\n",
        "clf_gini.fit(X_train, y_train)\n",
        "ypred9 = clf_gini.predict(X_test)\n",
        "print('Model accuracy score with criterion gini index: {0:0.4f}'. format(accuracy_score(y_test, ypred9)))"
      ]
    },
    {
      "cell_type": "markdown",
      "id": "6dba376d",
      "metadata": {
        "id": "6dba376d"
      },
      "source": [
        "LR"
      ]
    },
    {
      "cell_type": "code",
      "execution_count": null,
      "id": "15bd6483",
      "metadata": {
        "id": "15bd6483",
        "outputId": "5c5c81df-9dc4-4211-c4dc-ddcd8dd3797a"
      },
      "outputs": [
        {
          "data": {
            "text/plain": [
              "0.6753153153153153"
            ]
          },
          "execution_count": 42,
          "metadata": {},
          "output_type": "execute_result"
        }
      ],
      "source": [
        "LRM9 = LogisticRegression(random_state=0,max_iter=800)\n",
        "LRM9.fit(X_train,y_train)\n",
        "y_pred9 = LRM9.predict(X_test)\n",
        "accuracy_score(y_pred9,y_test)"
      ]
    },
    {
      "cell_type": "code",
      "execution_count": null,
      "id": "99da3d83",
      "metadata": {
        "id": "99da3d83"
      },
      "outputs": [],
      "source": []
    },
    {
      "cell_type": "markdown",
      "id": "30ecd3e0",
      "metadata": {
        "id": "30ecd3e0"
      },
      "source": [
        "# WORD2VEC"
      ]
    },
    {
      "cell_type": "code",
      "source": [],
      "metadata": {
        "id": "Ia7tyi9F8bTD"
      },
      "id": "Ia7tyi9F8bTD",
      "execution_count": null,
      "outputs": []
    },
    {
      "cell_type": "code",
      "execution_count": null,
      "id": "a425d9f1",
      "metadata": {
        "id": "a425d9f1",
        "outputId": "349c8b22-fc1c-4b85-e0f3-ed4881742597"
      },
      "outputs": [
        {
          "name": "stdout",
          "output_type": "stream",
          "text": [
            "Requirement already satisfied: nltk in c:\\users\\devi c arati\\anaconda3\\lib\\site-packages (3.7)\n",
            "Requirement already satisfied: click in c:\\users\\devi c arati\\anaconda3\\lib\\site-packages (from nltk) (8.0.4)\n",
            "Requirement already satisfied: joblib in c:\\users\\devi c arati\\anaconda3\\lib\\site-packages (from nltk) (1.2.0)\n",
            "Requirement already satisfied: regex>=2021.8.3 in c:\\users\\devi c arati\\anaconda3\\lib\\site-packages (from nltk) (2022.3.15)\n",
            "Requirement already satisfied: tqdm in c:\\users\\devi c arati\\anaconda3\\lib\\site-packages (from nltk) (4.64.0)\n",
            "Requirement already satisfied: colorama in c:\\users\\devi c arati\\anaconda3\\lib\\site-packages (from click->nltk) (0.4.4)\n",
            "Note: you may need to restart the kernel to use updated packages.\n"
          ]
        },
        {
          "name": "stderr",
          "output_type": "stream",
          "text": [
            "WARNING: Ignoring invalid distribution -rotobuf (c:\\users\\devi c arati\\anaconda3\\lib\\site-packages)\n",
            "WARNING: Ignoring invalid distribution -rotobuf (c:\\users\\devi c arati\\anaconda3\\lib\\site-packages)\n"
          ]
        }
      ],
      "source": [
        "pip install nltk"
      ]
    },
    {
      "cell_type": "code",
      "execution_count": null,
      "id": "dd640490",
      "metadata": {
        "id": "dd640490",
        "colab": {
          "base_uri": "https://localhost:8080/"
        },
        "outputId": "378de111-62d2-4708-b415-bdfbe831de73"
      },
      "outputs": [
        {
          "output_type": "stream",
          "name": "stderr",
          "text": [
            "[nltk_data] Downloading package punkt to /root/nltk_data...\n",
            "[nltk_data]   Package punkt is already up-to-date!\n"
          ]
        }
      ],
      "source": [
        "import nltk\n",
        "nltk.download('punkt')\n",
        "import gensim\n",
        "from gensim.models import Word2Vec"
      ]
    },
    {
      "cell_type": "code",
      "source": [],
      "metadata": {
        "id": "0E8Vur5M_s51"
      },
      "id": "0E8Vur5M_s51",
      "execution_count": null,
      "outputs": []
    },
    {
      "cell_type": "code",
      "source": [
        "## tokenising into words\n",
        "\n",
        "from nltk.tokenize import word_tokenize\n",
        "data['text'].dropna(inplace=True)\n",
        "data['text'] = data['text'].apply(word_tokenize)"
      ],
      "metadata": {
        "id": "kT3YBqZ-9Ufz"
      },
      "id": "kT3YBqZ-9Ufz",
      "execution_count": null,
      "outputs": []
    },
    {
      "cell_type": "code",
      "execution_count": null,
      "id": "815fc1f6",
      "metadata": {
        "id": "815fc1f6"
      },
      "outputs": [],
      "source": [
        "model = Word2Vec(sentences=data['text'], vector_size=150, window=5, min_count=1, sg=1)"
      ]
    },
    {
      "cell_type": "code",
      "execution_count": null,
      "id": "d134bcc3",
      "metadata": {
        "id": "d134bcc3",
        "colab": {
          "base_uri": "https://localhost:8080/"
        },
        "outputId": "96c1fed4-920e-47b9-b7a8-b2e1af9b4668"
      },
      "outputs": [
        {
          "output_type": "execute_result",
          "data": {
            "text/plain": [
              "0        [RT, @, NancyLeeGrahn, :, How, did, everyone, ...\n",
              "1        [RT, @, ScottWalker, :, Did, n't, catch, the, ...\n",
              "2        [RT, @, TJMShow, :, No, mention, of, Tamir, Ri...\n",
              "3        [RT, @, RobGeorge, :, That, Carly, Fiorina, is...\n",
              "4        [RT, @, DanScavino, :, #, GOPDebate, w/, @, re...\n",
              "                               ...                        \n",
              "13866    [RT, @, cappy_yarbrough, :, Love, to, see, men...\n",
              "13867    [RT, @, georgehenryw, :, Who, thought, Huckabe...\n",
              "13868    [RT, @, Lrihendry, :, #, TedCruz, As, Presiden...\n",
              "13869    [RT, @, JRehling, :, #, GOPDebate, Donald, Tru...\n",
              "13870    [RT, @, Lrihendry, :, #, TedCruz, headed, into...\n",
              "Name: text, Length: 13871, dtype: object"
            ]
          },
          "metadata": {},
          "execution_count": 61
        }
      ],
      "source": [
        "data['text']"
      ]
    },
    {
      "cell_type": "code",
      "source": [
        "data['text']\n"
      ],
      "metadata": {
        "colab": {
          "base_uri": "https://localhost:8080/"
        },
        "id": "0I2w3FD6BCHP",
        "outputId": "2f37ff91-fa7a-442d-f8fd-8ae57fee7c52"
      },
      "id": "0I2w3FD6BCHP",
      "execution_count": null,
      "outputs": [
        {
          "output_type": "execute_result",
          "data": {
            "text/plain": [
              "0        [RT, @, NancyLeeGrahn, :, How, did, everyone, ...\n",
              "1        [RT, @, ScottWalker, :, Did, n't, catch, the, ...\n",
              "2        [RT, @, TJMShow, :, No, mention, of, Tamir, Ri...\n",
              "3        [RT, @, RobGeorge, :, That, Carly, Fiorina, is...\n",
              "4        [RT, @, DanScavino, :, #, GOPDebate, w/, @, re...\n",
              "                               ...                        \n",
              "13866    [RT, @, cappy_yarbrough, :, Love, to, see, men...\n",
              "13867    [RT, @, georgehenryw, :, Who, thought, Huckabe...\n",
              "13868    [RT, @, Lrihendry, :, #, TedCruz, As, Presiden...\n",
              "13869    [RT, @, JRehling, :, #, GOPDebate, Donald, Tru...\n",
              "13870    [RT, @, Lrihendry, :, #, TedCruz, headed, into...\n",
              "Name: text, Length: 13871, dtype: object"
            ]
          },
          "metadata": {},
          "execution_count": 63
        }
      ]
    },
    {
      "cell_type": "code",
      "source": [
        "X = []\n",
        "for text in data['text']:\n",
        "    textvec = []\n",
        "    for word in text:\n",
        "        textvec.append(model.wv[word])\n",
        "    X.append(np.mean(textvec))"
      ],
      "metadata": {
        "id": "SxakO33qA3Vk"
      },
      "id": "SxakO33qA3Vk",
      "execution_count": null,
      "outputs": []
    },
    {
      "cell_type": "code",
      "source": [
        "X"
      ],
      "metadata": {
        "colab": {
          "base_uri": "https://localhost:8080/"
        },
        "id": "wXAkWtrDBeeh",
        "outputId": "3b6a53b0-a270-464c-f981-2376b71b4b7c"
      },
      "id": "wXAkWtrDBeeh",
      "execution_count": null,
      "outputs": [
        {
          "output_type": "execute_result",
          "data": {
            "text/plain": [
              "[0.013759801,\n",
              " 0.010025873,\n",
              " 0.011874985,\n",
              " 0.01364155,\n",
              " 0.007970831,\n",
              " 0.008465814,\n",
              " 0.014216332,\n",
              " 0.005746793,\n",
              " 0.0079997815,\n",
              " 0.012075761,\n",
              " 0.0038215392,\n",
              " 0.012303859,\n",
              " 0.015856443,\n",
              " 0.013144856,\n",
              " 0.013146608,\n",
              " 0.011991396,\n",
              " 0.005572956,\n",
              " 0.0070782024,\n",
              " 0.011538333,\n",
              " 0.009074274,\n",
              " 0.011242844,\n",
              " 0.013332869,\n",
              " 0.009005448,\n",
              " 0.0036678025,\n",
              " 0.0109736165,\n",
              " 0.017377341,\n",
              " 0.010070599,\n",
              " 0.010839601,\n",
              " 0.013246477,\n",
              " 0.004949372,\n",
              " 0.009529302,\n",
              " 0.012454872,\n",
              " 0.009800952,\n",
              " 0.009482174,\n",
              " 0.008676134,\n",
              " 0.0053909365,\n",
              " 0.0042999084,\n",
              " 0.014848489,\n",
              " 0.01063307,\n",
              " 0.008536181,\n",
              " 0.008998493,\n",
              " 0.010296111,\n",
              " 0.0018840358,\n",
              " 0.011811306,\n",
              " 0.009922556,\n",
              " 0.012132511,\n",
              " 0.014917219,\n",
              " 0.007989521,\n",
              " 0.007960437,\n",
              " 0.0142895775,\n",
              " 0.009365828,\n",
              " 0.0068439017,\n",
              " 0.009254166,\n",
              " 0.0063694576,\n",
              " 0.011090647,\n",
              " 0.013037341,\n",
              " 0.0140558025,\n",
              " 0.0042868718,\n",
              " 0.011933227,\n",
              " 0.009706411,\n",
              " 0.011491894,\n",
              " 0.011321546,\n",
              " 0.007465625,\n",
              " 0.007884848,\n",
              " 0.007869525,\n",
              " 0.016169958,\n",
              " 0.007170802,\n",
              " 0.009147251,\n",
              " 0.008031267,\n",
              " 0.009186525,\n",
              " 0.00989764,\n",
              " 0.011369433,\n",
              " 0.01323032,\n",
              " 0.011191366,\n",
              " 0.010976256,\n",
              " 0.010385091,\n",
              " 0.008464808,\n",
              " 0.013806989,\n",
              " 0.015368932,\n",
              " 0.009987351,\n",
              " 0.014872678,\n",
              " 0.012148838,\n",
              " 0.010630973,\n",
              " 0.0074675004,\n",
              " 0.011442154,\n",
              " 0.011296622,\n",
              " 0.003945353,\n",
              " 0.0071240393,\n",
              " 0.008001362,\n",
              " 0.014364147,\n",
              " 0.014403355,\n",
              " 0.011450778,\n",
              " 0.014306528,\n",
              " 0.010965901,\n",
              " 0.008609122,\n",
              " 0.006561718,\n",
              " 0.013168622,\n",
              " 0.008288758,\n",
              " 0.010060665,\n",
              " 0.0100349635,\n",
              " 0.0059131696,\n",
              " 0.0109612215,\n",
              " 0.0070254467,\n",
              " 0.007957171,\n",
              " 0.007692582,\n",
              " 0.009175231,\n",
              " 0.0089831995,\n",
              " 0.0070135454,\n",
              " 0.010099205,\n",
              " 0.008028475,\n",
              " 0.008572421,\n",
              " 0.006413182,\n",
              " 0.013801427,\n",
              " 0.010214762,\n",
              " 0.008051724,\n",
              " 0.010473355,\n",
              " 0.009095976,\n",
              " 0.01194073,\n",
              " 0.012487405,\n",
              " 0.012438912,\n",
              " 0.010187913,\n",
              " 0.010322143,\n",
              " 0.008108625,\n",
              " 0.014944685,\n",
              " 0.009343524,\n",
              " 0.006602713,\n",
              " 0.008283259,\n",
              " 0.006929789,\n",
              " 0.009880326,\n",
              " 0.014287551,\n",
              " 0.013263318,\n",
              " 0.0074703433,\n",
              " 0.019548772,\n",
              " 0.005502001,\n",
              " 0.0072578993,\n",
              " 0.003926097,\n",
              " 0.012036655,\n",
              " 0.008776245,\n",
              " 0.011593509,\n",
              " 0.011354574,\n",
              " 0.011079111,\n",
              " 0.005072605,\n",
              " 0.0021921245,\n",
              " 0.007824857,\n",
              " 0.0115988385,\n",
              " 0.015438909,\n",
              " 0.008484164,\n",
              " 0.010309703,\n",
              " 0.008360907,\n",
              " 0.008669564,\n",
              " 0.01634641,\n",
              " 0.008887833,\n",
              " 0.006468186,\n",
              " 0.00822379,\n",
              " 0.011869608,\n",
              " 0.0083935745,\n",
              " 0.011662929,\n",
              " 0.01397155,\n",
              " 0.0032179086,\n",
              " 0.0098848315,\n",
              " 0.007093937,\n",
              " 0.009169784,\n",
              " 0.0034990374,\n",
              " 0.008145593,\n",
              " 0.0077764667,\n",
              " 0.010229923,\n",
              " 0.008210498,\n",
              " 0.0071281767,\n",
              " 0.008629848,\n",
              " 0.006980116,\n",
              " 0.01172964,\n",
              " 0.011953661,\n",
              " 0.008630884,\n",
              " 0.0098246895,\n",
              " 0.008572833,\n",
              " 0.0057582217,\n",
              " 0.008269904,\n",
              " 0.015501951,\n",
              " 0.005176499,\n",
              " 0.009309202,\n",
              " 0.0073510027,\n",
              " 0.0019418867,\n",
              " 0.0073778485,\n",
              " 0.004276352,\n",
              " 0.0050445064,\n",
              " 0.008450504,\n",
              " 0.010394514,\n",
              " 0.007483322,\n",
              " 0.011059798,\n",
              " 0.0076730973,\n",
              " 0.0045657135,\n",
              " 0.009445336,\n",
              " 0.013450507,\n",
              " 0.008253291,\n",
              " 0.013290031,\n",
              " 0.01758207,\n",
              " 0.01019127,\n",
              " 0.0089837145,\n",
              " 0.008686313,\n",
              " 0.010690734,\n",
              " 0.010707583,\n",
              " 0.012676403,\n",
              " 0.0073549175,\n",
              " 0.012064614,\n",
              " 0.011073829,\n",
              " 0.008359957,\n",
              " 0.0089553455,\n",
              " 0.0063863024,\n",
              " 0.0098281605,\n",
              " 0.008370982,\n",
              " 0.009544259,\n",
              " 0.00592775,\n",
              " 0.009259943,\n",
              " 0.0065235677,\n",
              " 0.006158193,\n",
              " 0.0034238743,\n",
              " 0.009184802,\n",
              " 0.016311865,\n",
              " 0.0103868665,\n",
              " 0.008437781,\n",
              " 0.0075130514,\n",
              " 0.0088664675,\n",
              " 0.012966016,\n",
              " 0.0120987035,\n",
              " 0.015829282,\n",
              " 0.009171781,\n",
              " 0.008767367,\n",
              " 0.010002441,\n",
              " 0.00703433,\n",
              " 0.015298094,\n",
              " 0.01078575,\n",
              " 0.009313396,\n",
              " 0.008808347,\n",
              " 0.010890165,\n",
              " 0.011610438,\n",
              " 0.0045708874,\n",
              " 0.011095675,\n",
              " 0.005005751,\n",
              " 0.010212041,\n",
              " 0.010082039,\n",
              " 0.011754176,\n",
              " 0.010929125,\n",
              " 0.009658506,\n",
              " 0.011483011,\n",
              " 0.007577102,\n",
              " 0.010094806,\n",
              " 0.013552034,\n",
              " 0.009758392,\n",
              " 0.011809405,\n",
              " 0.0066552293,\n",
              " 0.008651437,\n",
              " 0.008106549,\n",
              " 0.008419958,\n",
              " 0.008384795,\n",
              " 0.00628851,\n",
              " 0.014693086,\n",
              " 0.009030193,\n",
              " 0.0054880977,\n",
              " 0.004386989,\n",
              " 0.012429557,\n",
              " 0.00876952,\n",
              " 0.006897653,\n",
              " 0.0038576503,\n",
              " 0.0061579123,\n",
              " 0.0075314874,\n",
              " 0.012939413,\n",
              " 0.0065699536,\n",
              " 0.012909206,\n",
              " 0.01061886,\n",
              " 0.011922453,\n",
              " 0.003917478,\n",
              " 0.009819525,\n",
              " 0.006875643,\n",
              " 0.012607567,\n",
              " 0.011715334,\n",
              " 0.0121057695,\n",
              " 0.005462942,\n",
              " 0.012408167,\n",
              " 0.011966279,\n",
              " 0.013136232,\n",
              " 0.016090266,\n",
              " 0.007652316,\n",
              " 0.0089332685,\n",
              " 0.0087350635,\n",
              " 0.01559296,\n",
              " 0.01066189,\n",
              " 0.008972229,\n",
              " 0.0045280703,\n",
              " 0.013785613,\n",
              " 0.0066606053,\n",
              " 0.012830111,\n",
              " 0.0142414,\n",
              " 0.011741666,\n",
              " 0.011610115,\n",
              " 0.01229069,\n",
              " 0.0040478604,\n",
              " 0.009895188,\n",
              " 0.013085378,\n",
              " 0.010376927,\n",
              " 0.007826892,\n",
              " 0.012739281,\n",
              " 0.010087515,\n",
              " 0.006030455,\n",
              " 0.009741793,\n",
              " 0.013303042,\n",
              " 0.009795249,\n",
              " 0.012256312,\n",
              " 0.011171915,\n",
              " 0.010643167,\n",
              " 0.012875091,\n",
              " 0.011790576,\n",
              " 0.009970162,\n",
              " 0.010806968,\n",
              " 0.008183269,\n",
              " 0.010850069,\n",
              " 0.0031024762,\n",
              " 0.011863586,\n",
              " 0.0058636186,\n",
              " 0.008681518,\n",
              " 0.014573617,\n",
              " 0.009384408,\n",
              " 0.0063032005,\n",
              " 0.0049673985,\n",
              " 0.0039975736,\n",
              " 0.0076756906,\n",
              " 0.012792028,\n",
              " 0.0093467,\n",
              " 0.00684613,\n",
              " 0.010787512,\n",
              " 0.007210068,\n",
              " 0.010456087,\n",
              " 0.010179382,\n",
              " 0.014358559,\n",
              " 0.011024478,\n",
              " 0.0141136125,\n",
              " 0.010087707,\n",
              " 0.011765508,\n",
              " 0.010278479,\n",
              " 0.0048985346,\n",
              " 0.010377405,\n",
              " 0.009699541,\n",
              " 0.011115516,\n",
              " 0.007237401,\n",
              " 0.0052711833,\n",
              " 0.013523303,\n",
              " 0.00996886,\n",
              " 0.012754938,\n",
              " 0.011556125,\n",
              " 0.008377564,\n",
              " 0.006909467,\n",
              " 0.011550148,\n",
              " 0.0075657265,\n",
              " 0.011193394,\n",
              " 0.012554593,\n",
              " 0.014850118,\n",
              " 0.011715335,\n",
              " 0.013190952,\n",
              " 0.007823763,\n",
              " 0.001807503,\n",
              " 0.015000719,\n",
              " 0.010175625,\n",
              " 0.009422318,\n",
              " 0.010974373,\n",
              " 0.010360658,\n",
              " 0.009294844,\n",
              " 0.00545047,\n",
              " 0.0042340793,\n",
              " 0.012663525,\n",
              " 0.016093034,\n",
              " 0.010548727,\n",
              " 0.008954352,\n",
              " 0.010073125,\n",
              " 0.0071055847,\n",
              " 0.009984799,\n",
              " 0.009495617,\n",
              " 0.016490843,\n",
              " 0.0039338735,\n",
              " 0.0093685,\n",
              " 0.008699355,\n",
              " 0.010761779,\n",
              " 0.009857377,\n",
              " 0.0060136286,\n",
              " 0.0152270235,\n",
              " 0.0122805685,\n",
              " 0.0072868657,\n",
              " 0.011599383,\n",
              " 0.011609441,\n",
              " 0.008090588,\n",
              " 0.004786574,\n",
              " 0.0077479524,\n",
              " 0.006851781,\n",
              " 0.009676343,\n",
              " 0.011060674,\n",
              " 0.009507476,\n",
              " 0.009251444,\n",
              " 0.0022150257,\n",
              " 0.0077288,\n",
              " 0.012539942,\n",
              " 0.009577264,\n",
              " 0.005646192,\n",
              " 0.006210544,\n",
              " 0.011389939,\n",
              " 0.009870411,\n",
              " 0.013170202,\n",
              " 0.0069459584,\n",
              " 0.012860141,\n",
              " 0.009512476,\n",
              " 0.011890172,\n",
              " 0.012540219,\n",
              " 0.01300385,\n",
              " 0.0125534665,\n",
              " 0.012921161,\n",
              " 0.012120736,\n",
              " 0.010562421,\n",
              " 0.011283306,\n",
              " 0.010877695,\n",
              " 0.011783324,\n",
              " 0.013168514,\n",
              " 0.004355848,\n",
              " 0.011661616,\n",
              " 0.00834951,\n",
              " 0.0076973974,\n",
              " 0.0076168138,\n",
              " 0.012421216,\n",
              " 0.0078111426,\n",
              " 0.00714241,\n",
              " 0.012935821,\n",
              " 0.0069101965,\n",
              " 0.010239889,\n",
              " 0.01732299,\n",
              " 0.008254899,\n",
              " 0.009596679,\n",
              " 0.010448519,\n",
              " 0.011211152,\n",
              " 0.013749663,\n",
              " 0.013073573,\n",
              " 0.0067332075,\n",
              " 0.0071818046,\n",
              " 0.010711823,\n",
              " 0.007904652,\n",
              " 0.0064004157,\n",
              " 0.010066742,\n",
              " 0.008074652,\n",
              " 0.009488573,\n",
              " 0.013990171,\n",
              " 0.009219006,\n",
              " 0.004964739,\n",
              " 0.013373768,\n",
              " 0.0072092656,\n",
              " 0.011201972,\n",
              " 0.01174388,\n",
              " 0.011903943,\n",
              " 0.0052395454,\n",
              " 0.009499312,\n",
              " 0.008864902,\n",
              " 0.0071704374,\n",
              " 0.0070572263,\n",
              " 0.0065528164,\n",
              " 0.007600574,\n",
              " 0.009760194,\n",
              " 0.0022177899,\n",
              " 0.01027076,\n",
              " 0.008677719,\n",
              " 0.007292762,\n",
              " 0.005428049,\n",
              " 0.0074536675,\n",
              " 0.008020011,\n",
              " 0.0091038905,\n",
              " 0.00914018,\n",
              " 0.010172273,\n",
              " 0.0041293157,\n",
              " 0.0064728432,\n",
              " 0.0067863637,\n",
              " 0.013241097,\n",
              " 0.0072614052,\n",
              " 0.0024091299,\n",
              " 0.012522604,\n",
              " 0.008333753,\n",
              " 0.0083143255,\n",
              " 0.005023232,\n",
              " 0.006323039,\n",
              " 0.009566512,\n",
              " 0.0052241953,\n",
              " 0.004045659,\n",
              " 0.0069306083,\n",
              " 0.010301445,\n",
              " 0.013073253,\n",
              " 0.011782095,\n",
              " 0.014026045,\n",
              " 0.011539158,\n",
              " 0.0095171435,\n",
              " 0.011725032,\n",
              " 0.008896998,\n",
              " 0.00701386,\n",
              " 0.012125864,\n",
              " 0.008190178,\n",
              " 0.014000501,\n",
              " 0.010680858,\n",
              " 0.004934001,\n",
              " 0.0070494963,\n",
              " 0.01144054,\n",
              " 0.0032234273,\n",
              " 0.007278127,\n",
              " 0.008446098,\n",
              " 0.012857925,\n",
              " 0.01102336,\n",
              " 0.007489801,\n",
              " 0.0059735007,\n",
              " 0.009993753,\n",
              " 0.012900056,\n",
              " 0.006013576,\n",
              " 0.00556115,\n",
              " 0.01291433,\n",
              " 0.013675984,\n",
              " 0.0072134,\n",
              " 0.01030714,\n",
              " 0.010258789,\n",
              " 0.011437554,\n",
              " 0.010488773,\n",
              " 0.010688133,\n",
              " 0.009637454,\n",
              " 0.007504379,\n",
              " 0.01237235,\n",
              " 0.007911835,\n",
              " 0.011002053,\n",
              " 0.013350876,\n",
              " 0.011834217,\n",
              " 0.008841927,\n",
              " 0.004508668,\n",
              " 0.015011561,\n",
              " 0.0127682015,\n",
              " 0.011262369,\n",
              " 0.0125031825,\n",
              " 0.009214546,\n",
              " 0.009561707,\n",
              " 0.013264533,\n",
              " 0.0032454093,\n",
              " 0.010825044,\n",
              " 0.0107829105,\n",
              " 0.008998757,\n",
              " 0.01031271,\n",
              " 0.0075523104,\n",
              " 0.013261213,\n",
              " 0.010292027,\n",
              " 0.008295557,\n",
              " 0.011523392,\n",
              " 0.0046311156,\n",
              " 0.012328924,\n",
              " 0.0071410257,\n",
              " 0.009563982,\n",
              " 0.009464349,\n",
              " 0.010454916,\n",
              " 0.00993257,\n",
              " 0.01136492,\n",
              " 0.007620103,\n",
              " 0.0102776885,\n",
              " 0.008514,\n",
              " 0.011894444,\n",
              " 0.009590213,\n",
              " 0.014533846,\n",
              " 0.009062434,\n",
              " 0.010093987,\n",
              " 0.013117174,\n",
              " 0.010264441,\n",
              " 0.014476573,\n",
              " 0.011744007,\n",
              " 0.00965249,\n",
              " 0.012053087,\n",
              " 0.012930384,\n",
              " 0.008560214,\n",
              " 0.0097102085,\n",
              " 0.013130467,\n",
              " 0.014717674,\n",
              " 0.012281452,\n",
              " 0.010035872,\n",
              " 0.0074146474,\n",
              " 0.009146169,\n",
              " 0.008038706,\n",
              " 0.011367429,\n",
              " 0.009209976,\n",
              " 0.00870024,\n",
              " 0.02322266,\n",
              " 0.009340454,\n",
              " 0.0109761255,\n",
              " 0.014425532,\n",
              " 0.008615502,\n",
              " 0.012344826,\n",
              " 0.013506028,\n",
              " 0.012994068,\n",
              " 0.013214357,\n",
              " 0.010839559,\n",
              " 0.008782494,\n",
              " 0.008903462,\n",
              " 0.0066116545,\n",
              " 0.007171892,\n",
              " 0.012077217,\n",
              " 0.0119184535,\n",
              " 0.007834667,\n",
              " 0.009211891,\n",
              " 0.008374629,\n",
              " 0.008315345,\n",
              " 0.009680481,\n",
              " 0.011679467,\n",
              " 0.005590737,\n",
              " 0.014943556,\n",
              " 0.012031726,\n",
              " 0.007407672,\n",
              " 0.0104871625,\n",
              " 0.009540791,\n",
              " 0.012677284,\n",
              " 0.0061363075,\n",
              " 0.006943786,\n",
              " 0.0078035924,\n",
              " 0.014727934,\n",
              " 0.009765576,\n",
              " 0.016869774,\n",
              " 0.0055561834,\n",
              " 0.009597742,\n",
              " 0.010266077,\n",
              " 0.012103327,\n",
              " 0.0074309604,\n",
              " 0.0056039416,\n",
              " 0.008911135,\n",
              " 0.011587142,\n",
              " 0.0136538735,\n",
              " 0.010698295,\n",
              " 0.010041746,\n",
              " 0.009341956,\n",
              " 0.011699852,\n",
              " 0.01007726,\n",
              " 0.0066598784,\n",
              " 0.009042283,\n",
              " 0.008626022,\n",
              " 0.008160003,\n",
              " 0.008911311,\n",
              " 0.0064229285,\n",
              " 0.009857452,\n",
              " 0.009152604,\n",
              " 0.0095101865,\n",
              " 0.013408694,\n",
              " 0.009868753,\n",
              " 0.009821946,\n",
              " 0.008872245,\n",
              " 0.00859432,\n",
              " 0.012002371,\n",
              " 0.011045586,\n",
              " 0.006554527,\n",
              " 0.0065093026,\n",
              " 0.013848498,\n",
              " 0.010434442,\n",
              " 0.006839406,\n",
              " 0.011146328,\n",
              " 0.0038172223,\n",
              " 0.0076589175,\n",
              " 0.00749664,\n",
              " 0.014941337,\n",
              " 0.0121331,\n",
              " 0.0092542535,\n",
              " 0.007252944,\n",
              " 0.011926434,\n",
              " 0.015015182,\n",
              " 0.011353885,\n",
              " 0.006527885,\n",
              " 0.012519363,\n",
              " 0.01279715,\n",
              " 0.008380176,\n",
              " 0.011772813,\n",
              " 0.0075957906,\n",
              " 0.010641297,\n",
              " 0.013538834,\n",
              " 0.007969075,\n",
              " 0.014757225,\n",
              " 0.010725445,\n",
              " 0.004788239,\n",
              " 0.011007992,\n",
              " 0.01804013,\n",
              " 0.0077115777,\n",
              " 0.011343587,\n",
              " 0.015971877,\n",
              " 0.006121111,\n",
              " 0.0065356526,\n",
              " 0.008526514,\n",
              " 0.010045549,\n",
              " 0.009173959,\n",
              " 0.012565431,\n",
              " 0.007964666,\n",
              " 0.009512323,\n",
              " 0.009701394,\n",
              " 0.008256572,\n",
              " 0.009429495,\n",
              " 0.010777003,\n",
              " 0.010030359,\n",
              " 0.0073774564,\n",
              " 0.008147452,\n",
              " 0.012825593,\n",
              " 0.010250118,\n",
              " 0.0087731285,\n",
              " 0.007281656,\n",
              " 0.007480159,\n",
              " 0.004557806,\n",
              " 0.012821638,\n",
              " 0.00712942,\n",
              " 0.011157702,\n",
              " 0.014329254,\n",
              " 0.005625424,\n",
              " 0.0107307965,\n",
              " 0.013502879,\n",
              " 0.012305461,\n",
              " 0.0037128867,\n",
              " 0.010031544,\n",
              " 0.012523736,\n",
              " 0.0053330366,\n",
              " 0.009081584,\n",
              " 0.005501195,\n",
              " 0.008636431,\n",
              " 0.014922507,\n",
              " 0.006506235,\n",
              " 0.008240436,\n",
              " 0.016231172,\n",
              " 0.008785109,\n",
              " 0.010134156,\n",
              " 0.008854452,\n",
              " 0.008164026,\n",
              " 0.010224242,\n",
              " 0.013599526,\n",
              " 0.010642636,\n",
              " 0.011967008,\n",
              " 0.011363728,\n",
              " 0.015118146,\n",
              " 0.009459008,\n",
              " 0.012949474,\n",
              " 0.011642759,\n",
              " 0.011517459,\n",
              " 0.011098225,\n",
              " 0.005434937,\n",
              " 0.012652616,\n",
              " 0.003957854,\n",
              " 0.0077830097,\n",
              " 0.010376747,\n",
              " 0.008317934,\n",
              " 0.014361809,\n",
              " 0.012594172,\n",
              " 0.0106571745,\n",
              " 0.010578592,\n",
              " 0.008677785,\n",
              " 0.011182145,\n",
              " 0.008326093,\n",
              " 0.012468189,\n",
              " 0.009416357,\n",
              " 0.011352596,\n",
              " 0.0015314642,\n",
              " 0.010281942,\n",
              " 0.011781887,\n",
              " 0.015603574,\n",
              " 0.010389738,\n",
              " 0.006665485,\n",
              " 0.0030549704,\n",
              " 0.0077502527,\n",
              " 0.015572909,\n",
              " 0.005215286,\n",
              " 0.011861253,\n",
              " 0.0067087314,\n",
              " 0.016545499,\n",
              " 0.012717858,\n",
              " 0.012792687,\n",
              " 0.007310561,\n",
              " 0.009099477,\n",
              " 0.009224151,\n",
              " 0.0071827895,\n",
              " 0.008029993,\n",
              " 0.0064801853,\n",
              " 0.01458196,\n",
              " 0.011600335,\n",
              " 0.015078458,\n",
              " 0.010386287,\n",
              " 0.012874627,\n",
              " 0.014342891,\n",
              " 0.008729019,\n",
              " 0.015609855,\n",
              " 0.007981238,\n",
              " 0.00685677,\n",
              " 0.010383215,\n",
              " 0.0123539455,\n",
              " 0.017921783,\n",
              " 0.010486695,\n",
              " 0.009293404,\n",
              " 0.011739894,\n",
              " 0.013499822,\n",
              " 0.004421749,\n",
              " 0.009265234,\n",
              " 0.007112907,\n",
              " 0.008922324,\n",
              " 0.01222926,\n",
              " 0.0065940055,\n",
              " 0.009966965,\n",
              " 0.013096362,\n",
              " 0.010119627,\n",
              " 0.007314623,\n",
              " 0.012082091,\n",
              " 0.00639699,\n",
              " 0.0077147014,\n",
              " 0.012189445,\n",
              " 0.011140408,\n",
              " 0.010924629,\n",
              " 0.008532135,\n",
              " 0.005103803,\n",
              " 0.009355476,\n",
              " 0.007080138,\n",
              " 0.012803514,\n",
              " 0.0115157785,\n",
              " 0.0089321975,\n",
              " 0.010810482,\n",
              " 0.008841042,\n",
              " 0.017692167,\n",
              " 0.008038148,\n",
              " 0.009723851,\n",
              " 0.008771037,\n",
              " 0.010208621,\n",
              " 0.009136641,\n",
              " 0.006340614,\n",
              " 0.010743647,\n",
              " 0.010571067,\n",
              " 0.013348049,\n",
              " 0.011889998,\n",
              " 0.009013298,\n",
              " 0.011854089,\n",
              " 0.011416671,\n",
              " 0.010776676,\n",
              " 0.0026464043,\n",
              " 0.01242363,\n",
              " 0.007676076,\n",
              " 0.009705115,\n",
              " 0.0130819185,\n",
              " 0.012717068,\n",
              " 0.007889887,\n",
              " 0.007524242,\n",
              " 0.006809695,\n",
              " 0.01091034,\n",
              " 0.017003939,\n",
              " 0.015325295,\n",
              " 0.009815973,\n",
              " 0.013584525,\n",
              " 0.012177482,\n",
              " 0.005241548,\n",
              " 0.006918967,\n",
              " 0.011615873,\n",
              " 0.013846479,\n",
              " 0.0071126334,\n",
              " 0.010036022,\n",
              " 0.007389675,\n",
              " 0.009837107,\n",
              " 0.009859306,\n",
              " 0.006884306,\n",
              " 0.0140026435,\n",
              " 0.0066598416,\n",
              " 0.006115354,\n",
              " 0.004593285,\n",
              " 0.010928088,\n",
              " 0.008720625,\n",
              " 0.009318647,\n",
              " 0.0075522973,\n",
              " 0.009368372,\n",
              " 0.011029168,\n",
              " 0.009296772,\n",
              " 0.0066814804,\n",
              " 0.008837501,\n",
              " 0.007822754,\n",
              " 0.0055055125,\n",
              " 0.010597276,\n",
              " 0.014759141,\n",
              " 0.008950425,\n",
              " 0.00805589,\n",
              " 0.010205741,\n",
              " 0.007805849,\n",
              " 0.011052206,\n",
              " 0.0062164986,\n",
              " 0.015881909,\n",
              " 0.008045656,\n",
              " 0.013467652,\n",
              " 0.008904279,\n",
              " 0.006381962,\n",
              " 0.0065037753,\n",
              " 0.012282201,\n",
              " 0.0057062116,\n",
              " 0.006092072,\n",
              " 0.008980507,\n",
              " 0.0112999575,\n",
              " 0.0060324566,\n",
              " 0.013252965,\n",
              " 0.010876765,\n",
              " 0.011379011,\n",
              " 0.0083089275,\n",
              " 0.007796788,\n",
              " 0.011095095,\n",
              " 0.005489164,\n",
              " 0.01058586,\n",
              " 0.009065398,\n",
              " 0.008414811,\n",
              " 0.0069769532,\n",
              " 0.009792882,\n",
              " 0.016285181,\n",
              " 0.010102366,\n",
              " 0.0076319575,\n",
              " 0.010513973,\n",
              " 0.007401653,\n",
              " 0.010006309,\n",
              " 0.0107074855,\n",
              " 0.008857132,\n",
              " 0.009583713,\n",
              " 0.00725166,\n",
              " 0.009333121,\n",
              " 0.004137989,\n",
              " 0.0106724175,\n",
              " 0.0034350578,\n",
              " 0.008278252,\n",
              " 0.008099764,\n",
              " 0.01018814,\n",
              " 0.011048254,\n",
              " 0.009458609,\n",
              " 0.012247426,\n",
              " 0.0073265345,\n",
              " 0.008167506,\n",
              " 0.008892589,\n",
              " 0.006410725,\n",
              " 0.009216819,\n",
              " 0.0029664205,\n",
              " 0.013500882,\n",
              " 0.011534171,\n",
              " 0.018763116,\n",
              " 0.007706762,\n",
              " 0.019707646,\n",
              " 0.008687838,\n",
              " 0.013654399,\n",
              " 0.011815265,\n",
              " 0.016558737,\n",
              " 0.008481071,\n",
              " 0.010985853,\n",
              " 0.010284994,\n",
              " 0.007858267,\n",
              " 0.009640762,\n",
              " 0.0073393676,\n",
              " 0.010306053,\n",
              " 0.011216413,\n",
              " 0.010246407,\n",
              " 0.0077567357,\n",
              " 0.008057935,\n",
              " 0.011040407,\n",
              " 0.0091013815,\n",
              " 0.00970813,\n",
              " 0.0072450135,\n",
              " 0.009102475,\n",
              " 0.009605889,\n",
              " 0.007452079,\n",
              " 0.005804942,\n",
              " 0.0056196586,\n",
              " 0.013897863,\n",
              " 0.008219125,\n",
              " 0.014025891,\n",
              " 0.0062724315,\n",
              " 0.0096810125,\n",
              " 0.0060502146,\n",
              " 0.012985224,\n",
              " 0.007868307,\n",
              " 0.0097226305,\n",
              " 0.011901633,\n",
              " 0.0070361504,\n",
              " 0.008125153,\n",
              " 0.010646202,\n",
              " 0.013721624,\n",
              " 0.013078588,\n",
              " 0.009580936,\n",
              " 0.0054339087,\n",
              " 0.015646035,\n",
              " 0.010031239,\n",
              " 0.012997089,\n",
              " 0.008497403,\n",
              " 0.011869946,\n",
              " 0.0152798705,\n",
              " 0.010473828,\n",
              " 0.009099842,\n",
              " 0.00902864,\n",
              " 0.011749716,\n",
              " 0.0084721055,\n",
              " 0.00911425,\n",
              " 0.0084522385,\n",
              " 0.007159314,\n",
              " 0.006525908,\n",
              " 0.011126594,\n",
              " 0.006043654,\n",
              " 0.0085603185,\n",
              " 0.006626918,\n",
              " 0.0034518945,\n",
              " 0.0068115485,\n",
              " 0.013906263,\n",
              " 0.013307093,\n",
              " 0.01396823,\n",
              " 0.0069563733,\n",
              " 0.011840284,\n",
              " 0.010690705,\n",
              " 0.010294669,\n",
              " ...]"
            ]
          },
          "metadata": {},
          "execution_count": 85
        }
      ]
    },
    {
      "cell_type": "code",
      "source": [],
      "metadata": {
        "id": "oddWo-8jBYa_"
      },
      "id": "oddWo-8jBYa_",
      "execution_count": null,
      "outputs": []
    },
    {
      "cell_type": "markdown",
      "source": [
        "DECISION TREE"
      ],
      "metadata": {
        "id": "GzMx3urFB0LI"
      },
      "id": "GzMx3urFB0LI"
    },
    {
      "cell_type": "code",
      "source": [
        "X_train, X_test, y_train, y_test = train_test_split(X, y , test_size=0.2, random_state=42)\n",
        "clf_gini = DecisionTreeClassifier(criterion='gini', max_depth=4, random_state=0,max_features='sqrt')\n",
        "\n",
        "\n",
        "# fit the model\n",
        "clf_gini.fit(X_train, y_train)\n",
        "ywv = clf_gini.predict(X_test)\n",
        "print('Model accuracy score with criterion gini index: {0:0.4f}'. format(accuracy_score(y_test, ywv)))"
      ],
      "metadata": {
        "colab": {
          "base_uri": "https://localhost:8080/"
        },
        "id": "CZBJ6--VBYid",
        "outputId": "70a0876f-ff98-4047-eef6-82b4c2c702a3"
      },
      "id": "CZBJ6--VBYid",
      "execution_count": null,
      "outputs": [
        {
          "output_type": "stream",
          "name": "stdout",
          "text": [
            "Model accuracy score with criterion gini index: 0.6245\n"
          ]
        }
      ]
    },
    {
      "cell_type": "code",
      "source": [],
      "metadata": {
        "id": "euWP6b8EBYmp"
      },
      "id": "euWP6b8EBYmp",
      "execution_count": null,
      "outputs": []
    },
    {
      "cell_type": "markdown",
      "source": [
        "LOGISTIC REGRESSION"
      ],
      "metadata": {
        "id": "fT6GMwKYCS4B"
      },
      "id": "fT6GMwKYCS4B"
    },
    {
      "cell_type": "code",
      "source": [
        "\n",
        "LRMwv = LogisticRegression(random_state=0,max_iter=500)\n",
        "LRMwv.fit(X_train,y_train)\n",
        "y_predwv = LRMwv.predict(X_test)\n",
        "accuracy_score(y_predwv,y_test)"
      ],
      "metadata": {
        "colab": {
          "base_uri": "https://localhost:8080/"
        },
        "id": "YlRoBjeCBYpG",
        "outputId": "82064423-9558-4b1e-9bf0-a0099062bad8"
      },
      "id": "YlRoBjeCBYpG",
      "execution_count": null,
      "outputs": [
        {
          "output_type": "execute_result",
          "data": {
            "text/plain": [
              "0.6547747747747747"
            ]
          },
          "metadata": {},
          "execution_count": 70
        }
      ]
    },
    {
      "cell_type": "code",
      "source": [],
      "metadata": {
        "id": "PXxSL7MrBYsK"
      },
      "id": "PXxSL7MrBYsK",
      "execution_count": null,
      "outputs": []
    },
    {
      "cell_type": "markdown",
      "source": [
        "GLOVE"
      ],
      "metadata": {
        "id": "7EhPIUChDO4M"
      },
      "id": "7EhPIUChDO4M"
    },
    {
      "cell_type": "code",
      "source": [
        "import numpy as np"
      ],
      "metadata": {
        "id": "cyKDhmZQEfjS"
      },
      "id": "cyKDhmZQEfjS",
      "execution_count": null,
      "outputs": []
    },
    {
      "cell_type": "code",
      "source": [
        "import gensim.downloader as api\n",
        "\n",
        "glove_file = api.load(\"glove-twitter-50\")"
      ],
      "metadata": {
        "colab": {
          "base_uri": "https://localhost:8080/"
        },
        "id": "gI4QbXQqBYum",
        "outputId": "45ce5221-4bb8-4f48-cd47-107e432d2c86"
      },
      "id": "gI4QbXQqBYum",
      "execution_count": null,
      "outputs": [
        {
          "output_type": "stream",
          "name": "stdout",
          "text": [
            "[================================================--] 96.2% 191.9/199.5MB downloaded\n"
          ]
        }
      ]
    },
    {
      "cell_type": "code",
      "source": [
        "data = pd.read_csv('sa_data.csv')\n",
        "from nltk.tokenize import word_tokenize\n",
        "data['text'].dropna(inplace=True)\n",
        "data['text'] = data['text'].apply(word_tokenize)\n",
        "\n"
      ],
      "metadata": {
        "id": "CzoUulC6DUG7"
      },
      "id": "CzoUulC6DUG7",
      "execution_count": null,
      "outputs": []
    },
    {
      "cell_type": "code",
      "source": [
        "def text_to_vector(text):\n",
        "    words = str(text).lower().split()\n",
        "    vectors = np.zeros((len(words), 100))\n",
        "    for i, word in enumerate(words):\n",
        "        try:\n",
        "            vectors[i] = glove_file[word]\n",
        "        except KeyError:\n",
        "            pass\n",
        "    return np.mean(vectors, axis=0)\n",
        "\n",
        "\n",
        "\n",
        ""
      ],
      "metadata": {
        "id": "_Qq9VpyMDUM8"
      },
      "id": "_Qq9VpyMDUM8",
      "execution_count": null,
      "outputs": []
    },
    {
      "cell_type": "code",
      "source": [
        "data['vectors'] = data['text'].apply(text_to_vector)"
      ],
      "metadata": {
        "id": "wjD_DiU5DURt"
      },
      "id": "wjD_DiU5DURt",
      "execution_count": null,
      "outputs": []
    },
    {
      "cell_type": "code",
      "source": [
        "X_train, X_test, y_train, y_test = train_test_split(data['vectors'], y, test_size=0.2, random_state=42)"
      ],
      "metadata": {
        "id": "l67yY0ZtDUcv"
      },
      "id": "l67yY0ZtDUcv",
      "execution_count": null,
      "outputs": []
    },
    {
      "cell_type": "markdown",
      "source": [
        "Decision Tree"
      ],
      "metadata": {
        "id": "bIjbEqsJNs1O"
      },
      "id": "bIjbEqsJNs1O"
    },
    {
      "cell_type": "code",
      "source": [
        "\n",
        "clf_gini = DecisionTreeClassifier(criterion='gini', max_depth=4, random_state=0,max_features='sqrt')\n",
        "clf_gini.fit(list(X_train), list(y_train))\n",
        "y_glove = clf_gini.predict(list(X_test))\n",
        "print('Model accuracy score with criterion gini index: {0:0.4f}'. format(accuracy_score(y_test, y_glove)))"
      ],
      "metadata": {
        "colab": {
          "base_uri": "https://localhost:8080/"
        },
        "id": "Zy0OjZ1MNqwf",
        "outputId": "2b5d4e71-92fd-4ee8-824b-a8bc76655cca"
      },
      "id": "Zy0OjZ1MNqwf",
      "execution_count": null,
      "outputs": [
        {
          "output_type": "stream",
          "name": "stdout",
          "text": [
            "Model accuracy score with criterion gini index: 0.6205\n"
          ]
        }
      ]
    },
    {
      "cell_type": "code",
      "source": [],
      "metadata": {
        "id": "6h1kqVPsNqz-"
      },
      "id": "6h1kqVPsNqz-",
      "execution_count": null,
      "outputs": []
    },
    {
      "cell_type": "markdown",
      "source": [
        "LOGICAL Regressor"
      ],
      "metadata": {
        "id": "pc-jSdWJOis3"
      },
      "id": "pc-jSdWJOis3"
    },
    {
      "cell_type": "code",
      "source": [
        "LRMgl = LogisticRegression(random_state=0,max_iter=500)\n",
        "LRMgl.fit(list(X_train),list(y_train))\n",
        "y_predgl = LRMgl.predict(list(X_test))\n",
        "accuracy_score(y_predgl,list(y_test))"
      ],
      "metadata": {
        "colab": {
          "base_uri": "https://localhost:8080/"
        },
        "id": "nAkdUjq0Nq4s",
        "outputId": "8944530d-e7b1-4baa-9bd6-1ab413fe3bc0"
      },
      "id": "nAkdUjq0Nq4s",
      "execution_count": null,
      "outputs": [
        {
          "output_type": "execute_result",
          "data": {
            "text/plain": [
              "0.6205405405405405"
            ]
          },
          "metadata": {},
          "execution_count": 121
        }
      ]
    },
    {
      "cell_type": "code",
      "source": [],
      "metadata": {
        "id": "bMuzfxmGNq8Q"
      },
      "id": "bMuzfxmGNq8Q",
      "execution_count": null,
      "outputs": []
    }
  ],
  "metadata": {
    "kernelspec": {
      "display_name": "Python 3 (ipykernel)",
      "language": "python",
      "name": "python3"
    },
    "language_info": {
      "codemirror_mode": {
        "name": "ipython",
        "version": 3
      },
      "file_extension": ".py",
      "mimetype": "text/x-python",
      "name": "python",
      "nbconvert_exporter": "python",
      "pygments_lexer": "ipython3",
      "version": "3.9.12"
    },
    "colab": {
      "provenance": [],
      "include_colab_link": true
    }
  },
  "nbformat": 4,
  "nbformat_minor": 5
}